{
 "cells": [
  {
   "cell_type": "markdown",
   "metadata": {
    "toc": true
   },
   "source": [
    "<h1>Содержание<span class=\"tocSkip\"></span></h1>\n",
    "<div class=\"toc\"><ul class=\"toc-item\"><li><span><a href=\"#Подготовка-данных\" data-toc-modified-id=\"Подготовка-данных-1\"><span class=\"toc-item-num\">1&nbsp;&nbsp;</span>Подготовка данных</a></span><ul class=\"toc-item\"><li><span><a href=\"#Импортируем-библиотеки-для-работы\" data-toc-modified-id=\"Импортируем-библиотеки-для-работы-1.1\"><span class=\"toc-item-num\">1.1&nbsp;&nbsp;</span>Импортируем библиотеки для работы</a></span></li><li><span><a href=\"#Предобработка-и-проверка-данных\" data-toc-modified-id=\"Предобработка-и-проверка-данных-1.2\"><span class=\"toc-item-num\">1.2&nbsp;&nbsp;</span>Предобработка и проверка данных</a></span><ul class=\"toc-item\"><li><span><a href=\"#Загружаем-файл-для-работы\" data-toc-modified-id=\"Загружаем-файл-для-работы-1.2.1\"><span class=\"toc-item-num\">1.2.1&nbsp;&nbsp;</span>Загружаем файл для работы</a></span></li><li><span><a href=\"#Выводим-общую-информацию-о-таблице\" data-toc-modified-id=\"Выводим-общую-информацию-о-таблице-1.2.2\"><span class=\"toc-item-num\">1.2.2&nbsp;&nbsp;</span>Выводим общую информацию о таблице</a></span></li><li><span><a href=\"#Выводим-первые-десять-строк\" data-toc-modified-id=\"Выводим-первые-десять-строк-1.2.3\"><span class=\"toc-item-num\">1.2.3&nbsp;&nbsp;</span>Выводим первые десять строк</a></span></li><li><span><a href=\"#Выводим-срез-данных-с-пропущенными-значениями\" data-toc-modified-id=\"Выводим-срез-данных-с-пропущенными-значениями-1.2.4\"><span class=\"toc-item-num\">1.2.4&nbsp;&nbsp;</span>Выводим срез данных с пропущенными значениями</a></span></li><li><span><a href=\"#Заменяем-пропуски-на-значение-1\" data-toc-modified-id=\"Заменяем-пропуски-на-значение-1-1.2.5\"><span class=\"toc-item-num\">1.2.5&nbsp;&nbsp;</span>Заменяем пропуски на значение 1</a></span></li><li><span><a href=\"#Выводим-уникальные-значения-столбца-Tenure\" data-toc-modified-id=\"Выводим-уникальные-значения-столбца-Tenure-1.2.6\"><span class=\"toc-item-num\">1.2.6&nbsp;&nbsp;</span>Выводим уникальные значения столбца <code>Tenure</code></a></span></li><li><span><a href=\"#Заменяем-данные-равные-0-на-1\" data-toc-modified-id=\"Заменяем-данные-равные-0-на-1-1.2.7\"><span class=\"toc-item-num\">1.2.7&nbsp;&nbsp;</span>Заменяем данные равные 0 на 1</a></span></li><li><span><a href=\"#Проверяем-данные-на-дубликаты\" data-toc-modified-id=\"Проверяем-данные-на-дубликаты-1.2.8\"><span class=\"toc-item-num\">1.2.8&nbsp;&nbsp;</span>Проверяем данные на дубликаты</a></span></li><li><span><a href=\"#Удаляем-столбцы-которые-не-несут-общих-признаков-для-обучения-и-предсказания-моделями\" data-toc-modified-id=\"Удаляем-столбцы-которые-не-несут-общих-признаков-для-обучения-и-предсказания-моделями-1.2.9\"><span class=\"toc-item-num\">1.2.9&nbsp;&nbsp;</span>Удаляем столбцы которые не несут общих признаков для обучения и предсказания моделями</a></span></li><li><span><a href=\"#Повторно-выводим-информацию-о-датафрейме-после-предобработки\" data-toc-modified-id=\"Повторно-выводим-информацию-о-датафрейме-после-предобработки-1.2.10\"><span class=\"toc-item-num\">1.2.10&nbsp;&nbsp;</span>Повторно выводим информацию о датафрейме после предобработки</a></span></li><li><span><a href=\"#Сторим-графики-для-исследования-данных-по-целевому-признаку\" data-toc-modified-id=\"Сторим-графики-для-исследования-данных-по-целевому-признаку-1.2.11\"><span class=\"toc-item-num\">1.2.11&nbsp;&nbsp;</span>Сторим графики для исследования данных по целевому признаку</a></span></li></ul></li><li><span><a href=\"#Подготовка-данных-и-разделение-на-выборки\" data-toc-modified-id=\"Подготовка-данных-и-разделение-на-выборки-1.3\"><span class=\"toc-item-num\">1.3&nbsp;&nbsp;</span>Подготовка данных и разделение на выборки</a></span><ul class=\"toc-item\"><li><span><a href=\"#Создаем-твалидационную-выборку-в-размере-40-%\" data-toc-modified-id=\"Создаем-твалидационную-выборку-в-размере-40-%-1.3.1\"><span class=\"toc-item-num\">1.3.1&nbsp;&nbsp;</span>Создаем твалидационную выборку в размере 40 %</a></span></li><li><span><a href=\"#Создаем-из-валидационной-выборки-тестовую-в-размере-50%.\" data-toc-modified-id=\"Создаем-из-валидационной-выборки-тестовую-в-размере-50%.-1.3.2\"><span class=\"toc-item-num\">1.3.2&nbsp;&nbsp;</span>Создаем из валидационной выборки тестовую в размере 50%.</a></span></li><li><span><a href=\"#Создаем-целевые-признаки-у-всех-выборок\" data-toc-modified-id=\"Создаем-целевые-признаки-у-всех-выборок-1.3.3\"><span class=\"toc-item-num\">1.3.3&nbsp;&nbsp;</span>Создаем целевые признаки у всех выборок</a></span></li><li><span><a href=\"#Создаем--признаки-у-всех-выборок.-Оставляем-все-колонки-кроме-признака-Exited\" data-toc-modified-id=\"Создаем--признаки-у-всех-выборок.-Оставляем-все-колонки-кроме-признака-Exited-1.3.4\"><span class=\"toc-item-num\">1.3.4&nbsp;&nbsp;</span>Создаем  признаки у всех выборок. Оставляем все колонки кроме признака <code>Exited</code></a></span></li><li><span><a href=\"#Преобразовываем-категориальные-признаки-в-численные-методом-OHE\" data-toc-modified-id=\"Преобразовываем-категориальные-признаки-в-численные-методом-OHE-1.3.5\"><span class=\"toc-item-num\">1.3.5&nbsp;&nbsp;</span>Преобразовываем категориальные признаки в численные методом OHE</a></span></li><li><span><a href=\"#Выбираем-числовые-признаки-для-масштабирования\" data-toc-modified-id=\"Выбираем-числовые-признаки-для-масштабирования-1.3.6\"><span class=\"toc-item-num\">1.3.6&nbsp;&nbsp;</span>Выбираем числовые признаки для масштабирования</a></span></li><li><span><a href=\"#Масштабируем-признаки\" data-toc-modified-id=\"Масштабируем-признаки-1.3.7\"><span class=\"toc-item-num\">1.3.7&nbsp;&nbsp;</span>Масштабируем признаки</a></span></li></ul></li></ul></li><li><span><a href=\"#Исследование-задачи\" data-toc-modified-id=\"Исследование-задачи-2\"><span class=\"toc-item-num\">2&nbsp;&nbsp;</span>Исследование задачи</a></span><ul class=\"toc-item\"><li><span><a href=\"#Исследуем-баланс-классов\" data-toc-modified-id=\"Исследуем-баланс-классов-2.1\"><span class=\"toc-item-num\">2.1&nbsp;&nbsp;</span>Исследуем баланс классов</a></span><ul class=\"toc-item\"><li><span><a href=\"#Исследуем-баланс-классов--моделью-для-предсказаний-DecisionTreeClassifier\" data-toc-modified-id=\"Исследуем-баланс-классов--моделью-для-предсказаний-DecisionTreeClassifier-2.1.1\"><span class=\"toc-item-num\">2.1.1&nbsp;&nbsp;</span>Исследуем баланс классов  моделью для предсказаний DecisionTreeClassifier</a></span></li><li><span><a href=\"#Исследуем-баланс-классов--моделью-для-предсказаний-LogisticRegression\" data-toc-modified-id=\"Исследуем-баланс-классов--моделью-для-предсказаний-LogisticRegression-2.1.2\"><span class=\"toc-item-num\">2.1.2&nbsp;&nbsp;</span>Исследуем баланс классов  моделью для предсказаний LogisticRegression</a></span></li><li><span><a href=\"#Используем-модель-для-предсказаний-DecisionTreeClassifier-с-глубиной-от-1-до-10-без-учета-дисбаланса\" data-toc-modified-id=\"Используем-модель-для-предсказаний-DecisionTreeClassifier-с-глубиной-от-1-до-10-без-учета-дисбаланса-2.1.3\"><span class=\"toc-item-num\">2.1.3&nbsp;&nbsp;</span>Используем модель для предсказаний DecisionTreeClassifier с глубиной от 1 до 10 без учета дисбаланса</a></span></li><li><span><a href=\"#Используем-случайный-лес-с-использованием-разного-количества-деревьев-от-1-до-10-без-учета-дисбаланса\" data-toc-modified-id=\"Используем-случайный-лес-с-использованием-разного-количества-деревьев-от-1-до-10-без-учета-дисбаланса-2.1.4\"><span class=\"toc-item-num\">2.1.4&nbsp;&nbsp;</span>Используем случайный лес с использованием разного количества деревьев от 1 до 10 без учета дисбаланса</a></span></li><li><span><a href=\"#Используем-модель-для-предсказаний-LogisticRegression-без-учета-дисбаланса\" data-toc-modified-id=\"Используем-модель-для-предсказаний-LogisticRegression-без-учета-дисбаланса-2.1.5\"><span class=\"toc-item-num\">2.1.5&nbsp;&nbsp;</span>Используем модель для предсказаний LogisticRegression без учета дисбаланса</a></span></li><li><span><a href=\"#Выводы:\" data-toc-modified-id=\"Выводы:-2.1.6\"><span class=\"toc-item-num\">2.1.6&nbsp;&nbsp;</span>Выводы:</a></span></li></ul></li></ul></li><li><span><a href=\"#Борьба-с-дисбалансом\" data-toc-modified-id=\"Борьба-с-дисбалансом-3\"><span class=\"toc-item-num\">3&nbsp;&nbsp;</span>Борьба с дисбалансом</a></span><ul class=\"toc-item\"><li><span><a href=\"#Взвешивание-классов\" data-toc-modified-id=\"Взвешивание-классов-3.1\"><span class=\"toc-item-num\">3.1&nbsp;&nbsp;</span>Взвешивание классов</a></span><ul class=\"toc-item\"><li><span><a href=\"#Используем-взвешивание-классов-для-модели-LogisticRegression-чтобы-предать-объекту-истины-больший-вес\" data-toc-modified-id=\"Используем-взвешивание-классов-для-модели-LogisticRegression-чтобы-предать-объекту-истины-больший-вес-3.1.1\"><span class=\"toc-item-num\">3.1.1&nbsp;&nbsp;</span>Используем взвешивание классов для модели LogisticRegression чтобы предать объекту истины больший вес</a></span></li><li><span><a href=\"#Используем-взвешивание-классов-для-модели-DecisionTreeClassifier-чтобы-предать-объекту-истины-больший-вес:\" data-toc-modified-id=\"Используем-взвешивание-классов-для-модели-DecisionTreeClassifier-чтобы-предать-объекту-истины-больший-вес:-3.1.2\"><span class=\"toc-item-num\">3.1.2&nbsp;&nbsp;</span>Используем взвешивание классов для модели DecisionTreeClassifier чтобы предать объекту истины больший вес:</a></span></li><li><span><a href=\"#Используем-взвешивание-классов-для-модели-случайный-лес-с-использованием-разного-количества-деревьев-от-1-до-10-чтобы-предать-объекту-истины-больший-вес:\" data-toc-modified-id=\"Используем-взвешивание-классов-для-модели-случайный-лес-с-использованием-разного-количества-деревьев-от-1-до-10-чтобы-предать-объекту-истины-больший-вес:-3.1.3\"><span class=\"toc-item-num\">3.1.3&nbsp;&nbsp;</span>Используем взвешивание классов для модели случайный лес с использованием разного количества деревьев от 1 до 10 чтобы предать объекту истины больший вес:</a></span></li><li><span><a href=\"#Выводы:\" data-toc-modified-id=\"Выводы:-3.1.4\"><span class=\"toc-item-num\">3.1.4&nbsp;&nbsp;</span>Выводы:</a></span></li></ul></li><li><span><a href=\"#Увеличение-положительных-ответов-в-выборке\" data-toc-modified-id=\"Увеличение-положительных-ответов-в-выборке-3.2\"><span class=\"toc-item-num\">3.2&nbsp;&nbsp;</span>Увеличение положительных ответов в выборке</a></span><ul class=\"toc-item\"><li><span><a href=\"#Увеличим-количество-положительных-ответов-для-снижения-дисбаланса-класов-для-предсказаний\" data-toc-modified-id=\"Увеличим-количество-положительных-ответов-для-снижения-дисбаланса-класов-для-предсказаний-3.2.1\"><span class=\"toc-item-num\">3.2.1&nbsp;&nbsp;</span>Увеличим количество положительных ответов для снижения дисбаланса класов для предсказаний</a></span></li><li><span><a href=\"#Используем-увеличенную-выборку-положительных-ответов-для-модели-LogisticRegression-чтобы-предать-объекту-истины-больший-вес\" data-toc-modified-id=\"Используем-увеличенную-выборку-положительных-ответов-для-модели-LogisticRegression-чтобы-предать-объекту-истины-больший-вес-3.2.2\"><span class=\"toc-item-num\">3.2.2&nbsp;&nbsp;</span>Используем увеличенную выборку положительных ответов для модели LogisticRegression чтобы предать объекту истины больший вес</a></span></li><li><span><a href=\"#Используем-увеличенную-выборку-положительных-ответов-для-модели-DecisionTreeClassifier-чтобы-предать-объекту-истины-больший-вес:\" data-toc-modified-id=\"Используем-увеличенную-выборку-положительных-ответов-для-модели-DecisionTreeClassifier-чтобы-предать-объекту-истины-больший-вес:-3.2.3\"><span class=\"toc-item-num\">3.2.3&nbsp;&nbsp;</span>Используем увеличенную выборку положительных ответов для модели DecisionTreeClassifier чтобы предать объекту истины больший вес:</a></span></li><li><span><a href=\"#Используем-увеличение-положительных-ответов-для-модели-RandomForestClassifier-с-использованием-разного-количества-деревьев-от-1-до-10-чтобы-предать-объекту-истины-больший-вес:\" data-toc-modified-id=\"Используем-увеличение-положительных-ответов-для-модели-RandomForestClassifier-с-использованием-разного-количества-деревьев-от-1-до-10-чтобы-предать-объекту-истины-больший-вес:-3.2.4\"><span class=\"toc-item-num\">3.2.4&nbsp;&nbsp;</span>Используем увеличение положительных ответов для модели RandomForestClassifier с использованием разного количества деревьев от 1 до 10 чтобы предать объекту истины больший вес:</a></span></li><li><span><a href=\"#Выводы\" data-toc-modified-id=\"Выводы-3.2.5\"><span class=\"toc-item-num\">3.2.5&nbsp;&nbsp;</span>Выводы</a></span></li></ul></li><li><span><a href=\"#Уменьшение-отрицательных-ответов-в-выборке\" data-toc-modified-id=\"Уменьшение-отрицательных-ответов-в-выборке-3.3\"><span class=\"toc-item-num\">3.3&nbsp;&nbsp;</span>Уменьшение отрицательных ответов в выборке</a></span><ul class=\"toc-item\"><li><span><a href=\"#Уменьшаем-количество-отрицательных-объектов-в-выборке\" data-toc-modified-id=\"Уменьшаем-количество-отрицательных-объектов-в-выборке-3.3.1\"><span class=\"toc-item-num\">3.3.1&nbsp;&nbsp;</span>Уменьшаем количество отрицательных объектов в выборке</a></span></li><li><span><a href=\"#Используем-уменьшеную-выборку-положительных-ответов-для-модели-LogisticRegression-чтобы-предать-объекту-истины-больший-вес\" data-toc-modified-id=\"Используем-уменьшеную-выборку-положительных-ответов-для-модели-LogisticRegression-чтобы-предать-объекту-истины-больший-вес-3.3.2\"><span class=\"toc-item-num\">3.3.2&nbsp;&nbsp;</span>Используем уменьшеную выборку положительных ответов для модели LogisticRegression чтобы предать объекту истины больший вес</a></span></li><li><span><a href=\"#Используем-уменьшеную-выборку-отрицательных-ответов-для-модели-DecisionTreeClassifier-чтобы-предать-объекту-истины-больший-вес\" data-toc-modified-id=\"Используем-уменьшеную-выборку-отрицательных-ответов-для-модели-DecisionTreeClassifier-чтобы-предать-объекту-истины-больший-вес-3.3.3\"><span class=\"toc-item-num\">3.3.3&nbsp;&nbsp;</span>Используем уменьшеную выборку отрицательных ответов для модели DecisionTreeClassifier чтобы предать объекту истины больший вес</a></span></li><li><span><a href=\"#Используем-уменьшение-ложных-ответов-для-модели-RandomForestClassifier-с-использованием-разного-количества-деревьев-от-1-до-10-чтобы-предать-объекту-истины-больший-вес:\" data-toc-modified-id=\"Используем-уменьшение-ложных-ответов-для-модели-RandomForestClassifier-с-использованием-разного-количества-деревьев-от-1-до-10-чтобы-предать-объекту-истины-больший-вес:-3.3.4\"><span class=\"toc-item-num\">3.3.4&nbsp;&nbsp;</span>Используем уменьшение ложных ответов для модели RandomForestClassifier с использованием разного количества деревьев от 1 до 10 чтобы предать объекту истины больший вес:</a></span></li><li><span><a href=\"#Вывод\" data-toc-modified-id=\"Вывод-3.3.5\"><span class=\"toc-item-num\">3.3.5&nbsp;&nbsp;</span>Вывод</a></span></li></ul></li><li><span><a href=\"#Изменение-порога\" data-toc-modified-id=\"Изменение-порога-3.4\"><span class=\"toc-item-num\">3.4&nbsp;&nbsp;</span>Изменение порога</a></span><ul class=\"toc-item\"><li><span><a href=\"#Используем--метод-&quot;Изменение-порога&quot;-для-модели-LogisticRegression\" data-toc-modified-id=\"Используем--метод-&quot;Изменение-порога&quot;-для-модели-LogisticRegression-3.4.1\"><span class=\"toc-item-num\">3.4.1&nbsp;&nbsp;</span>Используем  метод \"Изменение порога\" для модели LogisticRegression</a></span></li><li><span><a href=\"#Используем--метод-&quot;Изменение-порога&quot;-для-модели-DecisionTreeClassifier\" data-toc-modified-id=\"Используем--метод-&quot;Изменение-порога&quot;-для-модели-DecisionTreeClassifier-3.4.2\"><span class=\"toc-item-num\">3.4.2&nbsp;&nbsp;</span>Используем  метод \"Изменение порога\" для модели DecisionTreeClassifier</a></span></li><li><span><a href=\"#Используем--метод-&quot;Изменение-порога&quot;-для-модели-RandomForestClassifier\" data-toc-modified-id=\"Используем--метод-&quot;Изменение-порога&quot;-для-модели-RandomForestClassifier-3.4.3\"><span class=\"toc-item-num\">3.4.3&nbsp;&nbsp;</span>Используем  метод \"Изменение порога\" для модели RandomForestClassifier</a></span></li><li><span><a href=\"#Вывод:\" data-toc-modified-id=\"Вывод:-3.4.4\"><span class=\"toc-item-num\">3.4.4&nbsp;&nbsp;</span>Вывод:</a></span></li></ul></li></ul></li><li><span><a href=\"#Тестирование-модели\" data-toc-modified-id=\"Тестирование-модели-4\"><span class=\"toc-item-num\">4&nbsp;&nbsp;</span>Тестирование модели</a></span><ul class=\"toc-item\"><li><span><a href=\"#Используем-метод-изменения-порога-с-лучшими-показателими-и-моделью-DecisionTreeClassifier-с-глубиной-6\" data-toc-modified-id=\"Используем-метод-изменения-порога-с-лучшими-показателими-и-моделью-DecisionTreeClassifier-с-глубиной-6-4.1\"><span class=\"toc-item-num\">4.1&nbsp;&nbsp;</span>Используем метод изменения порога с лучшими показателими и моделью DecisionTreeClassifier с глубиной 6</a></span></li></ul></li><li><span><a href=\"#Выводы\" data-toc-modified-id=\"Выводы-5\"><span class=\"toc-item-num\">5&nbsp;&nbsp;</span>Выводы</a></span></li></ul></div>"
   ]
  },
  {
   "cell_type": "markdown",
   "metadata": {},
   "source": [
    "# Отток клиентов"
   ]
  },
  {
   "cell_type": "markdown",
   "metadata": {},
   "source": [
    "Из «Бета-Банка» стали уходить клиенты. Каждый месяц. Немного, но заметно. Банковские маркетологи посчитали: сохранять текущих клиентов дешевле, чем привлекать новых.\n",
    "\n",
    "Нужно спрогнозировать, уйдёт клиент из банка в ближайшее время или нет. Вам предоставлены исторические данные о поведении клиентов и расторжении договоров с банком. \n",
    "\n",
    "Построить модель с предельно большим значением *F1*-меры. По заданию, нужно довести метрику до 0.59. Проверьте *F1*-меру на тестовой выборке самостоятельно.\n",
    "\n",
    "Дополнительно измерить *AUC-ROC*, сравнивая её значение с *F1*-мерой.\n",
    "\n",
    "Источник данных: [https://www.kaggle.com/barelydedicated/bank-customer-churn-modeling](https://www.kaggle.com/barelydedicated/bank-customer-churn-modeling)\n",
    "Признаки\n",
    "\n",
    "- `RowNumber` — индекс строки в данных\n",
    "- `CustomerId` — уникальный идентификатор клиента\n",
    "- `Surname` — фамилия\n",
    "- `CreditScore` — кредитный рейтинг\n",
    "- `Geography` — страна проживания\n",
    "- `Gender` — пол\n",
    "- `Age` — возраст\n",
    "- `Tenure` — сколько лет человек является клиентом банка\n",
    "- `Balance` — баланс на счёте\n",
    "- `NumOfProducts` — количество продуктов банка, используемых клиентом\n",
    "- `HasCrCard` — наличие кредитной карты\n",
    "- `IsActiveMember` — активность клиента\n",
    "- `EstimatedSalary` — предполагаемая зарплата\n",
    "\n",
    "Целевой признак\n",
    "\n",
    "- `Exited` — факт ухода клиента"
   ]
  },
  {
   "cell_type": "markdown",
   "metadata": {},
   "source": [
    "## Подготовка данных"
   ]
  },
  {
   "cell_type": "markdown",
   "metadata": {},
   "source": [
    "### Импортируем библиотеки для работы\n"
   ]
  },
  {
   "cell_type": "code",
   "execution_count": 3,
   "metadata": {},
   "outputs": [],
   "source": [
    "import pandas as pd\n",
    "import numpy as np\n",
    "from sklearn.model_selection import train_test_split\n",
    "from sklearn.preprocessing import StandardScaler\n",
    "from sklearn.tree import DecisionTreeClassifier\n",
    "from sklearn.linear_model import LogisticRegression\n",
    "from sklearn.ensemble import RandomForestClassifier \n",
    "from sklearn.metrics import confusion_matrix\n",
    "from sklearn.metrics import f1_score\n",
    "from sklearn.metrics import accuracy_score\n",
    "from sklearn.utils import shuffle\n",
    "from sklearn.metrics import precision_score, recall_score\n",
    "from sklearn.metrics import roc_auc_score\n",
    "from sklearn.metrics import roc_curve\n",
    "import matplotlib.pyplot as plt\n",
    "import seaborn as sns"
   ]
  },
  {
   "cell_type": "markdown",
   "metadata": {},
   "source": [
    "### Предобработка и проверка данных"
   ]
  },
  {
   "cell_type": "markdown",
   "metadata": {},
   "source": [
    "#### Загружаем файл для работы"
   ]
  },
  {
   "cell_type": "code",
   "execution_count": 5,
   "metadata": {},
   "outputs": [],
   "source": [
    "data = pd.read_csv('/datasets/Churn.csv')\n"
   ]
  },
  {
   "cell_type": "code",
   "execution_count": 6,
   "metadata": {},
   "outputs": [],
   "source": [
    "data.to_csv('Churn.csv', index=False)"
   ]
  },
  {
   "cell_type": "markdown",
   "metadata": {},
   "source": [
    "#### Выводим общую информацию о таблице"
   ]
  },
  {
   "cell_type": "code",
   "execution_count": null,
   "metadata": {},
   "outputs": [],
   "source": [
    "data.info()"
   ]
  },
  {
   "cell_type": "markdown",
   "metadata": {},
   "source": [
    "При предварительном осмотре наблюдаются нулевые значения в столбце Tenure"
   ]
  },
  {
   "cell_type": "markdown",
   "metadata": {},
   "source": [
    "#### Выводим первые десять строк"
   ]
  },
  {
   "cell_type": "code",
   "execution_count": null,
   "metadata": {
    "scrolled": true
   },
   "outputs": [],
   "source": [
    "data.head()"
   ]
  },
  {
   "cell_type": "markdown",
   "metadata": {},
   "source": [
    "#### Выводим срез данных с пропущенными значениями"
   ]
  },
  {
   "cell_type": "code",
   "execution_count": null,
   "metadata": {
    "scrolled": false
   },
   "outputs": [],
   "source": [
    "data[data['Tenure'].isnull() == True]"
   ]
  },
  {
   "cell_type": "markdown",
   "metadata": {},
   "source": [
    "#### Заменяем пропуски на значение 1"
   ]
  },
  {
   "cell_type": "code",
   "execution_count": 6,
   "metadata": {},
   "outputs": [],
   "source": [
    "#data.dropna(subset = ['Tenure'], inplace=True)\n",
    "data['Tenure'] = data['Tenure'].fillna(0)"
   ]
  },
  {
   "cell_type": "markdown",
   "metadata": {},
   "source": [
    "#### Выводим уникальные значения столбца `Tenure`"
   ]
  },
  {
   "cell_type": "code",
   "execution_count": 7,
   "metadata": {},
   "outputs": [
    {
     "data": {
      "text/plain": [
       "array([ 2.,  1.,  8.,  7.,  4.,  6.,  3., 10.,  5.,  9.,  0.])"
      ]
     },
     "execution_count": 7,
     "metadata": {},
     "output_type": "execute_result"
    }
   ],
   "source": [
    "data['Tenure'].unique()"
   ]
  },
  {
   "cell_type": "markdown",
   "metadata": {},
   "source": []
  },
  {
   "cell_type": "code",
   "execution_count": 8,
   "metadata": {
    "scrolled": false
   },
   "outputs": [],
   "source": [
    "#data[data['Tenure']==0]"
   ]
  },
  {
   "cell_type": "markdown",
   "metadata": {},
   "source": [
    "#### Заменяем данные равные 0 на 1"
   ]
  },
  {
   "cell_type": "code",
   "execution_count": 9,
   "metadata": {},
   "outputs": [],
   "source": [
    "#data = data.query('Tenure > 0')\n",
    "#data.loc[data['Tenure']==0, 'Tenure']=1"
   ]
  },
  {
   "cell_type": "markdown",
   "metadata": {},
   "source": [
    "#### Проверяем данные на дубликаты"
   ]
  },
  {
   "cell_type": "code",
   "execution_count": 10,
   "metadata": {},
   "outputs": [
    {
     "data": {
      "text/plain": [
       "0"
      ]
     },
     "execution_count": 10,
     "metadata": {},
     "output_type": "execute_result"
    }
   ],
   "source": [
    "data.duplicated().sum()"
   ]
  },
  {
   "cell_type": "markdown",
   "metadata": {},
   "source": [
    "#### Удаляем столбцы которые не несут общих признаков для обучения и предсказания моделями"
   ]
  },
  {
   "cell_type": "code",
   "execution_count": 11,
   "metadata": {},
   "outputs": [
    {
     "data": {
      "text/html": [
       "<div>\n",
       "<style scoped>\n",
       "    .dataframe tbody tr th:only-of-type {\n",
       "        vertical-align: middle;\n",
       "    }\n",
       "\n",
       "    .dataframe tbody tr th {\n",
       "        vertical-align: top;\n",
       "    }\n",
       "\n",
       "    .dataframe thead th {\n",
       "        text-align: right;\n",
       "    }\n",
       "</style>\n",
       "<table border=\"1\" class=\"dataframe\">\n",
       "  <thead>\n",
       "    <tr style=\"text-align: right;\">\n",
       "      <th></th>\n",
       "      <th>CreditScore</th>\n",
       "      <th>Geography</th>\n",
       "      <th>Gender</th>\n",
       "      <th>Age</th>\n",
       "      <th>Tenure</th>\n",
       "      <th>Balance</th>\n",
       "      <th>NumOfProducts</th>\n",
       "      <th>HasCrCard</th>\n",
       "      <th>IsActiveMember</th>\n",
       "      <th>EstimatedSalary</th>\n",
       "      <th>Exited</th>\n",
       "    </tr>\n",
       "  </thead>\n",
       "  <tbody>\n",
       "    <tr>\n",
       "      <th>0</th>\n",
       "      <td>619</td>\n",
       "      <td>France</td>\n",
       "      <td>Female</td>\n",
       "      <td>42</td>\n",
       "      <td>2.0</td>\n",
       "      <td>0.00</td>\n",
       "      <td>1</td>\n",
       "      <td>1</td>\n",
       "      <td>1</td>\n",
       "      <td>101348.88</td>\n",
       "      <td>1</td>\n",
       "    </tr>\n",
       "    <tr>\n",
       "      <th>1</th>\n",
       "      <td>608</td>\n",
       "      <td>Spain</td>\n",
       "      <td>Female</td>\n",
       "      <td>41</td>\n",
       "      <td>1.0</td>\n",
       "      <td>83807.86</td>\n",
       "      <td>1</td>\n",
       "      <td>0</td>\n",
       "      <td>1</td>\n",
       "      <td>112542.58</td>\n",
       "      <td>0</td>\n",
       "    </tr>\n",
       "    <tr>\n",
       "      <th>2</th>\n",
       "      <td>502</td>\n",
       "      <td>France</td>\n",
       "      <td>Female</td>\n",
       "      <td>42</td>\n",
       "      <td>8.0</td>\n",
       "      <td>159660.80</td>\n",
       "      <td>3</td>\n",
       "      <td>1</td>\n",
       "      <td>0</td>\n",
       "      <td>113931.57</td>\n",
       "      <td>1</td>\n",
       "    </tr>\n",
       "    <tr>\n",
       "      <th>3</th>\n",
       "      <td>699</td>\n",
       "      <td>France</td>\n",
       "      <td>Female</td>\n",
       "      <td>39</td>\n",
       "      <td>1.0</td>\n",
       "      <td>0.00</td>\n",
       "      <td>2</td>\n",
       "      <td>0</td>\n",
       "      <td>0</td>\n",
       "      <td>93826.63</td>\n",
       "      <td>0</td>\n",
       "    </tr>\n",
       "    <tr>\n",
       "      <th>4</th>\n",
       "      <td>850</td>\n",
       "      <td>Spain</td>\n",
       "      <td>Female</td>\n",
       "      <td>43</td>\n",
       "      <td>2.0</td>\n",
       "      <td>125510.82</td>\n",
       "      <td>1</td>\n",
       "      <td>1</td>\n",
       "      <td>1</td>\n",
       "      <td>79084.10</td>\n",
       "      <td>0</td>\n",
       "    </tr>\n",
       "  </tbody>\n",
       "</table>\n",
       "</div>"
      ],
      "text/plain": [
       "   CreditScore Geography  Gender  Age  Tenure    Balance  NumOfProducts  \\\n",
       "0          619    France  Female   42     2.0       0.00              1   \n",
       "1          608     Spain  Female   41     1.0   83807.86              1   \n",
       "2          502    France  Female   42     8.0  159660.80              3   \n",
       "3          699    France  Female   39     1.0       0.00              2   \n",
       "4          850     Spain  Female   43     2.0  125510.82              1   \n",
       "\n",
       "   HasCrCard  IsActiveMember  EstimatedSalary  Exited  \n",
       "0          1               1        101348.88       1  \n",
       "1          0               1        112542.58       0  \n",
       "2          1               0        113931.57       1  \n",
       "3          0               0         93826.63       0  \n",
       "4          1               1         79084.10       0  "
      ]
     },
     "execution_count": 11,
     "metadata": {},
     "output_type": "execute_result"
    }
   ],
   "source": [
    "data = data.drop(columns = ['RowNumber', 'CustomerId', 'Surname'],axis = 1)\n",
    "data.head(5)"
   ]
  },
  {
   "cell_type": "markdown",
   "metadata": {},
   "source": [
    "#### Повторно выводим информацию о датафрейме после предобработки"
   ]
  },
  {
   "cell_type": "code",
   "execution_count": 12,
   "metadata": {},
   "outputs": [
    {
     "name": "stdout",
     "output_type": "stream",
     "text": [
      "<class 'pandas.core.frame.DataFrame'>\n",
      "RangeIndex: 10000 entries, 0 to 9999\n",
      "Data columns (total 11 columns):\n",
      " #   Column           Non-Null Count  Dtype  \n",
      "---  ------           --------------  -----  \n",
      " 0   CreditScore      10000 non-null  int64  \n",
      " 1   Geography        10000 non-null  object \n",
      " 2   Gender           10000 non-null  object \n",
      " 3   Age              10000 non-null  int64  \n",
      " 4   Tenure           10000 non-null  float64\n",
      " 5   Balance          10000 non-null  float64\n",
      " 6   NumOfProducts    10000 non-null  int64  \n",
      " 7   HasCrCard        10000 non-null  int64  \n",
      " 8   IsActiveMember   10000 non-null  int64  \n",
      " 9   EstimatedSalary  10000 non-null  float64\n",
      " 10  Exited           10000 non-null  int64  \n",
      "dtypes: float64(3), int64(6), object(2)\n",
      "memory usage: 859.5+ KB\n"
     ]
    }
   ],
   "source": [
    "data.info()"
   ]
  },
  {
   "cell_type": "markdown",
   "metadata": {},
   "source": [
    "Выводы: Из 10000 строк осталось 8709. Потеряно 12% данных от общего количества."
   ]
  },
  {
   "cell_type": "markdown",
   "metadata": {},
   "source": [
    "#### Сторим графики для исследования данных по целевому признаку"
   ]
  },
  {
   "cell_type": "code",
   "execution_count": 1,
   "metadata": {},
   "outputs": [
    {
     "ename": "NameError",
     "evalue": "name 'sns' is not defined",
     "output_type": "error",
     "traceback": [
      "\u001b[0;31m---------------------------------------------------------------------------\u001b[0m",
      "\u001b[0;31mNameError\u001b[0m                                 Traceback (most recent call last)",
      "\u001b[0;32m/tmp/ipykernel_130/529242161.py\u001b[0m in \u001b[0;36m<module>\u001b[0;34m\u001b[0m\n\u001b[0;32m----> 1\u001b[0;31m \u001b[0msns\u001b[0m\u001b[0;34m.\u001b[0m\u001b[0mpairplot\u001b[0m\u001b[0;34m(\u001b[0m\u001b[0mdata\u001b[0m\u001b[0;34m,\u001b[0m \u001b[0mhue\u001b[0m\u001b[0;34m=\u001b[0m\u001b[0;34m'Exited'\u001b[0m\u001b[0;34m,\u001b[0m \u001b[0mcorner\u001b[0m\u001b[0;34m=\u001b[0m\u001b[0;32mTrue\u001b[0m\u001b[0;34m)\u001b[0m\u001b[0;34m;\u001b[0m\u001b[0;34m\u001b[0m\u001b[0;34m\u001b[0m\u001b[0m\n\u001b[0m",
      "\u001b[0;31mNameError\u001b[0m: name 'sns' is not defined"
     ]
    }
   ],
   "source": [
    "sns.pairplot(data, hue='Exited', corner=True);"
   ]
  },
  {
   "cell_type": "markdown",
   "metadata": {},
   "source": [
    "Исходя из графиков наблюдаем что информации в таблице о клиентах, которые не ушли, больше чем о тех которые больше не пользуются банком. В дальнейшем этот дисбаланс может повлиять на предсказания модели."
   ]
  },
  {
   "cell_type": "markdown",
   "metadata": {},
   "source": [
    "### Подготовка данных и разделение на выборки"
   ]
  },
  {
   "cell_type": "markdown",
   "metadata": {},
   "source": []
  },
  {
   "cell_type": "code",
   "execution_count": 14,
   "metadata": {
    "scrolled": false
   },
   "outputs": [],
   "source": [
    "#data_ohe = pd.get_dummies(data, drop_first=True)\n",
    "#data_ohe"
   ]
  },
  {
   "cell_type": "markdown",
   "metadata": {},
   "source": [
    "#### Создаем твалидационную выборку в размере 40 %"
   ]
  },
  {
   "cell_type": "code",
   "execution_count": 15,
   "metadata": {},
   "outputs": [
    {
     "data": {
      "text/plain": [
       "(4000, 11)"
      ]
     },
     "execution_count": 15,
     "metadata": {},
     "output_type": "execute_result"
    }
   ],
   "source": [
    "df_train, df_valid = train_test_split(data, test_size= 0.4, random_state=12345)\n",
    "df_valid.shape"
   ]
  },
  {
   "cell_type": "markdown",
   "metadata": {},
   "source": [
    "#### Создаем из валидационной выборки тестовую в размере 50%."
   ]
  },
  {
   "cell_type": "code",
   "execution_count": 16,
   "metadata": {},
   "outputs": [
    {
     "data": {
      "text/plain": [
       "(2000, 11)"
      ]
     },
     "execution_count": 16,
     "metadata": {},
     "output_type": "execute_result"
    }
   ],
   "source": [
    "df_valid, df_test= train_test_split(df_valid, test_size= 0.5, random_state=12345)\n",
    "df_valid.shape"
   ]
  },
  {
   "cell_type": "markdown",
   "metadata": {},
   "source": [
    "Таким образом получаем 3 выборки : обучающую, валидационную и тестовую в соотношении 3:1:1"
   ]
  },
  {
   "cell_type": "markdown",
   "metadata": {},
   "source": [
    "#### Создаем целевые признаки у всех выборок"
   ]
  },
  {
   "cell_type": "code",
   "execution_count": 17,
   "metadata": {},
   "outputs": [],
   "source": [
    "target_train = df_train['Exited']\n",
    "target_valid = df_valid['Exited']\n",
    "target_test = df_test['Exited']"
   ]
  },
  {
   "cell_type": "markdown",
   "metadata": {},
   "source": [
    " #### Создаем  признаки у всех выборок. Оставляем все колонки кроме признака `Exited`"
   ]
  },
  {
   "cell_type": "code",
   "execution_count": 18,
   "metadata": {},
   "outputs": [],
   "source": [
    "features_train = df_train.drop(['Exited'], axis=1)\n",
    "features_valid = df_valid.drop(['Exited'], axis=1)\n",
    "features_test = df_test.drop(['Exited'], axis=1)"
   ]
  },
  {
   "cell_type": "markdown",
   "metadata": {},
   "source": [
    "#### Преобразовываем категориальные признаки в численные методом OHE"
   ]
  },
  {
   "cell_type": "code",
   "execution_count": 19,
   "metadata": {},
   "outputs": [],
   "source": [
    "features_train = pd.get_dummies(features_train, drop_first=True)\n",
    "features_valid = pd.get_dummies(features_valid, drop_first=True)\n",
    "features_test = pd.get_dummies(features_test, drop_first=True)"
   ]
  },
  {
   "cell_type": "markdown",
   "metadata": {},
   "source": [
    "#### Выбираем числовые признаки для масштабирования"
   ]
  },
  {
   "cell_type": "code",
   "execution_count": 20,
   "metadata": {},
   "outputs": [],
   "source": [
    "numeric = ['CreditScore', 'Age', 'Tenure', 'Balance', 'EstimatedSalary', 'NumOfProducts']"
   ]
  },
  {
   "cell_type": "markdown",
   "metadata": {},
   "source": [
    "#### Масштабируем признаки"
   ]
  },
  {
   "cell_type": "code",
   "execution_count": 21,
   "metadata": {},
   "outputs": [],
   "source": [
    "scaler = StandardScaler()\n",
    "scaler.fit(features_train[numeric])\n",
    "features_train[numeric] = scaler.transform(features_train[numeric])\n",
    "features_valid[numeric] = scaler.transform(features_valid[numeric])\n",
    "features_test[numeric] = scaler.transform(features_test[numeric])"
   ]
  },
  {
   "cell_type": "code",
   "execution_count": 22,
   "metadata": {},
   "outputs": [
    {
     "data": {
      "text/plain": [
       "(6000, 11)"
      ]
     },
     "execution_count": 22,
     "metadata": {},
     "output_type": "execute_result"
    }
   ],
   "source": [
    "features_train.shape"
   ]
  },
  {
   "cell_type": "markdown",
   "metadata": {},
   "source": [
    "Выводы:\n",
    "- Данные предобработаны.Пустые и нулевые значения Заменены на 1.\n",
    "- Удалены столюцы которые не несут в себе общих  признаков. \n",
    "- Все категориальные признаки преобразованы в численные.\n",
    "- Все количественные признаки масштабированы.\n",
    "- Таблица разделена на три выборки в соотношении 3:1:1.\n",
    "- Итоговые размеры выборок:"
   ]
  },
  {
   "cell_type": "code",
   "execution_count": 23,
   "metadata": {},
   "outputs": [
    {
     "name": "stdout",
     "output_type": "stream",
     "text": [
      "(6000, 11)\n",
      "(2000, 11)\n",
      "(2000, 11)\n"
     ]
    }
   ],
   "source": [
    "print(features_train.shape)\n",
    "print(features_valid.shape)\n",
    "print(features_test.shape)"
   ]
  },
  {
   "cell_type": "markdown",
   "metadata": {},
   "source": [
    "## Исследование задачи"
   ]
  },
  {
   "cell_type": "markdown",
   "metadata": {},
   "source": [
    "### Исследуем баланс классов"
   ]
  },
  {
   "cell_type": "markdown",
   "metadata": {},
   "source": [
    "#### Исследуем баланс классов  моделью для предсказаний DecisionTreeClassifier"
   ]
  },
  {
   "cell_type": "code",
   "execution_count": 24,
   "metadata": {},
   "outputs": [
    {
     "name": "stdout",
     "output_type": "stream",
     "text": [
      "[[1376  206]\n",
      " [ 221  197]]\n",
      "F1: 0.47990255785627284\n"
     ]
    }
   ],
   "source": [
    "model = DecisionTreeClassifier(random_state=12345)\n",
    "model.fit(features_train, target_train)\n",
    "predicted_valid = model.predict(features_valid)\n",
    "print(confusion_matrix(target_valid, predicted_valid))\n",
    "print(\"F1:\", f1_score(target_valid, predicted_valid))"
   ]
  },
  {
   "cell_type": "markdown",
   "metadata": {},
   "source": [
    "#### Исследуем баланс классов  моделью для предсказаний LogisticRegression"
   ]
  },
  {
   "cell_type": "code",
   "execution_count": 25,
   "metadata": {},
   "outputs": [
    {
     "name": "stdout",
     "output_type": "stream",
     "text": [
      "[[1376  206]\n",
      " [ 221  197]]\n",
      "F1: 0.47990255785627284\n"
     ]
    }
   ],
   "source": [
    "LogisticRegression(random_state=12345, solver='liblinear')\n",
    "model.fit(features_train, target_train)\n",
    "predicted_valid = model.predict(features_valid)\n",
    "print(confusion_matrix(target_valid, predicted_valid))\n",
    "print(\"F1:\", f1_score(target_valid, predicted_valid))"
   ]
  },
  {
   "cell_type": "markdown",
   "metadata": {},
   "source": [
    "Исходя из матрицы ошибок Модель чаще угадывает ложные признаки чем истинные вне зависимости от модели предсказания. Метрика среднего гармонического менее 0.59"
   ]
  },
  {
   "cell_type": "markdown",
   "metadata": {},
   "source": [
    "#### Используем модель для предсказаний DecisionTreeClassifier с глубиной от 1 до 10 без учета дисбаланса"
   ]
  },
  {
   "cell_type": "code",
   "execution_count": 26,
   "metadata": {},
   "outputs": [
    {
     "name": "stdout",
     "output_type": "stream",
     "text": [
      "max_depth = 1 Accuracy: 0.791 F1: 0.0\n",
      "max_depth = 2 Accuracy: 0.824 F1: 0.5217391304347825\n",
      "max_depth = 3 Accuracy: 0.838 F1: 0.4234875444839857\n",
      "max_depth = 4 Accuracy: 0.852 F1: 0.5528700906344411\n",
      "max_depth = 5 Accuracy: 0.853 F1: 0.5406249999999999\n",
      "max_depth = 6 Accuracy: 0.858 F1: 0.5696969696969697\n",
      "max_depth = 7 Accuracy: 0.8505 F1: 0.5320813771517998\n",
      "max_depth = 8 Accuracy: 0.8505 F1: 0.5449010654490106\n",
      "max_depth = 9 Accuracy: 0.85 F1: 0.5786516853932585\n",
      "Лучший вариант: Accuracy: 0.85 F1: 0.5786516853932585\n"
     ]
    }
   ],
   "source": [
    "best_result = 0.4\n",
    "for depth in range(1, 10):\n",
    "\tmodel = DecisionTreeClassifier(random_state=12345, max_depth=depth) # обучаем модель с заданной глубиной дерева\n",
    "\tmodel.fit(features_train, target_train) # обучаем модель на обучающей выборке\n",
    "\tpredictions = model.predict(features_valid) # получаем предсказания модели на валидационной выборке\n",
    "\tresult = accuracy_score(target_valid, predictions) # считаем качество модели\n",
    "\tresult_f1 = f1_score(target_valid, predictions)# считаем F1 меру\n",
    "\tprint('max_depth =',depth,'Accuracy:',result, 'F1:', result_f1)\n",
    "\tif result_f1 > best_result:\n",
    "\t\tbest_model = result# сохраняем наилучшую модель\n",
    "\t\tbest_result = result_f1#  сохраняем наилучшее значение метрики accuracy на валидационных данных\n",
    "print('Лучший вариант:', 'Accuracy:', best_model, 'F1:', best_result)"
   ]
  },
  {
   "cell_type": "markdown",
   "metadata": {},
   "source": [
    "Наилучший показатель дало дерево с глубиной = 9 Accuracy: 0.8495 F1: 0.5766526019690578"
   ]
  },
  {
   "cell_type": "markdown",
   "metadata": {},
   "source": [
    "#### Используем случайный лес с использованием разного количества деревьев от 1 до 10 без учета дисбаланса"
   ]
  },
  {
   "cell_type": "code",
   "execution_count": 27,
   "metadata": {},
   "outputs": [
    {
     "name": "stdout",
     "output_type": "stream",
     "text": [
      "Деревьев: 1 Accuracy: 0.785 F1: 0.4953051643192488\n",
      "Деревьев: 2 Accuracy: 0.827 F1: 0.4490445859872611\n",
      "Деревьев: 3 Accuracy: 0.827 F1: 0.5411140583554377\n",
      "Деревьев: 4 Accuracy: 0.838 F1: 0.5\n",
      "Деревьев: 5 Accuracy: 0.838 F1: 0.544943820224719\n",
      "Деревьев: 6 Accuracy: 0.8455 F1: 0.5224111282843895\n",
      "Деревьев: 7 Accuracy: 0.8515 F1: 0.577524893314367\n",
      "Деревьев: 8 Accuracy: 0.852 F1: 0.5446153846153846\n",
      "Деревьев: 9 Accuracy: 0.854 F1: 0.5792507204610952\n",
      "Деревьев: 10 Accuracy: 0.8535 F1: 0.556732223903177\n",
      "Лучший вариант: Accuracy: 0.854 F1: 0.5792507204610952\n"
     ]
    }
   ],
   "source": [
    "best_result = 0.4\n",
    "for est in range(1, 11):\n",
    "    model = RandomForestClassifier(random_state=12345, n_estimators=est) # обучаем модель с заданным количеством деревьев\n",
    "    model.fit(features_train, target_train)# обучаем модель на тренировочной выборке\n",
    "    predicted_valid = model.predict(features_valid)\n",
    "    result = model.score(features_valid, target_valid)# считаем качество модели на валидационной выборке\n",
    "    result_f1 = f1_score(target_valid, predicted_valid)\n",
    "    print(\"Деревьев:\", est, \"Accuracy:\", result, \"F1:\", result_f1)\n",
    "    if result_f1 > best_result:\n",
    "        best_model = result#  сохраняем наилучшее значение метрики accuracy на валидационных данных\n",
    "        best_result = result_f1\n",
    "\n",
    "print('Лучший вариант:', 'Accuracy:', best_model, 'F1:', best_result)\n",
    "        \n"
   ]
  },
  {
   "cell_type": "markdown",
   "metadata": {},
   "source": [
    "Наилучший результат показало количество Деревьев: 9 Accuracy: 0.856 F1: 0.5943661971830986. Метрика А1 больше 0,59"
   ]
  },
  {
   "cell_type": "markdown",
   "metadata": {},
   "source": [
    "#### Используем модель для предсказаний LogisticRegression без учета дисбаланса"
   ]
  },
  {
   "cell_type": "code",
   "execution_count": 28,
   "metadata": {},
   "outputs": [
    {
     "name": "stdout",
     "output_type": "stream",
     "text": [
      "Accuracy: 0.8025\n",
      "F1: 0.33389544688026984\n"
     ]
    }
   ],
   "source": [
    "model = LogisticRegression(random_state=12345, solver='liblinear') \n",
    "model.fit(features_train, target_train)\n",
    "predicted_valid = model.predict(features_valid) \n",
    "print('Accuracy:', model.score(features_valid, target_valid))\n",
    "print(\"F1:\", f1_score(target_valid, predicted_valid))"
   ]
  },
  {
   "cell_type": "markdown",
   "metadata": {},
   "source": [
    "Модель LogisticRegression при использовании без учета дисбаланса дала наихудший результат :\n",
    "- Accuracy: 0.803\n",
    "- F1: 0.33670033670033667"
   ]
  },
  {
   "cell_type": "markdown",
   "metadata": {},
   "source": [
    "#### Выводы: "
   ]
  },
  {
   "cell_type": "markdown",
   "metadata": {},
   "source": [
    "\n",
    "- На качество метрики F1 глубина для модели DecisionTreeClassifier оказала влияние: показатель вырос \n",
    "- Наилучший показатель Accuracy был у модели RandomForestClassifier. \n",
    "- Хуже всех показала себя модель Модель LogisticRegression с показателями \n",
    "- Исходя из матрицы ошибок Модель чаще угадывает ложные признаки чем истинные вне зависимости от модели предсказания.\n",
    "- Метрика среднего гармонического у лучшего показателя больше 0.59\n"
   ]
  },
  {
   "cell_type": "markdown",
   "metadata": {},
   "source": [
    "## Борьба с дисбалансом"
   ]
  },
  {
   "cell_type": "markdown",
   "metadata": {},
   "source": [
    "### Взвешивание классов"
   ]
  },
  {
   "cell_type": "markdown",
   "metadata": {},
   "source": [
    "#### Используем взвешивание классов для модели LogisticRegression чтобы предать объекту истины больший вес"
   ]
  },
  {
   "cell_type": "code",
   "execution_count": 29,
   "metadata": {},
   "outputs": [
    {
     "name": "stdout",
     "output_type": "stream",
     "text": [
      "Accuracy: 0.701\n",
      "F1: 0.4888888888888888\n"
     ]
    }
   ],
   "source": [
    "model = LogisticRegression(random_state=12345, solver='liblinear', class_weight ='balanced') \n",
    "model.fit(features_train, target_train)\n",
    "predicted_valid = model.predict(features_valid) \n",
    "print('Accuracy:', model.score(features_valid, target_valid))\n",
    "print(\"F1:\", f1_score(target_valid, predicted_valid))"
   ]
  },
  {
   "cell_type": "markdown",
   "metadata": {},
   "source": [
    "Улучшения для метрики F1 с 0.33 до 0.48 это хорошая динамика. Accuracy уменьшилось с 0.803 до 0.701."
   ]
  },
  {
   "cell_type": "markdown",
   "metadata": {},
   "source": [
    "#### Используем взвешивание классов для модели DecisionTreeClassifier чтобы предать объекту истины больший вес:"
   ]
  },
  {
   "cell_type": "code",
   "execution_count": 30,
   "metadata": {},
   "outputs": [
    {
     "name": "stdout",
     "output_type": "stream",
     "text": [
      "max_depth = 1 Accuracy: 0.7545 F1: 0.4994903160040775\n",
      "max_depth = 2 Accuracy: 0.765 F1: 0.541015625\n",
      "max_depth = 3 Accuracy: 0.765 F1: 0.541015625\n",
      "max_depth = 4 Accuracy: 0.711 F1: 0.5277777777777778\n",
      "max_depth = 5 Accuracy: 0.8105 F1: 0.5963791267305644\n",
      "max_depth = 6 Accuracy: 0.7665 F1: 0.5581835383159887\n",
      "max_depth = 7 Accuracy: 0.778 F1: 0.5559999999999999\n",
      "max_depth = 8 Accuracy: 0.765 F1: 0.5401174168297456\n",
      "max_depth = 9 Accuracy: 0.7625 F1: 0.5338567222767419\n",
      "Лучший вариант: Accuracy: 0.8105 F1: 0.5963791267305644\n"
     ]
    }
   ],
   "source": [
    "best_result = 0.4\n",
    "for depth in range(1, 10):\n",
    "\tmodel = DecisionTreeClassifier(random_state=12345, max_depth=depth, class_weight ='balanced') # обучаем модель с заданной глубиной дерева\n",
    "\tmodel.fit(features_train, target_train) # обучаем модель на обучающей выборке\n",
    "\tpredictions = model.predict(features_valid) # получаем предсказания модели на валидационной выборке\n",
    "\tresult = accuracy_score(target_valid, predictions) # считаем качество модели\n",
    "\tresult_f1 = f1_score(target_valid, predictions)# считаем F1 меру\n",
    "\tprint('max_depth =',depth,'Accuracy:',result, 'F1:', result_f1)\n",
    "\tif result_f1 > best_result:\n",
    "\t\tbest_model = result# сохраняем наилучшую модель\n",
    "\t\tbest_result = result_f1#  сохраняем наилучшее значение метрики accuracy на валидационных данных\n",
    "print('Лучший вариант:', 'Accuracy:', best_model, 'F1:', best_result)"
   ]
  },
  {
   "cell_type": "markdown",
   "metadata": {},
   "source": [
    "Использование аргумента class_weight ='balanced' изменило метрику F1 в большую сторону с F1: 0.57 до 0.5963.Изменилось качество предсказаний: лучший результат 0.8105 с максимального с глубиной 5. Прошлое качество предсказаний было равно 0.84. Так же изменилась глубина дерева с 9 до 5."
   ]
  },
  {
   "cell_type": "markdown",
   "metadata": {},
   "source": [
    "#### Используем взвешивание классов для модели случайный лес с использованием разного количества деревьев от 1 до 10 чтобы предать объекту истины больший вес:"
   ]
  },
  {
   "cell_type": "code",
   "execution_count": 31,
   "metadata": {},
   "outputs": [
    {
     "name": "stdout",
     "output_type": "stream",
     "text": [
      "Деревьев: 1 Accuracy: 0.7705 F1: 0.4631578947368421\n",
      "Деревьев: 2 Accuracy: 0.8215 F1: 0.4099173553719008\n",
      "Деревьев: 3 Accuracy: 0.82 F1: 0.517426273458445\n",
      "Деревьев: 4 Accuracy: 0.8345 F1: 0.4787401574803149\n",
      "Деревьев: 5 Accuracy: 0.836 F1: 0.5393258426966292\n",
      "Деревьев: 6 Accuracy: 0.8435 F1: 0.5162287480680062\n",
      "Деревьев: 7 Accuracy: 0.8425 F1: 0.5531914893617021\n",
      "Деревьев: 8 Accuracy: 0.842 F1: 0.5108359133126935\n",
      "Деревьев: 9 Accuracy: 0.846 F1: 0.5587392550143266\n",
      "Деревьев: 10 Accuracy: 0.8475 F1: 0.5385779122541603\n",
      "Лучший вариант: Accuracy: 0.846 F1: 0.5587392550143266\n"
     ]
    }
   ],
   "source": [
    "best_result = 0.4\n",
    "for est in range(1, 11):\n",
    "    model = RandomForestClassifier(random_state=12345, n_estimators=est, class_weight ='balanced') # обучаем модель с заданным количеством деревьев\n",
    "    model.fit(features_train, target_train) # обучаем модель на тренировочной выборке\n",
    "    predicted_valid = model.predict(features_valid)\n",
    "    result = model.score(features_valid, target_valid)# считаем качество модели на валидационной выборке\n",
    "    result_f1 = f1_score(target_valid, predicted_valid)\n",
    "    print(\"Деревьев:\", est, \"Accuracy:\", result, \"F1:\", result_f1)\n",
    "    if result_f1 > best_result:\n",
    "        best_model = result# сохраняем наилучшую модель\n",
    "        best_result = result_f1#  сохраняем наилучшее значение метрики accuracy на валидационных данных\n",
    "print('Лучший вариант:', 'Accuracy:', best_model, 'F1:', best_result)"
   ]
  },
  {
   "cell_type": "markdown",
   "metadata": {},
   "source": [
    "Наилучший результат показало количество Деревьев: 7 Accuracy: 0.8485 F1: 0.5762237762237762 методом взвешивания классов. Прошлые данные:\n",
    "Деревьев: 9 Accuracy: 0.856 F1: 0.5943661971830986\n",
    "Данный метод показал отрицательную динамику."
   ]
  },
  {
   "cell_type": "markdown",
   "metadata": {},
   "source": [
    "#### Выводы:"
   ]
  },
  {
   "cell_type": "markdown",
   "metadata": {},
   "source": [
    "Использование аргумента class_weight ='balanced' для Логистической регрессии показало небольшую положительную динамику в метрике F1. Лучшие показатели модели DecisionTreeClassifier max_depth = 5 Accuracy: 0.8105 F1: 0.5963791267305644"
   ]
  },
  {
   "cell_type": "markdown",
   "metadata": {},
   "source": [
    "### Увеличение положительных ответов в выборке"
   ]
  },
  {
   "cell_type": "markdown",
   "metadata": {},
   "source": [
    "#### Увеличим количество положительных ответов для снижения дисбаланса класов для предсказаний"
   ]
  },
  {
   "cell_type": "code",
   "execution_count": 32,
   "metadata": {},
   "outputs": [
    {
     "data": {
      "text/plain": [
       "4.016722408026756"
      ]
     },
     "execution_count": 32,
     "metadata": {},
     "output_type": "execute_result"
    }
   ],
   "source": [
    "share = target_train[target_train==0].count()/target_train[target_train==1].count() #считаем dj сколько раз 0 превышает 1\n",
    "def upsample(features, target, repeat):\n",
    "    features_zeros = features[target == 0]\n",
    "    features_ones = features[target == 1]\n",
    "    target_zeros = target[target == 0]\n",
    "    target_ones = target[target == 1]\n",
    "    \n",
    "    features_upsampled = pd.concat([features_zeros] + [features_ones] * repeat)\n",
    "    target_upsampled = pd.concat([target_zeros] + [target_ones] * repeat)\n",
    "    \n",
    "    features_upsampled, target_upsampled = shuffle(features_upsampled, target_upsampled, random_state=12345)\n",
    "    \n",
    "    return features_upsampled, target_upsampled\n",
    "\n",
    "features_upsampled, target_upsampled = upsample(features_train, target_train, 4)\n",
    "share"
   ]
  },
  {
   "cell_type": "markdown",
   "metadata": {},
   "source": [
    "#### Используем увеличенную выборку положительных ответов для модели LogisticRegression чтобы предать объекту истины больший вес"
   ]
  },
  {
   "cell_type": "code",
   "execution_count": 33,
   "metadata": {},
   "outputs": [
    {
     "name": "stdout",
     "output_type": "stream",
     "text": [
      "Accuracy: 0.701\n",
      "F1: 0.4888888888888888\n"
     ]
    }
   ],
   "source": [
    "model = LogisticRegression(random_state=12345, solver='liblinear') \n",
    "model.fit(features_upsampled, target_upsampled)\n",
    "predicted_valid = model.predict(features_valid) \n",
    "print('Accuracy:', model.score(features_valid, target_valid))\n",
    "print(\"F1:\", f1_score(target_valid, predicted_valid))"
   ]
  },
  {
   "cell_type": "markdown",
   "metadata": {},
   "source": [
    "Качество предсказаний по метрике Accuracy не изменилась.Метрика F1 не изменилась.Изменений нет"
   ]
  },
  {
   "cell_type": "markdown",
   "metadata": {},
   "source": [
    "#### Используем увеличенную выборку положительных ответов для модели DecisionTreeClassifier чтобы предать объекту истины больший вес:"
   ]
  },
  {
   "cell_type": "code",
   "execution_count": 34,
   "metadata": {},
   "outputs": [
    {
     "name": "stdout",
     "output_type": "stream",
     "text": [
      "max_depth = 1 Accuracy: 0.7545 F1: 0.4994903160040775\n",
      "max_depth = 2 Accuracy: 0.765 F1: 0.541015625\n",
      "max_depth = 3 Accuracy: 0.765 F1: 0.541015625\n",
      "max_depth = 4 Accuracy: 0.711 F1: 0.5277777777777778\n",
      "max_depth = 5 Accuracy: 0.8105 F1: 0.5963791267305644\n",
      "max_depth = 6 Accuracy: 0.7665 F1: 0.5581835383159887\n",
      "max_depth = 7 Accuracy: 0.779 F1: 0.5571142284569138\n",
      "max_depth = 8 Accuracy: 0.7645 F1: 0.5386875612144956\n",
      "max_depth = 9 Accuracy: 0.761 F1: 0.5304518664047152\n",
      "Лучший вариант: Accuracy: 0.8105 F1: 0.5963791267305644\n"
     ]
    }
   ],
   "source": [
    "best_result = 0.4\n",
    "for depth in range(1, 10):\n",
    "\tmodel = DecisionTreeClassifier(random_state=12345, max_depth=depth) # обучаем модель с заданной глубиной дерева\n",
    "\tmodel.fit(features_upsampled, target_upsampled) # обучаем модель на обучающей выборке\n",
    "\tpredictions = model.predict(features_valid) # получаем предсказания модели на валидационной выборке\n",
    "\tresult = accuracy_score(target_valid, predictions) # считаем качество модели\n",
    "\tresult_f1 = f1_score(target_valid, predictions)# считаем F1 меру\n",
    "\tprint('max_depth =',depth,'Accuracy:',result, 'F1:', result_f1)\n",
    "\tif result_f1 > best_result:\n",
    "\t\tbest_model = result# сохраняем наилучшую модель\n",
    "\t\tbest_result = result_f1#  сохраняем наилучшее значение метрики accuracy на валидационных данных\n",
    "print('Лучший вариант:', 'Accuracy:', best_model, 'F1:', best_result)"
   ]
  },
  {
   "cell_type": "markdown",
   "metadata": {},
   "source": [
    "Метрика F1 не увеличилась.Accuracy  осталась без изменений"
   ]
  },
  {
   "cell_type": "markdown",
   "metadata": {},
   "source": [
    "#### Используем увеличение положительных ответов для модели RandomForestClassifier с использованием разного количества деревьев от 1 до 10 чтобы предать объекту истины больший вес:"
   ]
  },
  {
   "cell_type": "code",
   "execution_count": 35,
   "metadata": {},
   "outputs": [
    {
     "name": "stdout",
     "output_type": "stream",
     "text": [
      "Деревьев: 1 Accuracy: 0.765 F1: 0.48464912280701755\n",
      "Деревьев: 2 Accuracy: 0.81 F1: 0.41538461538461535\n",
      "Деревьев: 3 Accuracy: 0.801 F1: 0.5250596658711217\n",
      "Деревьев: 4 Accuracy: 0.8265 F1: 0.5091937765205092\n",
      "Деревьев: 5 Accuracy: 0.8175 F1: 0.5521472392638036\n",
      "Деревьев: 6 Accuracy: 0.8315 F1: 0.5377229080932785\n",
      "Деревьев: 7 Accuracy: 0.829 F1: 0.5735660847880298\n",
      "Деревьев: 8 Accuracy: 0.8395 F1: 0.5644504748982361\n",
      "Деревьев: 9 Accuracy: 0.8325 F1: 0.5764854614412136\n",
      "Деревьев: 10 Accuracy: 0.8445 F1: 0.5802968960863697\n",
      "Лучший вариант: Accuracy: 0.8445 F1: 0.5802968960863697\n"
     ]
    }
   ],
   "source": [
    "best_result = 0.4\n",
    "for est in range(1, 11):\n",
    "    model = RandomForestClassifier(random_state=12345, n_estimators=est) # обучаем модель с заданным количеством деревьев\n",
    "    model.fit(features_upsampled, target_upsampled) # обучаем модель на тренировочной выборке\n",
    "    predicted_valid = model.predict(features_valid)\n",
    "    result = model.score(features_valid, target_valid)# считаем качество модели на валидационной выборке\n",
    "    result_f1 = f1_score(target_valid, predicted_valid)# считаем F1 меру\n",
    "    print(\"Деревьев:\", est, \"Accuracy:\", result, \"F1:\", result_f1)\n",
    "    if result_f1 > best_result:\n",
    "        best_model = result# сохраняем наилучшую модель\n",
    "        best_result = result_f1#  сохраняем наилучшее значение метрики accuracy на валидационных данных\n",
    "print('Лучший вариант:', 'Accuracy:', best_model, 'F1:', best_result)"
   ]
  },
  {
   "cell_type": "markdown",
   "metadata": {},
   "source": [
    "Наилучший результат показало Деревьев: 10 Accuracy: 0.8445 F1: 0.5802968960863697. Это меньше чем 0,59."
   ]
  },
  {
   "cell_type": "markdown",
   "metadata": {},
   "source": [
    "#### Выводы"
   ]
  },
  {
   "cell_type": "markdown",
   "metadata": {},
   "source": [
    "Данный метод уменьшил метрику А1 для первых двух моделей и улучшил показатель для RandomForestClassifier.Достичь величины F1 большей 0,59 удалось у двух моделей DecisionTreeClassifier - Глубина = 5 Accuracy: 0.8105 F1: 0.5963791267305644\n",
    "и у модели RandomForestClassifier с параметрами Деревьев: 9 Accuracy: 0.843 F1: 0.6084788029925187"
   ]
  },
  {
   "cell_type": "markdown",
   "metadata": {},
   "source": [
    "### Уменьшение отрицательных ответов в выборке"
   ]
  },
  {
   "cell_type": "markdown",
   "metadata": {},
   "source": [
    "#### Уменьшаем количество отрицательных объектов в выборке"
   ]
  },
  {
   "cell_type": "code",
   "execution_count": 36,
   "metadata": {},
   "outputs": [],
   "source": [
    "def downsample(features, target, fraction):\n",
    "    features_zeros = features[target == 0]\n",
    "    features_ones = features[target == 1]\n",
    "    target_zeros = target[target == 0]\n",
    "    target_ones = target[target == 1]\n",
    "\n",
    "    features_downsampled = pd.concat(\n",
    "        [features_zeros.sample(frac=fraction, random_state=12345)] + [features_ones])\n",
    "    target_downsampled = pd.concat(\n",
    "        [target_zeros.sample(frac=fraction, random_state=12345)] + [target_ones])\n",
    "    \n",
    "    features_downsampled, target_downsampled = shuffle(\n",
    "        features_downsampled, target_downsampled, random_state=12345)\n",
    "    \n",
    "    return features_downsampled, target_downsampled\n",
    "\n",
    "features_downsampled, target_downsampled = downsample(features_train, target_train, 0.4)"
   ]
  },
  {
   "cell_type": "markdown",
   "metadata": {},
   "source": [
    "#### Используем уменьшеную выборку отрицательных ответов для модели DecisionTreeClassifier чтобы предать объекту истины больший вес"
   ]
  },
  {
   "cell_type": "code",
   "execution_count": 38,
   "metadata": {},
   "outputs": [
    {
     "name": "stdout",
     "output_type": "stream",
     "text": [
      "max_depth = 1 Accuracy: 0.7545 F1: 0.4994903160040775\n",
      "max_depth = 2 Accuracy: 0.765 F1: 0.541015625\n",
      "max_depth = 3 Accuracy: 0.784 F1: 0.558282208588957\n",
      "max_depth = 4 Accuracy: 0.681 F1: 0.5129770992366411\n",
      "max_depth = 5 Accuracy: 0.77 F1: 0.5542635658914729\n",
      "max_depth = 6 Accuracy: 0.7865 F1: 0.5708542713567839\n",
      "max_depth = 7 Accuracy: 0.769 F1: 0.5666041275797373\n",
      "max_depth = 8 Accuracy: 0.751 F1: 0.5328330206378987\n",
      "max_depth = 9 Accuracy: 0.748 F1: 0.5307262569832403\n",
      "Лучший вариант: Accuracy: 0.7865 F1: 0.5708542713567839\n"
     ]
    }
   ],
   "source": [
    "best_result = 0.4\n",
    "for depth in range(1, 10):\n",
    "\tmodel = DecisionTreeClassifier(random_state=12345, max_depth=depth, class_weight ='balanced') # обучаем модель с заданной глубиной дерева\n",
    "\tmodel.fit(features_downsampled, target_downsampled) # обучаем модель на обучающей выборке\n",
    "\tpredictions = model.predict(features_valid) # получаем предсказания модели на валидационной выборке\n",
    "\tresult = accuracy_score(target_valid, predictions) # считаем качество модели\n",
    "\tresult_f1 = f1_score(target_valid, predictions)# считаем F1 меру\n",
    "\tprint('max_depth =',depth,'Accuracy:',result, 'F1:', result_f1)\n",
    "\tif result_f1 > best_result:\n",
    "\t\tbest_model = result# сохраняем наилучшую модель\n",
    "\t\tbest_result = result_f1#  сохраняем наилучшее значение метрики accuracy на валидационных данных\n",
    "print('Лучший вариант:', 'Accuracy:', best_model, 'F1:', best_result)"
   ]
  },
  {
   "cell_type": "markdown",
   "metadata": {},
   "source": [
    "Получена пока самая высокая метрика F1 при использовании данной модели и остальных max_depth = 6 Accuracy: 0.7865 F1: 0.5708542713567839"
   ]
  },
  {
   "cell_type": "markdown",
   "metadata": {},
   "source": [
    "#### Используем уменьшение ложных ответов для модели RandomForestClassifier с использованием разного количества деревьев от 1 до 10 чтобы предать объекту истины больший вес:"
   ]
  },
  {
   "cell_type": "code",
   "execution_count": 39,
   "metadata": {
    "scrolled": true
   },
   "outputs": [
    {
     "name": "stdout",
     "output_type": "stream",
     "text": [
      "Деревьев: 1 Accuracy: 0.7375 F1: 0.49373191899710706\n",
      "Деревьев: 2 Accuracy: 0.8065 F1: 0.48053691275167787\n",
      "Деревьев: 3 Accuracy: 0.763 F1: 0.5240963855421686\n",
      "Деревьев: 4 Accuracy: 0.8085 F1: 0.5289052890528906\n",
      "Деревьев: 5 Accuracy: 0.781 F1: 0.5408805031446541\n",
      "Деревьев: 6 Accuracy: 0.8175 F1: 0.5575757575757576\n",
      "Деревьев: 7 Accuracy: 0.798 F1: 0.5683760683760684\n",
      "Деревьев: 8 Accuracy: 0.8215 F1: 0.5844004656577416\n",
      "Деревьев: 9 Accuracy: 0.801 F1: 0.5711206896551724\n",
      "Деревьев: 10 Accuracy: 0.8155 F1: 0.576349024110218\n",
      "Лучший вариант: Accuracy: 0.8215 F1: 0.5844004656577416\n"
     ]
    }
   ],
   "source": [
    "best_result = 0.4\n",
    "for est in range(1, 11):\n",
    "    model = RandomForestClassifier(random_state=12345, n_estimators=est, class_weight ='balanced') # обучаем модель с заданным количеством деревьев\n",
    "    model.fit(features_downsampled, target_downsampled) # обучаем модель на тренировочной выборке\n",
    "    predicted_valid = model.predict(features_valid)\n",
    "    result = model.score(features_valid, target_valid)# считаем качество модели на валидационной выборке\n",
    "    result_f1 = f1_score(target_valid, predicted_valid)\n",
    "    print(\"Деревьев:\", est, \"Accuracy:\", result, \"F1:\", result_f1)\n",
    "    if result_f1 > best_result:\n",
    "        best_model = result# сохраняем наилучшую модель\n",
    "        best_result = result_f1#  сохраняем наилучшее значение метрики accuracy на валидационных данных\n",
    "print('Лучший вариант:', 'Accuracy:', best_model, 'F1:', best_result)"
   ]
  },
  {
   "cell_type": "markdown",
   "metadata": {},
   "source": [
    "Лучший показатель Деревьев: 8 Accuracy: 0.8215 F1: 0.5844004656577416"
   ]
  },
  {
   "cell_type": "markdown",
   "metadata": {},
   "source": [
    "#### Вывод"
   ]
  },
  {
   "cell_type": "markdown",
   "metadata": {},
   "source": [
    "Метрики А1 большей 0,59 получить не удалось. Лучший показатель модели RandomForestClassifier Лучший показатель Деревьев: 9 Accuracy: 0.806 F1: 0.5872340425531914"
   ]
  },
  {
   "cell_type": "markdown",
   "metadata": {},
   "source": [
    "### Изменение порога"
   ]
  },
  {
   "cell_type": "markdown",
   "metadata": {},
   "source": [
    "#### Используем  метод \"Изменение порога\" для модели LogisticRegression "
   ]
  },
  {
   "cell_type": "code",
   "execution_count": 40,
   "metadata": {},
   "outputs": [
    {
     "name": "stdout",
     "output_type": "stream",
     "text": [
      "Глубина = 9.00 | Порог = 0.00 | Точность = 0.209, Полнота = 1.000, F1 = 0.346, auc_roc= 0.759\n",
      "Глубина = 9.00 | Порог = 0.02 | Точность = 0.211, Полнота = 1.000, F1 = 0.349, auc_roc= 0.759\n",
      "Глубина = 9.00 | Порог = 0.04 | Точность = 0.227, Полнота = 0.990, F1 = 0.369, auc_roc= 0.759\n",
      "Глубина = 9.00 | Порог = 0.06 | Точность = 0.245, Полнота = 0.967, F1 = 0.391, auc_roc= 0.759\n",
      "Глубина = 9.00 | Порог = 0.08 | Точность = 0.258, Полнота = 0.926, F1 = 0.404, auc_roc= 0.759\n",
      "Глубина = 9.00 | Порог = 0.10 | Точность = 0.276, Полнота = 0.897, F1 = 0.422, auc_roc= 0.759\n",
      "Глубина = 9.00 | Порог = 0.12 | Точность = 0.299, Полнота = 0.864, F1 = 0.444, auc_roc= 0.759\n",
      "Глубина = 9.00 | Порог = 0.14 | Точность = 0.321, Полнота = 0.813, F1 = 0.460, auc_roc= 0.759\n",
      "Глубина = 9.00 | Порог = 0.16 | Точность = 0.337, Полнота = 0.773, F1 = 0.469, auc_roc= 0.759\n",
      "Глубина = 9.00 | Порог = 0.18 | Точность = 0.356, Полнота = 0.730, F1 = 0.479, auc_roc= 0.759\n",
      "Глубина = 9.00 | Порог = 0.20 | Точность = 0.371, Полнота = 0.675, F1 = 0.479, auc_roc= 0.759\n",
      "Глубина = 9.00 | Порог = 0.22 | Точность = 0.389, Полнота = 0.639, F1 = 0.484, auc_roc= 0.759\n",
      "Глубина = 9.00 | Порог = 0.24 | Точность = 0.412, Полнота = 0.615, F1 = 0.493, auc_roc= 0.759\n",
      "Глубина = 9.00 | Порог = 0.26 | Точность = 0.434, Полнота = 0.589, F1 = 0.499, auc_roc= 0.759\n",
      "Глубина = 9.00 | Порог = 0.28 | Точность = 0.436, Полнота = 0.550, F1 = 0.487, auc_roc= 0.759\n",
      "Глубина = 9.00 | Порог = 0.30 | Точность = 0.458, Полнота = 0.522, F1 = 0.488, auc_roc= 0.759\n",
      "Глубина = 9.00 | Порог = 0.32 | Точность = 0.464, Полнота = 0.469, F1 = 0.467, auc_roc= 0.759\n",
      "Глубина = 9.00 | Порог = 0.34 | Точность = 0.483, Полнота = 0.440, F1 = 0.461, auc_roc= 0.759\n",
      "Глубина = 9.00 | Порог = 0.36 | Точность = 0.491, Полнота = 0.407, F1 = 0.445, auc_roc= 0.759\n",
      "Глубина = 9.00 | Порог = 0.38 | Точность = 0.493, Полнота = 0.361, F1 = 0.417, auc_roc= 0.759\n",
      "Глубина = 9.00 | Порог = 0.40 | Точность = 0.504, Полнота = 0.333, F1 = 0.401, auc_roc= 0.759\n",
      "Глубина = 9.00 | Порог = 0.42 | Точность = 0.512, Полнота = 0.309, F1 = 0.385, auc_roc= 0.759\n",
      "Глубина = 9.00 | Порог = 0.44 | Точность = 0.513, Полнота = 0.285, F1 = 0.366, auc_roc= 0.759\n",
      "Глубина = 9.00 | Порог = 0.46 | Точность = 0.550, Полнота = 0.275, F1 = 0.367, auc_roc= 0.759\n",
      "Глубина = 9.00 | Порог = 0.48 | Точность = 0.559, Полнота = 0.261, F1 = 0.356, auc_roc= 0.759\n",
      "Глубина = 9.00 | Порог = 0.50 | Точность = 0.566, Полнота = 0.237, F1 = 0.334, auc_roc= 0.759\n",
      "Глубина = 9.00 | Порог = 0.52 | Точность = 0.604, Полнота = 0.208, F1 = 0.310, auc_roc= 0.759\n",
      "Глубина = 9.00 | Порог = 0.54 | Точность = 0.603, Полнота = 0.182, F1 = 0.279, auc_roc= 0.759\n",
      "Глубина = 9.00 | Порог = 0.56 | Точность = 0.639, Полнота = 0.165, F1 = 0.262, auc_roc= 0.759\n",
      "Глубина = 9.00 | Порог = 0.58 | Точность = 0.670, Полнота = 0.151, F1 = 0.246, auc_roc= 0.759\n",
      "\n",
      "Лучший вариант:   Порог = 0.26 | Точность = 0.434, Полнота = 0.589, F1 = 0.499, auc_roc= 0.759\n",
      "\n"
     ]
    }
   ],
   "source": [
    "best_result = 0.4\n",
    "model = LogisticRegression(random_state=12345, solver='liblinear')\n",
    "model.fit(features_train, target_train)\n",
    "probabilities_valid = model.predict_proba(features_valid)\n",
    "probabilities_one_valid = probabilities_valid[:, 1]\n",
    "for threshold in np.arange(0, 0.6, 0.02):\n",
    "    predicted_valid = probabilities_one_valid > threshold# < напишите код здесь >\n",
    "    precision = precision_score(target_valid, predicted_valid) # < напишите код здесь >\n",
    "    recall = recall_score(target_valid, predicted_valid)\n",
    "    result_f1 = f1_score(target_valid, predicted_valid)\n",
    "    auc_roc = roc_auc_score(target_valid, probabilities_one_valid)\n",
    "    if result_f1 > best_result:\n",
    "        best_threshold = threshold #сохраняем порог\n",
    "        best_precision = precision #сохраняем Точность\n",
    "        best_recall = recall #сохраняем Полнота\n",
    "        best_result = result_f1 #сохраняем F1\n",
    "        best_auc = auc_roc\n",
    "    print(\"Глубина = {:.2f} | Порог = {:.2f} | Точность = {:.3f}, Полнота = {:.3f}, F1 = {:.3f}, auc_roc= {:.3f}\".format(depth,\n",
    "        threshold, precision, recall, result_f1, auc_roc))\n",
    "print('')\n",
    "print(\"Лучший вариант:   Порог = {:.2f} | Точность = {:.3f}, Полнота = {:.3f}, F1 = {:.3f}, auc_roc= {:.3f}\".format(\n",
    "    best_threshold, best_precision, best_recall, best_result, best_auc))\n",
    "print('')"
   ]
  },
  {
   "cell_type": "markdown",
   "metadata": {},
   "source": [
    "При использовании метода изменения порога для модели LogisticRegression получена самая большая метрика F1\n",
    "\n",
    "Порог = 0.26 | Точность = 0.434, Полнота = 0.589, F1 = 0.499, auc_roc= 0.759"
   ]
  },
  {
   "cell_type": "markdown",
   "metadata": {},
   "source": [
    "#### Используем  метод \"Изменение порога\" для модели DecisionTreeClassifier"
   ]
  },
  {
   "cell_type": "code",
   "execution_count": 41,
   "metadata": {},
   "outputs": [
    {
     "name": "stdout",
     "output_type": "stream",
     "text": [
      "Глубина = 1.00 | Порог = 0.00 | Точность = 0.209, Полнота = 1.000, F1 = 0.346, auc_roc= 0.693\n",
      "Глубина = 1.00 | Порог = 0.02 | Точность = 0.209, Полнота = 1.000, F1 = 0.346, auc_roc= 0.693\n",
      "Глубина = 1.00 | Порог = 0.04 | Точность = 0.209, Полнота = 1.000, F1 = 0.346, auc_roc= 0.693\n",
      "Глубина = 1.00 | Порог = 0.06 | Точность = 0.209, Полнота = 1.000, F1 = 0.346, auc_roc= 0.693\n",
      "Глубина = 1.00 | Порог = 0.08 | Точность = 0.209, Полнота = 1.000, F1 = 0.346, auc_roc= 0.693\n",
      "Глубина = 1.00 | Порог = 0.10 | Точность = 0.209, Полнота = 1.000, F1 = 0.346, auc_roc= 0.693\n",
      "Глубина = 1.00 | Порог = 0.12 | Точность = 0.435, Полнота = 0.586, F1 = 0.499, auc_roc= 0.693\n",
      "Глубина = 1.00 | Порог = 0.14 | Точность = 0.435, Полнота = 0.586, F1 = 0.499, auc_roc= 0.693\n",
      "Глубина = 1.00 | Порог = 0.16 | Точность = 0.435, Полнота = 0.586, F1 = 0.499, auc_roc= 0.693\n",
      "Глубина = 1.00 | Порог = 0.18 | Точность = 0.435, Полнота = 0.586, F1 = 0.499, auc_roc= 0.693\n",
      "Глубина = 1.00 | Порог = 0.20 | Точность = 0.435, Полнота = 0.586, F1 = 0.499, auc_roc= 0.693\n",
      "Глубина = 1.00 | Порог = 0.22 | Точность = 0.435, Полнота = 0.586, F1 = 0.499, auc_roc= 0.693\n",
      "Глубина = 1.00 | Порог = 0.24 | Точность = 0.435, Полнота = 0.586, F1 = 0.499, auc_roc= 0.693\n",
      "Глубина = 1.00 | Порог = 0.26 | Точность = 0.435, Полнота = 0.586, F1 = 0.499, auc_roc= 0.693\n",
      "Глубина = 1.00 | Порог = 0.28 | Точность = 0.435, Полнота = 0.586, F1 = 0.499, auc_roc= 0.693\n",
      "Глубина = 1.00 | Порог = 0.30 | Точность = 0.435, Полнота = 0.586, F1 = 0.499, auc_roc= 0.693\n",
      "Глубина = 1.00 | Порог = 0.32 | Точность = 0.435, Полнота = 0.586, F1 = 0.499, auc_roc= 0.693\n",
      "Глубина = 1.00 | Порог = 0.34 | Точность = 0.435, Полнота = 0.586, F1 = 0.499, auc_roc= 0.693\n",
      "Глубина = 1.00 | Порог = 0.36 | Точность = 0.435, Полнота = 0.586, F1 = 0.499, auc_roc= 0.693\n",
      "Глубина = 1.00 | Порог = 0.38 | Точность = 0.435, Полнота = 0.586, F1 = 0.499, auc_roc= 0.693\n",
      "Глубина = 1.00 | Порог = 0.40 | Точность = 0.435, Полнота = 0.586, F1 = 0.499, auc_roc= 0.693\n",
      "Глубина = 1.00 | Порог = 0.42 | Точность = 0.000, Полнота = 0.000, F1 = 0.000, auc_roc= 0.693\n",
      "Глубина = 1.00 | Порог = 0.44 | Точность = 0.000, Полнота = 0.000, F1 = 0.000, auc_roc= 0.693\n",
      "Глубина = 1.00 | Порог = 0.46 | Точность = 0.000, Полнота = 0.000, F1 = 0.000, auc_roc= 0.693\n",
      "Глубина = 1.00 | Порог = 0.48 | Точность = 0.000, Полнота = 0.000, F1 = 0.000, auc_roc= 0.693\n",
      "Глубина = 1.00 | Порог = 0.50 | Точность = 0.000, Полнота = 0.000, F1 = 0.000, auc_roc= 0.693\n",
      "Глубина = 1.00 | Порог = 0.52 | Точность = 0.000, Полнота = 0.000, F1 = 0.000, auc_roc= 0.693\n",
      "Глубина = 1.00 | Порог = 0.54 | Точность = 0.000, Полнота = 0.000, F1 = 0.000, auc_roc= 0.693\n",
      "Глубина = 1.00 | Порог = 0.56 | Точность = 0.000, Полнота = 0.000, F1 = 0.000, auc_roc= 0.693\n",
      "Глубина = 1.00 | Порог = 0.58 | Точность = 0.000, Полнота = 0.000, F1 = 0.000, auc_roc= 0.693\n",
      "\n",
      "Лучший вариант:   Порог = 0.26 | Точность = 0.434, Полнота = 0.589, F1 = 0.500, auc_roc= 0.759\n",
      "\n",
      "Глубина = 2.00 | Порог = 0.00 | Точность = 0.209, Полнота = 1.000, F1 = 0.346, auc_roc= 0.750\n",
      "Глубина = 2.00 | Порог = 0.02 | Точность = 0.209, Полнота = 1.000, F1 = 0.346, auc_roc= 0.750\n",
      "Глубина = 2.00 | Порог = 0.04 | Точность = 0.209, Полнота = 1.000, F1 = 0.346, auc_roc= 0.750\n",
      "Глубина = 2.00 | Порог = 0.06 | Точность = 0.209, Полнота = 1.000, F1 = 0.346, auc_roc= 0.750\n",
      "Глубина = 2.00 | Порог = 0.08 | Точность = 0.209, Полнота = 1.000, F1 = 0.346, auc_roc= 0.750\n",
      "Глубина = 2.00 | Порог = 0.10 | Точность = 0.457, Полнота = 0.663, F1 = 0.541, auc_roc= 0.750\n",
      "Глубина = 2.00 | Порог = 0.12 | Точность = 0.457, Полнота = 0.663, F1 = 0.541, auc_roc= 0.750\n",
      "Глубина = 2.00 | Порог = 0.14 | Точность = 0.457, Полнота = 0.663, F1 = 0.541, auc_roc= 0.750\n",
      "Глубина = 2.00 | Порог = 0.16 | Точность = 0.457, Полнота = 0.663, F1 = 0.541, auc_roc= 0.750\n",
      "Глубина = 2.00 | Порог = 0.18 | Точность = 0.457, Полнота = 0.663, F1 = 0.541, auc_roc= 0.750\n",
      "Глубина = 2.00 | Порог = 0.20 | Точность = 0.457, Полнота = 0.663, F1 = 0.541, auc_roc= 0.750\n",
      "Глубина = 2.00 | Порог = 0.22 | Точность = 0.457, Полнота = 0.663, F1 = 0.541, auc_roc= 0.750\n",
      "Глубина = 2.00 | Порог = 0.24 | Точность = 0.457, Полнота = 0.663, F1 = 0.541, auc_roc= 0.750\n",
      "Глубина = 2.00 | Порог = 0.26 | Точность = 0.604, Полнота = 0.459, F1 = 0.522, auc_roc= 0.750\n",
      "Глубина = 2.00 | Порог = 0.28 | Точность = 0.604, Полнота = 0.459, F1 = 0.522, auc_roc= 0.750\n",
      "Глубина = 2.00 | Порог = 0.30 | Точность = 0.604, Полнота = 0.459, F1 = 0.522, auc_roc= 0.750\n",
      "Глубина = 2.00 | Порог = 0.32 | Точность = 0.604, Полнота = 0.459, F1 = 0.522, auc_roc= 0.750\n",
      "Глубина = 2.00 | Порог = 0.34 | Точность = 0.604, Полнота = 0.459, F1 = 0.522, auc_roc= 0.750\n",
      "Глубина = 2.00 | Порог = 0.36 | Точность = 0.604, Полнота = 0.459, F1 = 0.522, auc_roc= 0.750\n",
      "Глубина = 2.00 | Порог = 0.38 | Точность = 0.604, Полнота = 0.459, F1 = 0.522, auc_roc= 0.750\n",
      "Глубина = 2.00 | Порог = 0.40 | Точность = 0.604, Полнота = 0.459, F1 = 0.522, auc_roc= 0.750\n",
      "Глубина = 2.00 | Порог = 0.42 | Точность = 0.604, Полнота = 0.459, F1 = 0.522, auc_roc= 0.750\n"
     ]
    },
    {
     "name": "stderr",
     "output_type": "stream",
     "text": [
      "/opt/conda/lib/python3.9/site-packages/sklearn/metrics/_classification.py:1245: UndefinedMetricWarning: Precision is ill-defined and being set to 0.0 due to no predicted samples. Use `zero_division` parameter to control this behavior.\n",
      "  _warn_prf(average, modifier, msg_start, len(result))\n",
      "/opt/conda/lib/python3.9/site-packages/sklearn/metrics/_classification.py:1245: UndefinedMetricWarning: Precision is ill-defined and being set to 0.0 due to no predicted samples. Use `zero_division` parameter to control this behavior.\n",
      "  _warn_prf(average, modifier, msg_start, len(result))\n",
      "/opt/conda/lib/python3.9/site-packages/sklearn/metrics/_classification.py:1245: UndefinedMetricWarning: Precision is ill-defined and being set to 0.0 due to no predicted samples. Use `zero_division` parameter to control this behavior.\n",
      "  _warn_prf(average, modifier, msg_start, len(result))\n",
      "/opt/conda/lib/python3.9/site-packages/sklearn/metrics/_classification.py:1245: UndefinedMetricWarning: Precision is ill-defined and being set to 0.0 due to no predicted samples. Use `zero_division` parameter to control this behavior.\n",
      "  _warn_prf(average, modifier, msg_start, len(result))\n",
      "/opt/conda/lib/python3.9/site-packages/sklearn/metrics/_classification.py:1245: UndefinedMetricWarning: Precision is ill-defined and being set to 0.0 due to no predicted samples. Use `zero_division` parameter to control this behavior.\n",
      "  _warn_prf(average, modifier, msg_start, len(result))\n",
      "/opt/conda/lib/python3.9/site-packages/sklearn/metrics/_classification.py:1245: UndefinedMetricWarning: Precision is ill-defined and being set to 0.0 due to no predicted samples. Use `zero_division` parameter to control this behavior.\n",
      "  _warn_prf(average, modifier, msg_start, len(result))\n",
      "/opt/conda/lib/python3.9/site-packages/sklearn/metrics/_classification.py:1245: UndefinedMetricWarning: Precision is ill-defined and being set to 0.0 due to no predicted samples. Use `zero_division` parameter to control this behavior.\n",
      "  _warn_prf(average, modifier, msg_start, len(result))\n",
      "/opt/conda/lib/python3.9/site-packages/sklearn/metrics/_classification.py:1245: UndefinedMetricWarning: Precision is ill-defined and being set to 0.0 due to no predicted samples. Use `zero_division` parameter to control this behavior.\n",
      "  _warn_prf(average, modifier, msg_start, len(result))\n",
      "/opt/conda/lib/python3.9/site-packages/sklearn/metrics/_classification.py:1245: UndefinedMetricWarning: Precision is ill-defined and being set to 0.0 due to no predicted samples. Use `zero_division` parameter to control this behavior.\n",
      "  _warn_prf(average, modifier, msg_start, len(result))\n"
     ]
    },
    {
     "name": "stdout",
     "output_type": "stream",
     "text": [
      "Глубина = 2.00 | Порог = 0.44 | Точность = 0.604, Полнота = 0.459, F1 = 0.522, auc_roc= 0.750\n",
      "Глубина = 2.00 | Порог = 0.46 | Точность = 0.604, Полнота = 0.459, F1 = 0.522, auc_roc= 0.750\n",
      "Глубина = 2.00 | Порог = 0.48 | Точность = 0.604, Полнота = 0.459, F1 = 0.522, auc_roc= 0.750\n",
      "Глубина = 2.00 | Порог = 0.50 | Точность = 0.604, Полнота = 0.459, F1 = 0.522, auc_roc= 0.750\n",
      "Глубина = 2.00 | Порог = 0.52 | Точность = 0.604, Полнота = 0.459, F1 = 0.522, auc_roc= 0.750\n",
      "Глубина = 2.00 | Порог = 0.54 | Точность = 0.604, Полнота = 0.459, F1 = 0.522, auc_roc= 0.750\n",
      "Глубина = 2.00 | Порог = 0.56 | Точность = 0.604, Полнота = 0.459, F1 = 0.522, auc_roc= 0.750\n",
      "Глубина = 2.00 | Порог = 0.58 | Точность = 0.604, Полнота = 0.459, F1 = 0.522, auc_roc= 0.750\n",
      "\n",
      "Лучший вариант:   Порог = 0.10 | Точность = 0.457, Полнота = 0.663, F1 = 0.541, auc_roc= 0.750\n",
      "\n",
      "Глубина = 3.00 | Порог = 0.00 | Точность = 0.209, Полнота = 1.000, F1 = 0.346, auc_roc= 0.797\n",
      "Глубина = 3.00 | Порог = 0.02 | Точность = 0.209, Полнота = 1.000, F1 = 0.346, auc_roc= 0.797\n",
      "Глубина = 3.00 | Порог = 0.04 | Точность = 0.209, Полнота = 1.000, F1 = 0.346, auc_roc= 0.797\n",
      "Глубина = 3.00 | Порог = 0.06 | Точность = 0.297, Полнота = 0.914, F1 = 0.448, auc_roc= 0.797\n",
      "Глубина = 3.00 | Порог = 0.08 | Точность = 0.297, Полнота = 0.914, F1 = 0.448, auc_roc= 0.797\n",
      "Глубина = 3.00 | Порог = 0.10 | Точность = 0.297, Полнота = 0.914, F1 = 0.448, auc_roc= 0.797\n",
      "Глубина = 3.00 | Порог = 0.12 | Точность = 0.297, Полнота = 0.914, F1 = 0.448, auc_roc= 0.797\n",
      "Глубина = 3.00 | Порог = 0.14 | Точность = 0.297, Полнота = 0.914, F1 = 0.448, auc_roc= 0.797\n",
      "Глубина = 3.00 | Порог = 0.16 | Точность = 0.457, Полнота = 0.663, F1 = 0.541, auc_roc= 0.797\n",
      "Глубина = 3.00 | Порог = 0.18 | Точность = 0.457, Полнота = 0.663, F1 = 0.541, auc_roc= 0.797\n",
      "Глубина = 3.00 | Порог = 0.20 | Точность = 0.457, Полнота = 0.663, F1 = 0.541, auc_roc= 0.797\n",
      "Глубина = 3.00 | Порог = 0.22 | Точность = 0.457, Полнота = 0.663, F1 = 0.541, auc_roc= 0.797\n",
      "Глубина = 3.00 | Порог = 0.24 | Точность = 0.617, Полнота = 0.490, F1 = 0.547, auc_roc= 0.797\n",
      "Глубина = 3.00 | Порог = 0.26 | Точность = 0.617, Полнота = 0.490, F1 = 0.547, auc_roc= 0.797\n",
      "Глубина = 3.00 | Порог = 0.28 | Точность = 0.617, Полнота = 0.490, F1 = 0.547, auc_roc= 0.797\n",
      "Глубина = 3.00 | Порог = 0.30 | Точность = 0.617, Полнота = 0.490, F1 = 0.547, auc_roc= 0.797\n",
      "Глубина = 3.00 | Порог = 0.32 | Точность = 0.617, Полнота = 0.490, F1 = 0.547, auc_roc= 0.797\n",
      "Глубина = 3.00 | Порог = 0.34 | Точность = 0.617, Полнота = 0.490, F1 = 0.547, auc_roc= 0.797\n",
      "Глубина = 3.00 | Порог = 0.36 | Точность = 0.617, Полнота = 0.490, F1 = 0.547, auc_roc= 0.797\n",
      "Глубина = 3.00 | Порог = 0.38 | Точность = 0.617, Полнота = 0.490, F1 = 0.547, auc_roc= 0.797\n",
      "Глубина = 3.00 | Порог = 0.40 | Точность = 0.617, Полнота = 0.490, F1 = 0.547, auc_roc= 0.797\n",
      "Глубина = 3.00 | Порог = 0.42 | Точность = 0.620, Полнота = 0.464, F1 = 0.531, auc_roc= 0.797\n",
      "Глубина = 3.00 | Порог = 0.44 | Точность = 0.620, Полнота = 0.464, F1 = 0.531, auc_roc= 0.797\n",
      "Глубина = 3.00 | Порог = 0.46 | Точность = 0.620, Полнота = 0.464, F1 = 0.531, auc_roc= 0.797\n",
      "Глубина = 3.00 | Порог = 0.48 | Точность = 0.826, Полнота = 0.285, F1 = 0.423, auc_roc= 0.797\n",
      "Глубина = 3.00 | Порог = 0.50 | Точность = 0.826, Полнота = 0.285, F1 = 0.423, auc_roc= 0.797\n",
      "Глубина = 3.00 | Порог = 0.52 | Точность = 0.826, Полнота = 0.285, F1 = 0.423, auc_roc= 0.797\n",
      "Глубина = 3.00 | Порог = 0.54 | Точность = 0.826, Полнота = 0.285, F1 = 0.423, auc_roc= 0.797\n",
      "Глубина = 3.00 | Порог = 0.56 | Точность = 0.826, Полнота = 0.285, F1 = 0.423, auc_roc= 0.797\n",
      "Глубина = 3.00 | Порог = 0.58 | Точность = 0.826, Полнота = 0.285, F1 = 0.423, auc_roc= 0.797\n",
      "\n",
      "Лучший вариант:   Порог = 0.24 | Точность = 0.617, Полнота = 0.490, F1 = 0.547, auc_roc= 0.797\n",
      "\n",
      "Глубина = 4.00 | Порог = 0.00 | Точность = 0.209, Полнота = 0.998, F1 = 0.345, auc_roc= 0.813\n",
      "Глубина = 4.00 | Порог = 0.02 | Точность = 0.253, Полнота = 0.964, F1 = 0.401, auc_roc= 0.813\n",
      "Глубина = 4.00 | Порог = 0.04 | Точность = 0.253, Полнота = 0.964, F1 = 0.401, auc_roc= 0.813\n",
      "Глубина = 4.00 | Порог = 0.06 | Точность = 0.253, Полнота = 0.964, F1 = 0.401, auc_roc= 0.813\n",
      "Глубина = 4.00 | Порог = 0.08 | Точность = 0.296, Полнота = 0.911, F1 = 0.447, auc_roc= 0.813\n",
      "Глубина = 4.00 | Порог = 0.10 | Точность = 0.296, Полнота = 0.911, F1 = 0.447, auc_roc= 0.813\n",
      "Глубина = 4.00 | Порог = 0.12 | Точность = 0.296, Полнота = 0.911, F1 = 0.447, auc_roc= 0.813\n",
      "Глубина = 4.00 | Порог = 0.14 | Точность = 0.409, Полнота = 0.756, F1 = 0.531, auc_roc= 0.813\n",
      "Глубина = 4.00 | Порог = 0.16 | Точность = 0.409, Полнота = 0.756, F1 = 0.531, auc_roc= 0.813\n",
      "Глубина = 4.00 | Порог = 0.18 | Точность = 0.475, Полнота = 0.648, F1 = 0.549, auc_roc= 0.813\n",
      "Глубина = 4.00 | Порог = 0.20 | Точность = 0.475, Полнота = 0.648, F1 = 0.549, auc_roc= 0.813\n",
      "Глубина = 4.00 | Порог = 0.22 | Точность = 0.475, Полнота = 0.648, F1 = 0.549, auc_roc= 0.813\n",
      "Глубина = 4.00 | Порог = 0.24 | Точность = 0.475, Полнота = 0.648, F1 = 0.549, auc_roc= 0.813\n",
      "Глубина = 4.00 | Порог = 0.26 | Точность = 0.576, Полнота = 0.553, F1 = 0.564, auc_roc= 0.813\n",
      "Глубина = 4.00 | Порог = 0.28 | Точность = 0.582, Полнота = 0.541, F1 = 0.561, auc_roc= 0.813\n",
      "Глубина = 4.00 | Порог = 0.30 | Точность = 0.582, Полнота = 0.541, F1 = 0.561, auc_roc= 0.813\n",
      "Глубина = 4.00 | Порог = 0.32 | Точность = 0.667, Полнота = 0.502, F1 = 0.573, auc_roc= 0.813\n",
      "Глубина = 4.00 | Порог = 0.34 | Точность = 0.667, Полнота = 0.502, F1 = 0.573, auc_roc= 0.813\n",
      "Глубина = 4.00 | Порог = 0.36 | Точность = 0.667, Полнота = 0.502, F1 = 0.573, auc_roc= 0.813\n",
      "Глубина = 4.00 | Порог = 0.38 | Точность = 0.667, Полнота = 0.502, F1 = 0.573, auc_roc= 0.813\n",
      "Глубина = 4.00 | Порог = 0.40 | Точность = 0.667, Полнота = 0.502, F1 = 0.573, auc_roc= 0.813\n",
      "Глубина = 4.00 | Порог = 0.42 | Точность = 0.750, Полнота = 0.438, F1 = 0.553, auc_roc= 0.813\n",
      "Глубина = 4.00 | Порог = 0.44 | Точность = 0.750, Полнота = 0.438, F1 = 0.553, auc_roc= 0.813\n",
      "Глубина = 4.00 | Порог = 0.46 | Точность = 0.750, Полнота = 0.438, F1 = 0.553, auc_roc= 0.813\n",
      "Глубина = 4.00 | Порог = 0.48 | Точность = 0.750, Полнота = 0.438, F1 = 0.553, auc_roc= 0.813\n",
      "Глубина = 4.00 | Порог = 0.50 | Точность = 0.750, Полнота = 0.438, F1 = 0.553, auc_roc= 0.813\n",
      "Глубина = 4.00 | Порог = 0.52 | Точность = 0.750, Полнота = 0.438, F1 = 0.553, auc_roc= 0.813\n",
      "Глубина = 4.00 | Порог = 0.54 | Точность = 0.750, Полнота = 0.438, F1 = 0.553, auc_roc= 0.813\n",
      "Глубина = 4.00 | Порог = 0.56 | Точность = 0.750, Полнота = 0.438, F1 = 0.553, auc_roc= 0.813\n",
      "Глубина = 4.00 | Порог = 0.58 | Точность = 0.750, Полнота = 0.438, F1 = 0.553, auc_roc= 0.813\n",
      "\n",
      "Лучший вариант:   Порог = 0.32 | Точность = 0.667, Полнота = 0.502, F1 = 0.573, auc_roc= 0.813\n",
      "\n",
      "Глубина = 5.00 | Порог = 0.00 | Точность = 0.208, Полнота = 0.993, F1 = 0.344, auc_roc= 0.822\n",
      "Глубина = 5.00 | Порог = 0.02 | Точность = 0.252, Полнота = 0.959, F1 = 0.399, auc_roc= 0.822\n",
      "Глубина = 5.00 | Порог = 0.04 | Точность = 0.252, Полнота = 0.959, F1 = 0.399, auc_roc= 0.822\n",
      "Глубина = 5.00 | Порог = 0.06 | Точность = 0.252, Полнота = 0.959, F1 = 0.399, auc_roc= 0.822\n",
      "Глубина = 5.00 | Порог = 0.08 | Точность = 0.294, Полнота = 0.907, F1 = 0.445, auc_roc= 0.822\n",
      "Глубина = 5.00 | Порог = 0.10 | Точность = 0.404, Полнота = 0.782, F1 = 0.533, auc_roc= 0.822\n",
      "Глубина = 5.00 | Порог = 0.12 | Точность = 0.404, Полнота = 0.782, F1 = 0.533, auc_roc= 0.822\n",
      "Глубина = 5.00 | Порог = 0.14 | Точность = 0.404, Полнота = 0.782, F1 = 0.533, auc_roc= 0.822\n",
      "Глубина = 5.00 | Порог = 0.16 | Точность = 0.404, Полнота = 0.782, F1 = 0.533, auc_roc= 0.822\n",
      "Глубина = 5.00 | Порог = 0.18 | Точность = 0.426, Полнота = 0.742, F1 = 0.541, auc_roc= 0.822\n",
      "Глубина = 5.00 | Порог = 0.20 | Точность = 0.463, Полнота = 0.708, F1 = 0.560, auc_roc= 0.822\n",
      "Глубина = 5.00 | Порог = 0.22 | Точность = 0.463, Полнота = 0.708, F1 = 0.560, auc_roc= 0.822\n",
      "Глубина = 5.00 | Порог = 0.24 | Точность = 0.627, Полнота = 0.555, F1 = 0.589, auc_roc= 0.822\n",
      "Глубина = 5.00 | Порог = 0.26 | Точность = 0.632, Полнота = 0.555, F1 = 0.591, auc_roc= 0.822\n",
      "Глубина = 5.00 | Порог = 0.28 | Точность = 0.632, Полнота = 0.555, F1 = 0.591, auc_roc= 0.822\n",
      "Глубина = 5.00 | Порог = 0.30 | Точность = 0.632, Полнота = 0.555, F1 = 0.591, auc_roc= 0.822\n",
      "Глубина = 5.00 | Порог = 0.32 | Точность = 0.632, Полнота = 0.555, F1 = 0.591, auc_roc= 0.822\n",
      "Глубина = 5.00 | Порог = 0.34 | Точность = 0.720, Полнота = 0.493, F1 = 0.585, auc_roc= 0.822\n",
      "Глубина = 5.00 | Порог = 0.36 | Точность = 0.720, Полнота = 0.493, F1 = 0.585, auc_roc= 0.822\n",
      "Глубина = 5.00 | Порог = 0.38 | Точность = 0.720, Полнота = 0.493, F1 = 0.585, auc_roc= 0.822\n",
      "Глубина = 5.00 | Порог = 0.40 | Точность = 0.720, Полнота = 0.493, F1 = 0.585, auc_roc= 0.822\n",
      "Глубина = 5.00 | Порог = 0.42 | Точность = 0.720, Полнота = 0.493, F1 = 0.585, auc_roc= 0.822\n",
      "Глубина = 5.00 | Порог = 0.44 | Точность = 0.720, Полнота = 0.493, F1 = 0.585, auc_roc= 0.822\n",
      "Глубина = 5.00 | Порог = 0.46 | Точность = 0.720, Полнота = 0.493, F1 = 0.585, auc_roc= 0.822\n",
      "Глубина = 5.00 | Порог = 0.48 | Точность = 0.774, Полнота = 0.426, F1 = 0.549, auc_roc= 0.822\n",
      "Глубина = 5.00 | Порог = 0.50 | Точность = 0.779, Полнота = 0.414, F1 = 0.541, auc_roc= 0.822\n",
      "Глубина = 5.00 | Порог = 0.52 | Точность = 0.831, Полнота = 0.364, F1 = 0.506, auc_roc= 0.822\n",
      "Глубина = 5.00 | Порог = 0.54 | Точность = 0.831, Полнота = 0.364, F1 = 0.506, auc_roc= 0.822\n",
      "Глубина = 5.00 | Порог = 0.56 | Точность = 0.831, Полнота = 0.364, F1 = 0.506, auc_roc= 0.822\n",
      "Глубина = 5.00 | Порог = 0.58 | Точность = 0.831, Полнота = 0.364, F1 = 0.506, auc_roc= 0.822\n",
      "\n",
      "Лучший вариант:   Порог = 0.26 | Точность = 0.632, Полнота = 0.555, F1 = 0.591, auc_roc= 0.822\n",
      "\n",
      "Глубина = 6.00 | Порог = 0.00 | Точность = 0.207, Полнота = 0.986, F1 = 0.342, auc_roc= 0.816\n",
      "Глубина = 6.00 | Порог = 0.02 | Точность = 0.251, Полнота = 0.952, F1 = 0.398, auc_roc= 0.816\n",
      "Глубина = 6.00 | Порог = 0.04 | Точность = 0.252, Полнота = 0.943, F1 = 0.397, auc_roc= 0.816\n",
      "Глубина = 6.00 | Порог = 0.06 | Точность = 0.261, Полнота = 0.935, F1 = 0.408, auc_roc= 0.816\n",
      "Глубина = 6.00 | Порог = 0.08 | Точность = 0.394, Полнота = 0.816, F1 = 0.531, auc_roc= 0.816\n",
      "Глубина = 6.00 | Порог = 0.10 | Точность = 0.402, Полнота = 0.809, F1 = 0.537, auc_roc= 0.816\n",
      "Глубина = 6.00 | Порог = 0.12 | Точность = 0.402, Полнота = 0.797, F1 = 0.535, auc_roc= 0.816\n",
      "Глубина = 6.00 | Порог = 0.14 | Точность = 0.402, Полнота = 0.797, F1 = 0.535, auc_roc= 0.816\n",
      "Глубина = 6.00 | Порог = 0.16 | Точность = 0.402, Полнота = 0.797, F1 = 0.535, auc_roc= 0.816\n",
      "Глубина = 6.00 | Порог = 0.18 | Точность = 0.413, Полнота = 0.739, F1 = 0.530, auc_roc= 0.816\n",
      "Глубина = 6.00 | Порог = 0.20 | Точность = 0.413, Полнота = 0.739, F1 = 0.530, auc_roc= 0.816\n",
      "Глубина = 6.00 | Порог = 0.22 | Точность = 0.479, Полнота = 0.675, F1 = 0.560, auc_roc= 0.816\n",
      "Глубина = 6.00 | Порог = 0.24 | Точность = 0.510, Полнота = 0.641, F1 = 0.568, auc_roc= 0.816\n",
      "Глубина = 6.00 | Порог = 0.26 | Точность = 0.623, Полнота = 0.577, F1 = 0.599, auc_roc= 0.816\n",
      "Глубина = 6.00 | Порог = 0.28 | Точность = 0.623, Полнота = 0.577, F1 = 0.599, auc_roc= 0.816\n",
      "Глубина = 6.00 | Порог = 0.30 | Точность = 0.623, Полнота = 0.577, F1 = 0.599, auc_roc= 0.816\n",
      "Глубина = 6.00 | Порог = 0.32 | Точность = 0.703, Полнота = 0.514, F1 = 0.594, auc_roc= 0.816\n",
      "Глубина = 6.00 | Порог = 0.34 | Точность = 0.703, Полнота = 0.514, F1 = 0.594, auc_roc= 0.816\n",
      "Глубина = 6.00 | Порог = 0.36 | Точность = 0.703, Полнота = 0.514, F1 = 0.594, auc_roc= 0.816\n",
      "Глубина = 6.00 | Порог = 0.38 | Точность = 0.703, Полнота = 0.514, F1 = 0.594, auc_roc= 0.816\n",
      "Глубина = 6.00 | Порог = 0.40 | Точность = 0.744, Полнота = 0.481, F1 = 0.584, auc_roc= 0.816\n",
      "Глубина = 6.00 | Порог = 0.42 | Точность = 0.776, Полнота = 0.455, F1 = 0.573, auc_roc= 0.816\n",
      "Глубина = 6.00 | Порог = 0.44 | Точность = 0.776, Полнота = 0.455, F1 = 0.573, auc_roc= 0.816\n",
      "Глубина = 6.00 | Порог = 0.46 | Точность = 0.776, Полнота = 0.455, F1 = 0.573, auc_roc= 0.816\n",
      "Глубина = 6.00 | Порог = 0.48 | Точность = 0.776, Полнота = 0.455, F1 = 0.573, auc_roc= 0.816\n",
      "Глубина = 6.00 | Порог = 0.50 | Точность = 0.777, Полнота = 0.450, F1 = 0.570, auc_roc= 0.816\n",
      "Глубина = 6.00 | Порог = 0.52 | Точность = 0.777, Полнота = 0.450, F1 = 0.570, auc_roc= 0.816\n",
      "Глубина = 6.00 | Порог = 0.54 | Точность = 0.777, Полнота = 0.450, F1 = 0.570, auc_roc= 0.816\n",
      "Глубина = 6.00 | Порог = 0.56 | Точность = 0.815, Полнота = 0.400, F1 = 0.536, auc_roc= 0.816\n",
      "Глубина = 6.00 | Порог = 0.58 | Точность = 0.815, Полнота = 0.400, F1 = 0.536, auc_roc= 0.816\n",
      "\n",
      "Лучший вариант:   Порог = 0.26 | Точность = 0.623, Полнота = 0.577, F1 = 0.599, auc_roc= 0.816\n",
      "\n",
      "Глубина = 7.00 | Порог = 0.00 | Точность = 0.209, Полнота = 0.969, F1 = 0.343, auc_roc= 0.815\n",
      "Глубина = 7.00 | Порог = 0.02 | Точность = 0.241, Полнота = 0.952, F1 = 0.384, auc_roc= 0.815\n",
      "Глубина = 7.00 | Порог = 0.04 | Точность = 0.257, Полнота = 0.935, F1 = 0.403, auc_roc= 0.815\n",
      "Глубина = 7.00 | Порог = 0.06 | Точность = 0.294, Полнота = 0.909, F1 = 0.444, auc_roc= 0.815\n",
      "Глубина = 7.00 | Порог = 0.08 | Точность = 0.354, Полнота = 0.840, F1 = 0.498, auc_roc= 0.815\n",
      "Глубина = 7.00 | Порог = 0.10 | Точность = 0.365, Полнота = 0.835, F1 = 0.508, auc_roc= 0.815\n",
      "Глубина = 7.00 | Порог = 0.12 | Точность = 0.417, Полнота = 0.792, F1 = 0.546, auc_roc= 0.815\n",
      "Глубина = 7.00 | Порог = 0.14 | Точность = 0.417, Полнота = 0.792, F1 = 0.546, auc_roc= 0.815\n",
      "Глубина = 7.00 | Порог = 0.16 | Точность = 0.417, Полнота = 0.792, F1 = 0.546, auc_roc= 0.815\n",
      "Глубина = 7.00 | Порог = 0.18 | Точность = 0.436, Полнота = 0.742, F1 = 0.549, auc_roc= 0.815\n",
      "Глубина = 7.00 | Порог = 0.20 | Точность = 0.461, Полнота = 0.715, F1 = 0.560, auc_roc= 0.815\n",
      "Глубина = 7.00 | Порог = 0.22 | Точность = 0.499, Полнота = 0.684, F1 = 0.577, auc_roc= 0.815\n",
      "Глубина = 7.00 | Порог = 0.24 | Точность = 0.526, Полнота = 0.636, F1 = 0.576, auc_roc= 0.815\n",
      "Глубина = 7.00 | Порог = 0.26 | Точность = 0.525, Полнота = 0.632, F1 = 0.573, auc_roc= 0.815\n",
      "Глубина = 7.00 | Порог = 0.28 | Точность = 0.553, Полнота = 0.610, F1 = 0.580, auc_roc= 0.815\n",
      "Глубина = 7.00 | Порог = 0.30 | Точность = 0.568, Полнота = 0.557, F1 = 0.563, auc_roc= 0.815\n",
      "Глубина = 7.00 | Порог = 0.32 | Точность = 0.661, Полнота = 0.500, F1 = 0.569, auc_roc= 0.815\n",
      "Глубина = 7.00 | Порог = 0.34 | Точность = 0.687, Полнота = 0.488, F1 = 0.571, auc_roc= 0.815\n",
      "Глубина = 7.00 | Порог = 0.36 | Точность = 0.687, Полнота = 0.488, F1 = 0.571, auc_roc= 0.815\n",
      "Глубина = 7.00 | Порог = 0.38 | Точность = 0.687, Полнота = 0.488, F1 = 0.571, auc_roc= 0.815\n",
      "Глубина = 7.00 | Порог = 0.40 | Точность = 0.744, Полнота = 0.452, F1 = 0.562, auc_roc= 0.815\n",
      "Глубина = 7.00 | Порог = 0.42 | Точность = 0.744, Полнота = 0.452, F1 = 0.562, auc_roc= 0.815\n",
      "Глубина = 7.00 | Порог = 0.44 | Точность = 0.744, Полнота = 0.452, F1 = 0.562, auc_roc= 0.815\n",
      "Глубина = 7.00 | Порог = 0.46 | Точность = 0.744, Полнота = 0.452, F1 = 0.562, auc_roc= 0.815\n",
      "Глубина = 7.00 | Порог = 0.48 | Точность = 0.744, Полнота = 0.452, F1 = 0.562, auc_roc= 0.815\n",
      "Глубина = 7.00 | Порог = 0.50 | Точность = 0.769, Полнота = 0.407, F1 = 0.532, auc_roc= 0.815\n",
      "Глубина = 7.00 | Порог = 0.52 | Точность = 0.769, Полнота = 0.407, F1 = 0.532, auc_roc= 0.815\n",
      "Глубина = 7.00 | Порог = 0.54 | Точность = 0.769, Полнота = 0.407, F1 = 0.532, auc_roc= 0.815\n",
      "Глубина = 7.00 | Порог = 0.56 | Точность = 0.769, Полнота = 0.407, F1 = 0.532, auc_roc= 0.815\n",
      "Глубина = 7.00 | Порог = 0.58 | Точность = 0.769, Полнота = 0.407, F1 = 0.532, auc_roc= 0.815\n",
      "\n",
      "Лучший вариант:   Порог = 0.28 | Точность = 0.553, Полнота = 0.610, F1 = 0.580, auc_roc= 0.815\n",
      "\n",
      "Глубина = 8.00 | Порог = 0.00 | Точность = 0.219, Полнота = 0.950, F1 = 0.356, auc_roc= 0.811\n",
      "Глубина = 8.00 | Порог = 0.02 | Точность = 0.253, Полнота = 0.933, F1 = 0.398, auc_roc= 0.811\n",
      "Глубина = 8.00 | Порог = 0.04 | Точность = 0.256, Полнота = 0.933, F1 = 0.402, auc_roc= 0.811\n",
      "Глубина = 8.00 | Порог = 0.06 | Точность = 0.290, Полнота = 0.907, F1 = 0.440, auc_roc= 0.811\n",
      "Глубина = 8.00 | Порог = 0.08 | Точность = 0.393, Полнота = 0.804, F1 = 0.528, auc_roc= 0.811\n",
      "Глубина = 8.00 | Порог = 0.10 | Точность = 0.401, Полнота = 0.794, F1 = 0.533, auc_roc= 0.811\n",
      "Глубина = 8.00 | Порог = 0.12 | Точность = 0.417, Полнота = 0.785, F1 = 0.545, auc_roc= 0.811\n",
      "Глубина = 8.00 | Порог = 0.14 | Точность = 0.417, Полнота = 0.785, F1 = 0.545, auc_roc= 0.811\n",
      "Глубина = 8.00 | Порог = 0.16 | Точность = 0.424, Полнота = 0.766, F1 = 0.546, auc_roc= 0.811\n",
      "Глубина = 8.00 | Порог = 0.18 | Точность = 0.488, Полнота = 0.656, F1 = 0.559, auc_roc= 0.811\n",
      "Глубина = 8.00 | Порог = 0.20 | Точность = 0.494, Полнота = 0.644, F1 = 0.559, auc_roc= 0.811\n",
      "Глубина = 8.00 | Порог = 0.22 | Точность = 0.499, Полнота = 0.634, F1 = 0.558, auc_roc= 0.811\n",
      "Глубина = 8.00 | Порог = 0.24 | Точность = 0.587, Полнота = 0.589, F1 = 0.588, auc_roc= 0.811\n",
      "Глубина = 8.00 | Порог = 0.26 | Точность = 0.594, Полнота = 0.567, F1 = 0.580, auc_roc= 0.811\n",
      "Глубина = 8.00 | Порог = 0.28 | Точность = 0.594, Полнота = 0.567, F1 = 0.580, auc_roc= 0.811\n",
      "Глубина = 8.00 | Порог = 0.30 | Точность = 0.606, Полнота = 0.553, F1 = 0.578, auc_roc= 0.811\n",
      "Глубина = 8.00 | Порог = 0.32 | Точность = 0.606, Полнота = 0.553, F1 = 0.578, auc_roc= 0.811\n",
      "Глубина = 8.00 | Порог = 0.34 | Точность = 0.626, Полнота = 0.545, F1 = 0.583, auc_roc= 0.811\n",
      "Глубина = 8.00 | Порог = 0.36 | Точность = 0.631, Полнота = 0.543, F1 = 0.584, auc_roc= 0.811\n",
      "Глубина = 8.00 | Порог = 0.38 | Точность = 0.645, Полнота = 0.510, F1 = 0.570, auc_roc= 0.811\n",
      "Глубина = 8.00 | Порог = 0.40 | Точность = 0.649, Полнота = 0.510, F1 = 0.571, auc_roc= 0.811\n",
      "Глубина = 8.00 | Порог = 0.42 | Точность = 0.673, Полнота = 0.488, F1 = 0.566, auc_roc= 0.811\n",
      "Глубина = 8.00 | Порог = 0.44 | Точность = 0.732, Полнота = 0.431, F1 = 0.542, auc_roc= 0.811\n",
      "Глубина = 8.00 | Порог = 0.46 | Точность = 0.749, Полнота = 0.428, F1 = 0.545, auc_roc= 0.811\n",
      "Глубина = 8.00 | Порог = 0.48 | Точность = 0.749, Полнота = 0.428, F1 = 0.545, auc_roc= 0.811\n",
      "Глубина = 8.00 | Порог = 0.50 | Точность = 0.749, Полнота = 0.428, F1 = 0.545, auc_roc= 0.811\n",
      "Глубина = 8.00 | Порог = 0.52 | Точность = 0.749, Полнота = 0.428, F1 = 0.545, auc_roc= 0.811\n",
      "Глубина = 8.00 | Порог = 0.54 | Точность = 0.749, Полнота = 0.428, F1 = 0.545, auc_roc= 0.811\n",
      "Глубина = 8.00 | Порог = 0.56 | Точность = 0.749, Полнота = 0.428, F1 = 0.545, auc_roc= 0.811\n",
      "Глубина = 8.00 | Порог = 0.58 | Точность = 0.749, Полнота = 0.428, F1 = 0.545, auc_roc= 0.811\n",
      "\n",
      "Лучший вариант:   Порог = 0.24 | Точность = 0.587, Полнота = 0.589, F1 = 0.588, auc_roc= 0.811\n",
      "\n",
      "Глубина = 9.00 | Порог = 0.00 | Точность = 0.218, Полнота = 0.919, F1 = 0.353, auc_roc= 0.790\n",
      "Глубина = 9.00 | Порог = 0.02 | Точность = 0.253, Полнота = 0.904, F1 = 0.396, auc_roc= 0.790\n",
      "Глубина = 9.00 | Порог = 0.04 | Точность = 0.292, Полнота = 0.864, F1 = 0.437, auc_roc= 0.790\n",
      "Глубина = 9.00 | Порог = 0.06 | Точность = 0.333, Полнота = 0.821, F1 = 0.474, auc_roc= 0.790\n",
      "Глубина = 9.00 | Порог = 0.08 | Точность = 0.343, Полнота = 0.804, F1 = 0.480, auc_roc= 0.790\n",
      "Глубина = 9.00 | Порог = 0.10 | Точность = 0.397, Полнота = 0.751, F1 = 0.520, auc_roc= 0.790\n",
      "Глубина = 9.00 | Порог = 0.12 | Точность = 0.427, Полнота = 0.701, F1 = 0.531, auc_roc= 0.790\n",
      "Глубина = 9.00 | Порог = 0.14 | Точность = 0.468, Полнота = 0.677, F1 = 0.553, auc_roc= 0.790\n",
      "Глубина = 9.00 | Порог = 0.16 | Точность = 0.478, Полнота = 0.660, F1 = 0.554, auc_roc= 0.790\n",
      "Глубина = 9.00 | Порог = 0.18 | Точность = 0.480, Полнота = 0.660, F1 = 0.556, auc_roc= 0.790\n",
      "Глубина = 9.00 | Порог = 0.20 | Точность = 0.486, Полнота = 0.653, F1 = 0.557, auc_roc= 0.790\n",
      "Глубина = 9.00 | Порог = 0.22 | Точность = 0.486, Полнота = 0.653, F1 = 0.557, auc_roc= 0.790\n",
      "Глубина = 9.00 | Порог = 0.24 | Точность = 0.539, Полнота = 0.615, F1 = 0.574, auc_roc= 0.790\n",
      "Глубина = 9.00 | Порог = 0.26 | Точность = 0.543, Полнота = 0.615, F1 = 0.577, auc_roc= 0.790\n",
      "Глубина = 9.00 | Порог = 0.28 | Точность = 0.555, Полнота = 0.603, F1 = 0.578, auc_roc= 0.790\n",
      "Глубина = 9.00 | Порог = 0.30 | Точность = 0.563, Полнота = 0.565, F1 = 0.564, auc_roc= 0.790\n",
      "Глубина = 9.00 | Порог = 0.32 | Точность = 0.582, Полнота = 0.550, F1 = 0.566, auc_roc= 0.790\n",
      "Глубина = 9.00 | Порог = 0.34 | Точность = 0.598, Полнота = 0.538, F1 = 0.567, auc_roc= 0.790\n",
      "Глубина = 9.00 | Порог = 0.36 | Точность = 0.637, Полнота = 0.522, F1 = 0.574, auc_roc= 0.790\n",
      "Глубина = 9.00 | Порог = 0.38 | Точность = 0.637, Полнота = 0.522, F1 = 0.574, auc_roc= 0.790\n",
      "Глубина = 9.00 | Порог = 0.40 | Точность = 0.671, Полнота = 0.498, F1 = 0.571, auc_roc= 0.790\n",
      "Глубина = 9.00 | Порог = 0.42 | Точность = 0.685, Полнота = 0.495, F1 = 0.575, auc_roc= 0.790\n",
      "Глубина = 9.00 | Порог = 0.44 | Точность = 0.696, Полнота = 0.493, F1 = 0.577, auc_roc= 0.790\n",
      "Глубина = 9.00 | Порог = 0.46 | Точность = 0.696, Полнота = 0.493, F1 = 0.577, auc_roc= 0.790\n",
      "Глубина = 9.00 | Порог = 0.48 | Точность = 0.696, Полнота = 0.493, F1 = 0.577, auc_roc= 0.790\n",
      "Глубина = 9.00 | Порог = 0.50 | Точность = 0.701, Полнота = 0.493, F1 = 0.579, auc_roc= 0.790\n",
      "Глубина = 9.00 | Порог = 0.52 | Точность = 0.721, Полнота = 0.483, F1 = 0.579, auc_roc= 0.790\n",
      "Глубина = 9.00 | Порог = 0.54 | Точность = 0.721, Полнота = 0.483, F1 = 0.579, auc_roc= 0.790\n",
      "Глубина = 9.00 | Порог = 0.56 | Точность = 0.734, Полнота = 0.462, F1 = 0.567, auc_roc= 0.790\n",
      "Глубина = 9.00 | Порог = 0.58 | Точность = 0.734, Полнота = 0.450, F1 = 0.558, auc_roc= 0.790\n",
      "\n",
      "Лучший вариант:   Порог = 0.52 | Точность = 0.721, Полнота = 0.483, F1 = 0.579, auc_roc= 0.790\n",
      "\n"
     ]
    }
   ],
   "source": [
    "best_result = 0.4\n",
    "for depth in range(1, 10):\n",
    "\tmodel = DecisionTreeClassifier(random_state=12345, max_depth=depth)\n",
    "\tmodel.fit(features_train, target_train)\n",
    "\tprobabilities_valid = model.predict_proba(features_valid)\n",
    "\tprobabilities_one_valid = probabilities_valid[:, 1]\n",
    "\tbest_result = 0.5\n",
    "\tfor threshold in np.arange(0, 0.6, 0.02):\n",
    "\t\tpredicted_valid = probabilities_one_valid > threshold\n",
    "\t\tprecision = precision_score(target_valid, predicted_valid)\n",
    "\t\trecall = recall_score(target_valid, predicted_valid)\n",
    "\t\tresult_f1 = f1_score(target_valid, predicted_valid)\n",
    "\t\tauc_roc = roc_auc_score(target_valid, probabilities_one_valid)\n",
    "\n",
    "\t\tif result_f1 > best_result:\n",
    "\t\t\tbest_threshold = threshold #сохраняем порог\n",
    "\t\t\tbest_precision = precision #сохраняем Точность\n",
    "\t\t\tbest_recall = recall #сохраняем Полнота\n",
    "\t\t\tbest_result = result_f1 #сохраняем F1\n",
    "\t\t\tbest_auc = auc_roc\n",
    "\t\tprint(\"Глубина = {:.2f} | Порог = {:.2f} | Точность = {:.3f}, Полнота = {:.3f}, F1 = {:.3f}, auc_roc= {:.3f}\".format(depth,\n",
    "\t\t\tthreshold, precision, recall, result_f1, auc_roc))\n",
    "\tprint('')\n",
    "\tprint(\"Лучший вариант:   Порог = {:.2f} | Точность = {:.3f}, Полнота = {:.3f}, F1 = {:.3f}, auc_roc= {:.3f}\".format(\n",
    "        best_threshold, best_precision, best_recall, best_result, best_auc))\n",
    "\tprint('')\n"
   ]
  },
  {
   "cell_type": "markdown",
   "metadata": {},
   "source": [
    "Наилучшая метрика полученная при использовании модели \n",
    "DecisionTreeClassifier\n",
    "\n",
    "Лучший вариант:   Глубина = 6.00 Порог = 0.26 | Точность = 0.623, Полнота = 0.577, F1 = 0.599, auc_roc= 0.816\n",
    "\n",
    "это больше 0,59 но меньше чем показал прошлый метод"
   ]
  },
  {
   "cell_type": "markdown",
   "metadata": {},
   "source": [
    "#### Используем  метод \"Изменение порога\" для модели RandomForestClassifier"
   ]
  },
  {
   "cell_type": "code",
   "execution_count": 42,
   "metadata": {
    "scrolled": true
   },
   "outputs": [
    {
     "name": "stdout",
     "output_type": "stream",
     "text": [
      "Глубина = 1.00 | Порог = 0.00 | Точность = 0.486, Полнота = 0.505, F1 = 0.495, auc_roc= 0.682\n",
      "Глубина = 1.00 | Порог = 0.02 | Точность = 0.486, Полнота = 0.505, F1 = 0.495, auc_roc= 0.682\n",
      "Глубина = 1.00 | Порог = 0.04 | Точность = 0.486, Полнота = 0.505, F1 = 0.495, auc_roc= 0.682\n",
      "Глубина = 1.00 | Порог = 0.06 | Точность = 0.486, Полнота = 0.505, F1 = 0.495, auc_roc= 0.682\n",
      "Глубина = 1.00 | Порог = 0.08 | Точность = 0.486, Полнота = 0.505, F1 = 0.495, auc_roc= 0.682\n",
      "Глубина = 1.00 | Порог = 0.10 | Точность = 0.486, Полнота = 0.505, F1 = 0.495, auc_roc= 0.682\n",
      "Глубина = 1.00 | Порог = 0.12 | Точность = 0.486, Полнота = 0.505, F1 = 0.495, auc_roc= 0.682\n",
      "Глубина = 1.00 | Порог = 0.14 | Точность = 0.486, Полнота = 0.505, F1 = 0.495, auc_roc= 0.682\n",
      "Глубина = 1.00 | Порог = 0.16 | Точность = 0.486, Полнота = 0.505, F1 = 0.495, auc_roc= 0.682\n",
      "Глубина = 1.00 | Порог = 0.18 | Точность = 0.486, Полнота = 0.505, F1 = 0.495, auc_roc= 0.682\n",
      "Глубина = 1.00 | Порог = 0.20 | Точность = 0.486, Полнота = 0.505, F1 = 0.495, auc_roc= 0.682\n",
      "Глубина = 1.00 | Порог = 0.22 | Точность = 0.486, Полнота = 0.505, F1 = 0.495, auc_roc= 0.682\n",
      "Глубина = 1.00 | Порог = 0.24 | Точность = 0.486, Полнота = 0.505, F1 = 0.495, auc_roc= 0.682\n",
      "Глубина = 1.00 | Порог = 0.26 | Точность = 0.486, Полнота = 0.505, F1 = 0.495, auc_roc= 0.682\n",
      "Глубина = 1.00 | Порог = 0.28 | Точность = 0.486, Полнота = 0.505, F1 = 0.495, auc_roc= 0.682\n",
      "Глубина = 1.00 | Порог = 0.30 | Точность = 0.486, Полнота = 0.505, F1 = 0.495, auc_roc= 0.682\n",
      "Глубина = 1.00 | Порог = 0.32 | Точность = 0.486, Полнота = 0.505, F1 = 0.495, auc_roc= 0.682\n",
      "Глубина = 1.00 | Порог = 0.34 | Точность = 0.486, Полнота = 0.505, F1 = 0.495, auc_roc= 0.682\n",
      "Глубина = 1.00 | Порог = 0.36 | Точность = 0.486, Полнота = 0.505, F1 = 0.495, auc_roc= 0.682\n",
      "Глубина = 1.00 | Порог = 0.38 | Точность = 0.486, Полнота = 0.505, F1 = 0.495, auc_roc= 0.682\n",
      "\n",
      "Лучший вариант:   Порог = 0.00 | Точность = 0.486, Полнота = 0.505, F1 = 0.495, auc_roc= 0.682\n",
      "\n",
      "Глубина = 2.00 | Порог = 0.00 | Точность = 0.428, Полнота = 0.663, F1 = 0.520, auc_roc= 0.739\n",
      "Глубина = 2.00 | Порог = 0.02 | Точность = 0.428, Полнота = 0.663, F1 = 0.520, auc_roc= 0.739\n",
      "Глубина = 2.00 | Порог = 0.04 | Точность = 0.428, Полнота = 0.663, F1 = 0.520, auc_roc= 0.739\n",
      "Глубина = 2.00 | Порог = 0.06 | Точность = 0.428, Полнота = 0.663, F1 = 0.520, auc_roc= 0.739\n",
      "Глубина = 2.00 | Порог = 0.08 | Точность = 0.428, Полнота = 0.663, F1 = 0.520, auc_roc= 0.739\n",
      "Глубина = 2.00 | Порог = 0.10 | Точность = 0.428, Полнота = 0.663, F1 = 0.520, auc_roc= 0.739\n",
      "Глубина = 2.00 | Порог = 0.12 | Точность = 0.428, Полнота = 0.663, F1 = 0.520, auc_roc= 0.739\n",
      "Глубина = 2.00 | Порог = 0.14 | Точность = 0.428, Полнота = 0.663, F1 = 0.520, auc_roc= 0.739\n",
      "Глубина = 2.00 | Порог = 0.16 | Точность = 0.428, Полнота = 0.663, F1 = 0.520, auc_roc= 0.739\n",
      "Глубина = 2.00 | Порог = 0.18 | Точность = 0.428, Полнота = 0.663, F1 = 0.520, auc_roc= 0.739\n",
      "Глубина = 2.00 | Порог = 0.20 | Точность = 0.428, Полнота = 0.663, F1 = 0.520, auc_roc= 0.739\n",
      "Глубина = 2.00 | Порог = 0.22 | Точность = 0.428, Полнота = 0.663, F1 = 0.520, auc_roc= 0.739\n",
      "Глубина = 2.00 | Порог = 0.24 | Точность = 0.428, Полнота = 0.663, F1 = 0.520, auc_roc= 0.739\n",
      "Глубина = 2.00 | Порог = 0.26 | Точность = 0.428, Полнота = 0.663, F1 = 0.520, auc_roc= 0.739\n",
      "Глубина = 2.00 | Порог = 0.28 | Точность = 0.428, Полнота = 0.663, F1 = 0.520, auc_roc= 0.739\n",
      "Глубина = 2.00 | Порог = 0.30 | Точность = 0.428, Полнота = 0.663, F1 = 0.520, auc_roc= 0.739\n",
      "Глубина = 2.00 | Порог = 0.32 | Точность = 0.428, Полнота = 0.663, F1 = 0.520, auc_roc= 0.739\n",
      "Глубина = 2.00 | Порог = 0.34 | Точность = 0.428, Полнота = 0.663, F1 = 0.520, auc_roc= 0.739\n",
      "Глубина = 2.00 | Порог = 0.36 | Точность = 0.428, Полнота = 0.663, F1 = 0.520, auc_roc= 0.739\n",
      "Глубина = 2.00 | Порог = 0.38 | Точность = 0.428, Полнота = 0.663, F1 = 0.520, auc_roc= 0.739\n",
      "\n",
      "Лучший вариант:   Порог = 0.00 | Точность = 0.428, Полнота = 0.663, F1 = 0.520, auc_roc= 0.739\n",
      "\n",
      "Глубина = 3.00 | Порог = 0.00 | Точность = 0.388, Полнота = 0.737, F1 = 0.509, auc_roc= 0.766\n",
      "Глубина = 3.00 | Порог = 0.02 | Точность = 0.388, Полнота = 0.737, F1 = 0.509, auc_roc= 0.766\n",
      "Глубина = 3.00 | Порог = 0.04 | Точность = 0.388, Полнота = 0.737, F1 = 0.509, auc_roc= 0.766\n",
      "Глубина = 3.00 | Порог = 0.06 | Точность = 0.388, Полнота = 0.737, F1 = 0.509, auc_roc= 0.766\n",
      "Глубина = 3.00 | Порог = 0.08 | Точность = 0.388, Полнота = 0.737, F1 = 0.509, auc_roc= 0.766\n",
      "Глубина = 3.00 | Порог = 0.10 | Точность = 0.388, Полнота = 0.737, F1 = 0.509, auc_roc= 0.766\n",
      "Глубина = 3.00 | Порог = 0.12 | Точность = 0.388, Полнота = 0.737, F1 = 0.509, auc_roc= 0.766\n",
      "Глубина = 3.00 | Порог = 0.14 | Точность = 0.388, Полнота = 0.737, F1 = 0.509, auc_roc= 0.766\n",
      "Глубина = 3.00 | Порог = 0.16 | Точность = 0.388, Полнота = 0.737, F1 = 0.509, auc_roc= 0.766\n",
      "Глубина = 3.00 | Порог = 0.18 | Точность = 0.388, Полнота = 0.737, F1 = 0.509, auc_roc= 0.766\n",
      "Глубина = 3.00 | Порог = 0.20 | Точность = 0.388, Полнота = 0.737, F1 = 0.509, auc_roc= 0.766\n",
      "Глубина = 3.00 | Порог = 0.22 | Точность = 0.388, Полнота = 0.737, F1 = 0.509, auc_roc= 0.766\n",
      "Глубина = 3.00 | Порог = 0.24 | Точность = 0.388, Полнота = 0.737, F1 = 0.509, auc_roc= 0.766\n",
      "Глубина = 3.00 | Порог = 0.26 | Точность = 0.388, Полнота = 0.737, F1 = 0.509, auc_roc= 0.766\n",
      "Глубина = 3.00 | Порог = 0.28 | Точность = 0.388, Полнота = 0.737, F1 = 0.509, auc_roc= 0.766\n",
      "Глубина = 3.00 | Порог = 0.30 | Точность = 0.388, Полнота = 0.737, F1 = 0.509, auc_roc= 0.766\n",
      "Глубина = 3.00 | Порог = 0.32 | Точность = 0.388, Полнота = 0.737, F1 = 0.509, auc_roc= 0.766\n",
      "Глубина = 3.00 | Порог = 0.34 | Точность = 0.607, Полнота = 0.488, F1 = 0.541, auc_roc= 0.766\n",
      "Глубина = 3.00 | Порог = 0.36 | Точность = 0.607, Полнота = 0.488, F1 = 0.541, auc_roc= 0.766\n",
      "Глубина = 3.00 | Порог = 0.38 | Точность = 0.607, Полнота = 0.488, F1 = 0.541, auc_roc= 0.766\n",
      "\n",
      "Лучший вариант:   Порог = 0.34 | Точность = 0.607, Полнота = 0.488, F1 = 0.541, auc_roc= 0.766\n",
      "\n",
      "Глубина = 4.00 | Порог = 0.00 | Точность = 0.361, Полнота = 0.792, F1 = 0.496, auc_roc= 0.782\n",
      "Глубина = 4.00 | Порог = 0.02 | Точность = 0.361, Полнота = 0.792, F1 = 0.496, auc_roc= 0.782\n",
      "Глубина = 4.00 | Порог = 0.04 | Точность = 0.361, Полнота = 0.792, F1 = 0.496, auc_roc= 0.782\n",
      "Глубина = 4.00 | Порог = 0.06 | Точность = 0.361, Полнота = 0.792, F1 = 0.496, auc_roc= 0.782\n",
      "Глубина = 4.00 | Порог = 0.08 | Точность = 0.361, Полнота = 0.792, F1 = 0.496, auc_roc= 0.782\n",
      "Глубина = 4.00 | Порог = 0.10 | Точность = 0.361, Полнота = 0.792, F1 = 0.496, auc_roc= 0.782\n",
      "Глубина = 4.00 | Порог = 0.12 | Точность = 0.361, Полнота = 0.792, F1 = 0.496, auc_roc= 0.782\n",
      "Глубина = 4.00 | Порог = 0.14 | Точность = 0.361, Полнота = 0.792, F1 = 0.496, auc_roc= 0.782\n",
      "Глубина = 4.00 | Порог = 0.16 | Точность = 0.361, Полнота = 0.792, F1 = 0.496, auc_roc= 0.782\n",
      "Глубина = 4.00 | Порог = 0.18 | Точность = 0.361, Полнота = 0.792, F1 = 0.496, auc_roc= 0.782\n",
      "Глубина = 4.00 | Порог = 0.20 | Точность = 0.361, Полнота = 0.792, F1 = 0.496, auc_roc= 0.782\n",
      "Глубина = 4.00 | Порог = 0.22 | Точность = 0.361, Полнота = 0.792, F1 = 0.496, auc_roc= 0.782\n",
      "Глубина = 4.00 | Порог = 0.24 | Точность = 0.361, Полнота = 0.792, F1 = 0.496, auc_roc= 0.782\n",
      "Глубина = 4.00 | Порог = 0.26 | Точность = 0.552, Полнота = 0.569, F1 = 0.561, auc_roc= 0.782\n",
      "Глубина = 4.00 | Порог = 0.28 | Точность = 0.552, Полнота = 0.569, F1 = 0.561, auc_roc= 0.782\n",
      "Глубина = 4.00 | Порог = 0.30 | Точность = 0.552, Полнота = 0.569, F1 = 0.561, auc_roc= 0.782\n",
      "Глубина = 4.00 | Порог = 0.32 | Точность = 0.552, Полнота = 0.569, F1 = 0.561, auc_roc= 0.782\n",
      "Глубина = 4.00 | Порог = 0.34 | Точность = 0.552, Полнота = 0.569, F1 = 0.561, auc_roc= 0.782\n",
      "Глубина = 4.00 | Порог = 0.36 | Точность = 0.552, Полнота = 0.569, F1 = 0.561, auc_roc= 0.782\n",
      "Глубина = 4.00 | Порог = 0.38 | Точность = 0.552, Полнота = 0.569, F1 = 0.561, auc_roc= 0.782\n",
      "\n",
      "Лучший вариант:   Порог = 0.26 | Точность = 0.552, Полнота = 0.569, F1 = 0.561, auc_roc= 0.782\n",
      "\n",
      "Глубина = 5.00 | Порог = 0.00 | Точность = 0.347, Полнота = 0.823, F1 = 0.488, auc_roc= 0.792\n",
      "Глубина = 5.00 | Порог = 0.02 | Точность = 0.347, Полнота = 0.823, F1 = 0.488, auc_roc= 0.792\n",
      "Глубина = 5.00 | Порог = 0.04 | Точность = 0.347, Полнота = 0.823, F1 = 0.488, auc_roc= 0.792\n",
      "Глубина = 5.00 | Порог = 0.06 | Точность = 0.347, Полнота = 0.823, F1 = 0.488, auc_roc= 0.792\n",
      "Глубина = 5.00 | Порог = 0.08 | Точность = 0.347, Полнота = 0.823, F1 = 0.488, auc_roc= 0.792\n",
      "Глубина = 5.00 | Порог = 0.10 | Точность = 0.347, Полнота = 0.823, F1 = 0.488, auc_roc= 0.792\n",
      "Глубина = 5.00 | Порог = 0.12 | Точность = 0.347, Полнота = 0.823, F1 = 0.488, auc_roc= 0.792\n",
      "Глубина = 5.00 | Порог = 0.14 | Точность = 0.347, Полнота = 0.823, F1 = 0.488, auc_roc= 0.792\n",
      "Глубина = 5.00 | Порог = 0.16 | Точность = 0.347, Полнота = 0.823, F1 = 0.488, auc_roc= 0.792\n",
      "Глубина = 5.00 | Порог = 0.18 | Точность = 0.347, Полнота = 0.823, F1 = 0.488, auc_roc= 0.792\n",
      "Глубина = 5.00 | Порог = 0.20 | Точность = 0.505, Полнота = 0.627, F1 = 0.559, auc_roc= 0.792\n",
      "Глубина = 5.00 | Порог = 0.22 | Точность = 0.505, Полнота = 0.627, F1 = 0.559, auc_roc= 0.792\n",
      "Глубина = 5.00 | Порог = 0.24 | Точность = 0.505, Полнота = 0.627, F1 = 0.559, auc_roc= 0.792\n",
      "Глубина = 5.00 | Порог = 0.26 | Точность = 0.505, Полнота = 0.627, F1 = 0.559, auc_roc= 0.792\n",
      "Глубина = 5.00 | Порог = 0.28 | Точность = 0.505, Полнота = 0.627, F1 = 0.559, auc_roc= 0.792\n",
      "Глубина = 5.00 | Порог = 0.30 | Точность = 0.505, Полнота = 0.627, F1 = 0.559, auc_roc= 0.792\n",
      "Глубина = 5.00 | Порог = 0.32 | Точность = 0.505, Полнота = 0.627, F1 = 0.559, auc_roc= 0.792\n",
      "Глубина = 5.00 | Порог = 0.34 | Точность = 0.505, Полнота = 0.627, F1 = 0.559, auc_roc= 0.792\n",
      "Глубина = 5.00 | Порог = 0.36 | Точность = 0.505, Полнота = 0.627, F1 = 0.559, auc_roc= 0.792\n",
      "Глубина = 5.00 | Порог = 0.38 | Точность = 0.505, Полнота = 0.627, F1 = 0.559, auc_roc= 0.792\n",
      "\n",
      "Лучший вариант:   Порог = 0.20 | Точность = 0.505, Полнота = 0.627, F1 = 0.559, auc_roc= 0.792\n",
      "\n",
      "Глубина = 6.00 | Порог = 0.00 | Точность = 0.325, Полнота = 0.847, F1 = 0.470, auc_roc= 0.795\n",
      "Глубина = 6.00 | Порог = 0.02 | Точность = 0.325, Полнота = 0.847, F1 = 0.470, auc_roc= 0.795\n",
      "Глубина = 6.00 | Порог = 0.04 | Точность = 0.325, Полнота = 0.847, F1 = 0.470, auc_roc= 0.795\n",
      "Глубина = 6.00 | Порог = 0.06 | Точность = 0.325, Полнота = 0.847, F1 = 0.470, auc_roc= 0.795\n",
      "Глубина = 6.00 | Порог = 0.08 | Точность = 0.325, Полнота = 0.847, F1 = 0.470, auc_roc= 0.795\n",
      "Глубина = 6.00 | Порог = 0.10 | Точность = 0.325, Полнота = 0.847, F1 = 0.470, auc_roc= 0.795\n",
      "Глубина = 6.00 | Порог = 0.12 | Точность = 0.325, Полнота = 0.847, F1 = 0.470, auc_roc= 0.795\n",
      "Глубина = 6.00 | Порог = 0.14 | Точность = 0.325, Полнота = 0.847, F1 = 0.470, auc_roc= 0.795\n",
      "Глубина = 6.00 | Порог = 0.16 | Точность = 0.325, Полнота = 0.847, F1 = 0.470, auc_roc= 0.795\n",
      "Глубина = 6.00 | Порог = 0.18 | Точность = 0.459, Полнота = 0.677, F1 = 0.547, auc_roc= 0.795\n",
      "Глубина = 6.00 | Порог = 0.20 | Точность = 0.459, Полнота = 0.677, F1 = 0.547, auc_roc= 0.795\n",
      "Глубина = 6.00 | Порог = 0.22 | Точность = 0.459, Полнота = 0.677, F1 = 0.547, auc_roc= 0.795\n",
      "Глубина = 6.00 | Порог = 0.24 | Точность = 0.459, Полнота = 0.677, F1 = 0.547, auc_roc= 0.795\n",
      "Глубина = 6.00 | Порог = 0.26 | Точность = 0.459, Полнота = 0.677, F1 = 0.547, auc_roc= 0.795\n",
      "Глубина = 6.00 | Порог = 0.28 | Точность = 0.459, Полнота = 0.677, F1 = 0.547, auc_roc= 0.795\n",
      "Глубина = 6.00 | Порог = 0.30 | Точность = 0.459, Полнота = 0.677, F1 = 0.547, auc_roc= 0.795\n",
      "Глубина = 6.00 | Порог = 0.32 | Точность = 0.459, Полнота = 0.677, F1 = 0.547, auc_roc= 0.795\n",
      "Глубина = 6.00 | Порог = 0.34 | Точность = 0.610, Полнота = 0.531, F1 = 0.568, auc_roc= 0.795\n",
      "Глубина = 6.00 | Порог = 0.36 | Точность = 0.610, Полнота = 0.531, F1 = 0.568, auc_roc= 0.795\n",
      "Глубина = 6.00 | Порог = 0.38 | Точность = 0.610, Полнота = 0.531, F1 = 0.568, auc_roc= 0.795\n",
      "\n",
      "Лучший вариант:   Порог = 0.34 | Точность = 0.610, Полнота = 0.531, F1 = 0.568, auc_roc= 0.795\n",
      "\n",
      "Глубина = 7.00 | Порог = 0.00 | Точность = 0.311, Полнота = 0.871, F1 = 0.458, auc_roc= 0.802\n",
      "Глубина = 7.00 | Порог = 0.02 | Точность = 0.311, Полнота = 0.871, F1 = 0.458, auc_roc= 0.802\n",
      "Глубина = 7.00 | Порог = 0.04 | Точность = 0.311, Полнота = 0.871, F1 = 0.458, auc_roc= 0.802\n",
      "Глубина = 7.00 | Порог = 0.06 | Точность = 0.311, Полнота = 0.871, F1 = 0.458, auc_roc= 0.802\n",
      "Глубина = 7.00 | Порог = 0.08 | Точность = 0.311, Полнота = 0.871, F1 = 0.458, auc_roc= 0.802\n",
      "Глубина = 7.00 | Порог = 0.10 | Точность = 0.311, Полнота = 0.871, F1 = 0.458, auc_roc= 0.802\n",
      "Глубина = 7.00 | Порог = 0.12 | Точность = 0.311, Полнота = 0.871, F1 = 0.458, auc_roc= 0.802\n",
      "Глубина = 7.00 | Порог = 0.14 | Точность = 0.311, Полнота = 0.871, F1 = 0.458, auc_roc= 0.802\n",
      "Глубина = 7.00 | Порог = 0.16 | Точность = 0.436, Полнота = 0.715, F1 = 0.542, auc_roc= 0.802\n",
      "Глубина = 7.00 | Порог = 0.18 | Точность = 0.436, Полнота = 0.715, F1 = 0.542, auc_roc= 0.802\n",
      "Глубина = 7.00 | Порог = 0.20 | Точность = 0.436, Полнота = 0.715, F1 = 0.542, auc_roc= 0.802\n",
      "Глубина = 7.00 | Порог = 0.22 | Точность = 0.436, Полнота = 0.715, F1 = 0.542, auc_roc= 0.802\n",
      "Глубина = 7.00 | Порог = 0.24 | Точность = 0.436, Полнота = 0.715, F1 = 0.542, auc_roc= 0.802\n",
      "Глубина = 7.00 | Порог = 0.26 | Точность = 0.436, Полнота = 0.715, F1 = 0.542, auc_roc= 0.802\n",
      "Глубина = 7.00 | Порог = 0.28 | Точность = 0.436, Полнота = 0.715, F1 = 0.542, auc_roc= 0.802\n",
      "Глубина = 7.00 | Порог = 0.30 | Точность = 0.546, Полнота = 0.584, F1 = 0.564, auc_roc= 0.802\n",
      "Глубина = 7.00 | Порог = 0.32 | Точность = 0.546, Полнота = 0.584, F1 = 0.564, auc_roc= 0.802\n",
      "Глубина = 7.00 | Порог = 0.34 | Точность = 0.546, Полнота = 0.584, F1 = 0.564, auc_roc= 0.802\n",
      "Глубина = 7.00 | Порог = 0.36 | Точность = 0.546, Полнота = 0.584, F1 = 0.564, auc_roc= 0.802\n",
      "Глубина = 7.00 | Порог = 0.38 | Точность = 0.546, Полнота = 0.584, F1 = 0.564, auc_roc= 0.802\n",
      "\n",
      "Лучший вариант:   Порог = 0.30 | Точность = 0.546, Полнота = 0.584, F1 = 0.564, auc_roc= 0.802\n",
      "\n",
      "Глубина = 8.00 | Порог = 0.00 | Точность = 0.304, Полнота = 0.878, F1 = 0.451, auc_roc= 0.803\n",
      "Глубина = 8.00 | Порог = 0.02 | Точность = 0.304, Полнота = 0.878, F1 = 0.451, auc_roc= 0.803\n",
      "Глубина = 8.00 | Порог = 0.04 | Точность = 0.304, Полнота = 0.878, F1 = 0.451, auc_roc= 0.803\n",
      "Глубина = 8.00 | Порог = 0.06 | Точность = 0.304, Полнота = 0.878, F1 = 0.451, auc_roc= 0.803\n",
      "Глубина = 8.00 | Порог = 0.08 | Точность = 0.304, Полнота = 0.878, F1 = 0.451, auc_roc= 0.803\n",
      "Глубина = 8.00 | Порог = 0.10 | Точность = 0.304, Полнота = 0.878, F1 = 0.451, auc_roc= 0.803\n",
      "Глубина = 8.00 | Порог = 0.12 | Точность = 0.304, Полнота = 0.878, F1 = 0.451, auc_roc= 0.803\n",
      "Глубина = 8.00 | Порог = 0.14 | Точность = 0.409, Полнота = 0.734, F1 = 0.525, auc_roc= 0.803\n",
      "Глубина = 8.00 | Порог = 0.16 | Точность = 0.409, Полнота = 0.734, F1 = 0.525, auc_roc= 0.803\n",
      "Глубина = 8.00 | Порог = 0.18 | Точность = 0.409, Полнота = 0.734, F1 = 0.525, auc_roc= 0.803\n",
      "Глубина = 8.00 | Порог = 0.20 | Точность = 0.409, Полнота = 0.734, F1 = 0.525, auc_roc= 0.803\n",
      "Глубина = 8.00 | Порог = 0.22 | Точность = 0.409, Полнота = 0.734, F1 = 0.525, auc_roc= 0.803\n",
      "Глубина = 8.00 | Порог = 0.24 | Точность = 0.409, Полнота = 0.734, F1 = 0.525, auc_roc= 0.803\n",
      "Глубина = 8.00 | Порог = 0.26 | Точность = 0.525, Полнота = 0.627, F1 = 0.571, auc_roc= 0.803\n",
      "Глубина = 8.00 | Порог = 0.28 | Точность = 0.525, Полнота = 0.627, F1 = 0.571, auc_roc= 0.803\n",
      "Глубина = 8.00 | Порог = 0.30 | Точность = 0.525, Полнота = 0.627, F1 = 0.571, auc_roc= 0.803\n",
      "Глубина = 8.00 | Порог = 0.32 | Точность = 0.525, Полнота = 0.627, F1 = 0.571, auc_roc= 0.803\n",
      "Глубина = 8.00 | Порог = 0.34 | Точность = 0.525, Полнота = 0.627, F1 = 0.571, auc_roc= 0.803\n",
      "Глубина = 8.00 | Порог = 0.36 | Точность = 0.525, Полнота = 0.627, F1 = 0.571, auc_roc= 0.803\n",
      "Глубина = 8.00 | Порог = 0.38 | Точность = 0.659, Полнота = 0.522, F1 = 0.582, auc_roc= 0.803\n",
      "\n",
      "Лучший вариант:   Порог = 0.38 | Точность = 0.659, Полнота = 0.522, F1 = 0.582, auc_roc= 0.803\n",
      "\n",
      "Глубина = 9.00 | Порог = 0.00 | Точность = 0.298, Полнота = 0.890, F1 = 0.447, auc_roc= 0.806\n",
      "Глубина = 9.00 | Порог = 0.02 | Точность = 0.298, Полнота = 0.890, F1 = 0.447, auc_roc= 0.806\n",
      "Глубина = 9.00 | Порог = 0.04 | Точность = 0.298, Полнота = 0.890, F1 = 0.447, auc_roc= 0.806\n",
      "Глубина = 9.00 | Порог = 0.06 | Точность = 0.298, Полнота = 0.890, F1 = 0.447, auc_roc= 0.806\n",
      "Глубина = 9.00 | Порог = 0.08 | Точность = 0.298, Полнота = 0.890, F1 = 0.447, auc_roc= 0.806\n",
      "Глубина = 9.00 | Порог = 0.10 | Точность = 0.298, Полнота = 0.890, F1 = 0.447, auc_roc= 0.806\n",
      "Глубина = 9.00 | Порог = 0.12 | Точность = 0.390, Полнота = 0.758, F1 = 0.515, auc_roc= 0.806\n",
      "Глубина = 9.00 | Порог = 0.14 | Точность = 0.390, Полнота = 0.758, F1 = 0.515, auc_roc= 0.806\n",
      "Глубина = 9.00 | Порог = 0.16 | Точность = 0.390, Полнота = 0.758, F1 = 0.515, auc_roc= 0.806\n",
      "Глубина = 9.00 | Порог = 0.18 | Точность = 0.390, Полнота = 0.758, F1 = 0.515, auc_roc= 0.806\n",
      "Глубина = 9.00 | Порог = 0.20 | Точность = 0.390, Полнота = 0.758, F1 = 0.515, auc_roc= 0.806\n",
      "Глубина = 9.00 | Порог = 0.22 | Точность = 0.390, Полнота = 0.758, F1 = 0.515, auc_roc= 0.806\n",
      "Глубина = 9.00 | Порог = 0.24 | Точность = 0.498, Полнота = 0.653, F1 = 0.565, auc_roc= 0.806\n",
      "Глубина = 9.00 | Порог = 0.26 | Точность = 0.498, Полнота = 0.653, F1 = 0.565, auc_roc= 0.806\n",
      "Глубина = 9.00 | Порог = 0.28 | Точность = 0.498, Полнота = 0.653, F1 = 0.565, auc_roc= 0.806\n",
      "Глубина = 9.00 | Порог = 0.30 | Точность = 0.498, Полнота = 0.653, F1 = 0.565, auc_roc= 0.806\n",
      "Глубина = 9.00 | Порог = 0.32 | Точность = 0.498, Полнота = 0.653, F1 = 0.565, auc_roc= 0.806\n",
      "Глубина = 9.00 | Порог = 0.34 | Точность = 0.602, Полнота = 0.557, F1 = 0.579, auc_roc= 0.806\n",
      "Глубина = 9.00 | Порог = 0.36 | Точность = 0.602, Полнота = 0.557, F1 = 0.579, auc_roc= 0.806\n",
      "Глубина = 9.00 | Порог = 0.38 | Точность = 0.602, Полнота = 0.557, F1 = 0.579, auc_roc= 0.806\n",
      "\n",
      "Лучший вариант:   Порог = 0.34 | Точность = 0.602, Полнота = 0.557, F1 = 0.579, auc_roc= 0.806\n",
      "\n",
      "Глубина = 10.00 | Порог = 0.00 | Точность = 0.294, Полнота = 0.902, F1 = 0.443, auc_roc= 0.813\n",
      "Глубина = 10.00 | Порог = 0.02 | Точность = 0.294, Полнота = 0.902, F1 = 0.443, auc_roc= 0.813\n",
      "Глубина = 10.00 | Порог = 0.04 | Точность = 0.294, Полнота = 0.902, F1 = 0.443, auc_roc= 0.813\n",
      "Глубина = 10.00 | Порог = 0.06 | Точность = 0.294, Полнота = 0.902, F1 = 0.443, auc_roc= 0.813\n",
      "Глубина = 10.00 | Порог = 0.08 | Точность = 0.294, Полнота = 0.902, F1 = 0.443, auc_roc= 0.813\n",
      "Глубина = 10.00 | Порог = 0.10 | Точность = 0.383, Полнота = 0.787, F1 = 0.515, auc_roc= 0.813\n",
      "Глубина = 10.00 | Порог = 0.12 | Точность = 0.383, Полнота = 0.787, F1 = 0.515, auc_roc= 0.813\n",
      "Глубина = 10.00 | Порог = 0.14 | Точность = 0.383, Полнота = 0.787, F1 = 0.515, auc_roc= 0.813\n",
      "Глубина = 10.00 | Порог = 0.16 | Точность = 0.383, Полнота = 0.787, F1 = 0.515, auc_roc= 0.813\n",
      "Глубина = 10.00 | Порог = 0.18 | Точность = 0.383, Полнота = 0.787, F1 = 0.515, auc_roc= 0.813\n",
      "Глубина = 10.00 | Порог = 0.20 | Точность = 0.475, Полнота = 0.677, F1 = 0.558, auc_roc= 0.813\n",
      "Глубина = 10.00 | Порог = 0.22 | Точность = 0.475, Полнота = 0.677, F1 = 0.558, auc_roc= 0.813\n",
      "Глубина = 10.00 | Порог = 0.24 | Точность = 0.475, Полнота = 0.677, F1 = 0.558, auc_roc= 0.813\n",
      "Глубина = 10.00 | Порог = 0.26 | Точность = 0.475, Полнота = 0.677, F1 = 0.558, auc_roc= 0.813\n",
      "Глубина = 10.00 | Порог = 0.28 | Точность = 0.475, Полнота = 0.677, F1 = 0.558, auc_roc= 0.813\n",
      "Глубина = 10.00 | Порог = 0.30 | Точность = 0.573, Полнота = 0.598, F1 = 0.585, auc_roc= 0.813\n",
      "Глубина = 10.00 | Порог = 0.32 | Точность = 0.573, Полнота = 0.598, F1 = 0.585, auc_roc= 0.813\n",
      "Глубина = 10.00 | Порог = 0.34 | Точность = 0.573, Полнота = 0.598, F1 = 0.585, auc_roc= 0.813\n",
      "Глубина = 10.00 | Порог = 0.36 | Точность = 0.573, Полнота = 0.598, F1 = 0.585, auc_roc= 0.813\n",
      "Глубина = 10.00 | Порог = 0.38 | Точность = 0.573, Полнота = 0.598, F1 = 0.585, auc_roc= 0.813\n",
      "\n",
      "Лучший вариант:   Порог = 0.30 | Точность = 0.573, Полнота = 0.598, F1 = 0.585, auc_roc= 0.813\n",
      "\n"
     ]
    }
   ],
   "source": [
    "best_result = 0.4\n",
    "for est in range(1, 11):\n",
    "\tmodel = RandomForestClassifier(random_state=12345, n_estimators=est)\n",
    "\tmodel.fit(features_train, target_train)\n",
    "\tprobabilities_valid = model.predict_proba(features_valid)\n",
    "\tprobabilities_one_valid = probabilities_valid[:, 1]\n",
    "\tbest_result = 0.4\n",
    "\tfor threshold in np.arange(0, 0.4, 0.02):\n",
    "\t\tpredicted_valid = probabilities_one_valid > threshold\n",
    "\t\tprecision = precision_score(target_valid, predicted_valid)\n",
    "\t\trecall = recall_score(target_valid, predicted_valid)\n",
    "\t\tresult_f1 = f1_score(target_valid, predicted_valid)\n",
    "\t\tauc_roc = roc_auc_score(target_valid, probabilities_one_valid)\n",
    "\t\tif result_f1 > best_result:\n",
    "\t\t\tbest_threshold = threshold #сохраняем порог\n",
    "\t\t\tbest_precision = precision #сохраняем Точность\n",
    "\t\t\tbest_recall = recall #сохраняем Полнота\n",
    "\t\t\tbest_result = result_f1 #сохраняем F1\n",
    "\t\t\tbest_auc = auc_roc\n",
    "\t\tprint(\"Глубина = {:.2f} | Порог = {:.2f} | Точность = {:.3f}, Полнота = {:.3f}, F1 = {:.3f}, auc_roc= {:.3f}\".format(est,\n",
    "\t\t\tthreshold, precision, recall, result_f1, auc_roc))\n",
    "\tprint('')\n",
    "\tprint(\"Лучший вариант:   Порог = {:.2f} | Точность = {:.3f}, Полнота = {:.3f}, F1 = {:.3f}, auc_roc= {:.3f}\".format(\n",
    "        best_threshold, best_precision, best_recall, best_result, best_auc))\n",
    "\tprint('')"
   ]
  },
  {
   "cell_type": "markdown",
   "metadata": {},
   "source": [
    "При использовании модели RandomForestClassifier лучший показатель\n",
    "\n",
    "Лучший вариант:Глубина = 10.00   Порог = 0.30 | Точность = 0.602, Полнота = 0.627, F1 = 0.614, auc_roc= 0.820"
   ]
  },
  {
   "cell_type": "markdown",
   "metadata": {},
   "source": [
    "#### Вывод:"
   ]
  },
  {
   "cell_type": "markdown",
   "metadata": {},
   "source": [
    "Метод \"Изменение порога\" показал одни из лучших результатов по отношению в сравнении с другими методами.\n",
    "Достигнута величина F1 больше 0,59 при использовании модели DecisionTreeClassifier\n",
    "\n",
    " Глубина = 6.00 Порог = 0.26 | Точность = 0.623, Полнота = 0.577, F1 = 0.599, auc_roc= 0.816\n"
   ]
  },
  {
   "cell_type": "markdown",
   "metadata": {},
   "source": [
    "При исследовании всех методов учета дисбаланса наилучший метод это Изменение порога.Модель \n",
    "\n",
    "DecisionTreeClassifier \n",
    "\n",
    "Глубина = 6.00 Порог = 0.26 | Точность = 0.623, Полнота = 0.577, F1 = 0.599, auc_roc= 0.816\n",
    "\n",
    "Ее будем тестировать на итоговой тестовой выборке"
   ]
  },
  {
   "cell_type": "markdown",
   "metadata": {},
   "source": [
    "## Тестирование модели"
   ]
  },
  {
   "cell_type": "markdown",
   "metadata": {},
   "source": [
    "### Используем метод изменения порога с лучшими показателими и моделью DecisionTreeClassifier с глубиной 6"
   ]
  },
  {
   "cell_type": "code",
   "execution_count": 43,
   "metadata": {
    "scrolled": false
   },
   "outputs": [
    {
     "name": "stdout",
     "output_type": "stream",
     "text": [
      "Глубина = 6.00 |  Точность = 0.542, Полнота = 0.678, F1 = 0.602, auc_roc= 0.839\n",
      "CPU times: user 30.7 ms, sys: 175 µs, total: 30.9 ms\n",
      "Wall time: 29.2 ms\n"
     ]
    }
   ],
   "source": [
    "%%time\n",
    "best_result = 0.4\n",
    "model = DecisionTreeClassifier(random_state=12345, max_depth=6)\n",
    "model.fit(features_train, target_train)\n",
    "probabilities_test = model.predict_proba(features_test)\n",
    "probabilities_one_test = probabilities_test[:, 1]\n",
    "predicted_test = probabilities_one_test > 0.24\n",
    "precision = precision_score(target_test, predicted_test)\n",
    "recall = recall_score(target_test, predicted_test)\n",
    "result_f1 = f1_score(target_test, predicted_test)\n",
    "auc_roc = roc_auc_score(target_test, probabilities_one_test)\n",
    "print(\"Глубина = {:.2f} |  Точность = {:.3f}, Полнота = {:.3f}, F1 = {:.3f}, auc_roc= {:.3f}\".format(6,\n",
    " precision, recall, result_f1, auc_roc))\n"
   ]
  },
  {
   "cell_type": "code",
   "execution_count": 44,
   "metadata": {},
   "outputs": [
    {
     "data": {
      "image/png": "[encoded data removed]",
      "text/plain": [
       "<Figure size 432x288 with 1 Axes>"
      ]
     },
     "metadata": {
      "needs_background": "light"
     },
     "output_type": "display_data"
    }
   ],
   "source": [
    "fpr, tpr, thresholds = roc_curve(target_test, probabilities_one_test)\n",
    "\n",
    "plt.figure()\n",
    "\n",
    "plt.plot(fpr, tpr)\n",
    "\n",
    "plt.plot([0, 1], [0, 1], linestyle='--')\n",
    "\n",
    "plt.xlim([0.0, 01.0])\n",
    "plt.ylim([0.0, 1.0])\n",
    "\n",
    "plt.xlabel('False Positive Rate')\n",
    "plt.ylabel('True Positive Rate')\n",
    "\n",
    "plt.title('ROC-кривая')\n",
    "plt.show()"
   ]
  },
  {
   "cell_type": "markdown",
   "metadata": {},
   "source": [
    "По графику предсказания имеют положительную динамику.Метрика Глубина = 6.00 |  Точность = 0.542, Полнота = 0.678, F1 = 0.602, auc_roc= 0.839"
   ]
  },
  {
   "cell_type": "markdown",
   "metadata": {},
   "source": [
    "## Выводы"
   ]
  },
  {
   "cell_type": "markdown",
   "metadata": {},
   "source": [
    "- При первичном исследовании датасета были обнаружены пустые значения и аномалии.\n",
    "- Был проведен тест предсказаний моделей при варианте удаления этих строк и потере 12% данных.Следующий шаг для эксперимента было принято решение данные не удалять, а заменить пустые и нулевые значения на 1.Это показало положительную динамику для повышения мерки F1.\n",
    "- Перед исследованием данные были переведены в числовые, там где это было необходимо.Количественные признаки были масштабированы.\n",
    "- Колонки которые не несли в себе общих признаков были удалены.\n",
    "- Было проведено исследование матриц ошибок где наблюдался дисбаланс классов.\n",
    "- Были исследованы модели без учета дисбаланса.Лучшая метрика была у RandomForestClassifier Деревьев: 9 Accuracy: 0.856 F1: 0.5943661971830986.\n",
    "- В дальнейшем были исследованы 4 вида борьбы с дисбалансом классов:\n",
    "- - Взвешивание классов(применение аргумента class_weight ='balanced')\n",
    "- - Увеличение положительных ответов в выборке\n",
    "- - Снижение отрицательных ответов в выборке\n",
    "- - Изменение порога.\n",
    "- Лучший показатель дал метод изменения порога у двух моделей RandomForestClassifier\n",
    "Глубина = 6.00 |  Точность = 0.542, Полнота = 0.678, F1 = 0.602, auc_roc= 0.839"
   ]
  }
 ],
 "metadata": {
  "ExecuteTimeLog": [
   {
    "duration": 1438,
    "start_time": "2023-01-17T16:04:35.927Z"
   },
   {
    "duration": 176,
    "start_time": "2023-01-17T16:04:53.014Z"
   },
   {
    "duration": 20,
    "start_time": "2023-01-17T16:05:13.362Z"
   },
   {
    "duration": 17,
    "start_time": "2023-01-17T16:06:15.373Z"
   },
   {
    "duration": 7,
    "start_time": "2023-01-17T16:08:36.190Z"
   },
   {
    "duration": 17,
    "start_time": "2023-01-17T16:13:29.871Z"
   },
   {
    "duration": 37,
    "start_time": "2023-01-17T16:18:05.978Z"
   },
   {
    "duration": 6,
    "start_time": "2023-01-17T16:20:22.995Z"
   },
   {
    "duration": 36,
    "start_time": "2023-01-17T16:20:58.220Z"
   },
   {
    "duration": 6,
    "start_time": "2023-01-17T16:22:44.082Z"
   },
   {
    "duration": 6,
    "start_time": "2023-01-17T16:22:56.212Z"
   },
   {
    "duration": 151,
    "start_time": "2023-01-17T16:24:41.077Z"
   },
   {
    "duration": 9,
    "start_time": "2023-01-17T16:24:50.043Z"
   },
   {
    "duration": 5,
    "start_time": "2023-01-17T16:24:53.581Z"
   },
   {
    "duration": 5,
    "start_time": "2023-01-17T16:25:01.390Z"
   },
   {
    "duration": 9,
    "start_time": "2023-01-17T16:25:12.711Z"
   },
   {
    "duration": 8,
    "start_time": "2023-01-17T16:25:22.526Z"
   },
   {
    "duration": 24,
    "start_time": "2023-01-17T16:25:25.311Z"
   },
   {
    "duration": 71,
    "start_time": "2023-01-22T07:49:37.835Z"
   },
   {
    "duration": 1555,
    "start_time": "2023-01-22T07:49:50.011Z"
   },
   {
    "duration": 166,
    "start_time": "2023-01-22T07:49:51.568Z"
   },
   {
    "duration": 17,
    "start_time": "2023-01-22T07:49:51.736Z"
   },
   {
    "duration": 113,
    "start_time": "2023-01-22T07:49:51.756Z"
   },
   {
    "duration": 23,
    "start_time": "2023-01-22T07:49:51.871Z"
   },
   {
    "duration": 7,
    "start_time": "2023-01-22T07:49:51.895Z"
   },
   {
    "duration": 25,
    "start_time": "2023-01-22T07:49:51.905Z"
   },
   {
    "duration": 37,
    "start_time": "2023-01-22T07:49:51.932Z"
   },
   {
    "duration": 11,
    "start_time": "2023-01-22T07:49:51.972Z"
   },
   {
    "duration": 15,
    "start_time": "2023-01-22T07:49:51.986Z"
   },
   {
    "duration": 14,
    "start_time": "2023-01-22T07:49:52.002Z"
   },
   {
    "duration": 13,
    "start_time": "2023-01-22T07:49:52.017Z"
   },
   {
    "duration": 18606,
    "start_time": "2023-01-22T07:49:52.031Z"
   },
   {
    "duration": 26,
    "start_time": "2023-01-22T07:50:10.639Z"
   },
   {
    "duration": 6,
    "start_time": "2023-01-22T07:50:10.667Z"
   },
   {
    "duration": 22,
    "start_time": "2023-01-22T07:50:10.675Z"
   },
   {
    "duration": 4,
    "start_time": "2023-01-22T07:50:10.698Z"
   },
   {
    "duration": 8,
    "start_time": "2023-01-22T07:50:10.703Z"
   },
   {
    "duration": 6,
    "start_time": "2023-01-22T07:50:10.713Z"
   },
   {
    "duration": 27,
    "start_time": "2023-01-22T07:50:10.721Z"
   },
   {
    "duration": 4,
    "start_time": "2023-01-22T07:50:10.750Z"
   },
   {
    "duration": 5,
    "start_time": "2023-01-22T07:50:10.756Z"
   },
   {
    "duration": 35,
    "start_time": "2023-01-22T07:50:10.792Z"
   },
   {
    "duration": 32,
    "start_time": "2023-01-22T07:50:10.829Z"
   },
   {
    "duration": 166,
    "start_time": "2023-01-22T07:50:10.863Z"
   },
   {
    "duration": 495,
    "start_time": "2023-01-22T07:50:11.030Z"
   },
   {
    "duration": 68,
    "start_time": "2023-01-22T07:50:11.527Z"
   },
   {
    "duration": 107,
    "start_time": "2023-01-22T07:50:11.600Z"
   },
   {
    "duration": 322,
    "start_time": "2023-01-22T07:50:11.709Z"
   },
   {
    "duration": 458,
    "start_time": "2023-01-22T07:50:12.033Z"
   },
   {
    "duration": 29,
    "start_time": "2023-01-22T07:50:12.493Z"
   },
   {
    "duration": 176,
    "start_time": "2023-01-22T07:50:12.524Z"
   },
   {
    "duration": 780,
    "start_time": "2023-01-22T07:50:12.702Z"
   },
   {
    "duration": 2158,
    "start_time": "2023-01-22T07:50:13.484Z"
   },
   {
    "duration": 11,
    "start_time": "2023-01-22T07:50:15.643Z"
   },
   {
    "duration": 136,
    "start_time": "2023-01-22T07:50:15.656Z"
   },
   {
    "duration": 229,
    "start_time": "2023-01-22T07:50:15.794Z"
   },
   {
    "duration": 366,
    "start_time": "2023-01-22T07:50:16.026Z"
   },
   {
    "duration": 345,
    "start_time": "2023-01-22T07:50:16.394Z"
   },
   {
    "duration": 1620,
    "start_time": "2023-01-22T07:50:16.741Z"
   },
   {
    "duration": 1506,
    "start_time": "2023-01-22T07:50:18.363Z"
   },
   {
    "duration": 26,
    "start_time": "2023-01-22T07:50:19.870Z"
   },
   {
    "duration": 197,
    "start_time": "2023-01-22T07:50:19.897Z"
   },
   {
    "duration": 20,
    "start_time": "2023-01-22T07:50:20.096Z"
   },
   {
    "duration": 169,
    "start_time": "2023-01-22T07:50:51.268Z"
   },
   {
    "duration": 48,
    "start_time": "2023-01-22T07:53:22.583Z"
   },
   {
    "duration": 857,
    "start_time": "2023-01-22T07:55:40.926Z"
   },
   {
    "duration": 3,
    "start_time": "2023-01-22T07:55:53.949Z"
   },
   {
    "duration": 5,
    "start_time": "2023-01-22T07:56:02.651Z"
   },
   {
    "duration": 4,
    "start_time": "2023-01-22T07:57:09.577Z"
   },
   {
    "duration": 1283,
    "start_time": "2023-01-22T07:57:18.645Z"
   },
   {
    "duration": 39,
    "start_time": "2023-01-22T07:57:19.930Z"
   },
   {
    "duration": 12,
    "start_time": "2023-01-22T07:57:19.970Z"
   },
   {
    "duration": 16,
    "start_time": "2023-01-22T07:57:19.984Z"
   },
   {
    "duration": 20,
    "start_time": "2023-01-22T07:57:20.001Z"
   },
   {
    "duration": 4,
    "start_time": "2023-01-22T07:57:20.022Z"
   },
   {
    "duration": 22,
    "start_time": "2023-01-22T07:57:20.027Z"
   },
   {
    "duration": 57,
    "start_time": "2023-01-22T07:57:20.051Z"
   },
   {
    "duration": 22,
    "start_time": "2023-01-22T07:57:20.110Z"
   },
   {
    "duration": 35,
    "start_time": "2023-01-22T07:57:20.135Z"
   },
   {
    "duration": 23,
    "start_time": "2023-01-22T07:57:20.171Z"
   },
   {
    "duration": 12,
    "start_time": "2023-01-22T07:57:20.196Z"
   },
   {
    "duration": 18611,
    "start_time": "2023-01-22T07:57:20.210Z"
   },
   {
    "duration": 26,
    "start_time": "2023-01-22T07:57:38.823Z"
   },
   {
    "duration": 8,
    "start_time": "2023-01-22T07:57:38.851Z"
   },
   {
    "duration": 13,
    "start_time": "2023-01-22T07:57:38.860Z"
   },
   {
    "duration": 6,
    "start_time": "2023-01-22T07:57:38.874Z"
   },
   {
    "duration": 9,
    "start_time": "2023-01-22T07:57:38.882Z"
   },
   {
    "duration": 9,
    "start_time": "2023-01-22T07:57:38.892Z"
   },
   {
    "duration": 33,
    "start_time": "2023-01-22T07:57:38.903Z"
   },
   {
    "duration": 4,
    "start_time": "2023-01-22T07:57:38.937Z"
   },
   {
    "duration": 7,
    "start_time": "2023-01-22T07:57:38.942Z"
   },
   {
    "duration": 45,
    "start_time": "2023-01-22T07:57:38.951Z"
   },
   {
    "duration": 34,
    "start_time": "2023-01-22T07:57:38.998Z"
   },
   {
    "duration": 159,
    "start_time": "2023-01-22T07:57:39.035Z"
   },
   {
    "duration": 507,
    "start_time": "2023-01-22T07:57:39.196Z"
   },
   {
    "duration": 89,
    "start_time": "2023-01-22T07:57:39.705Z"
   },
   {
    "duration": 115,
    "start_time": "2023-01-22T07:57:39.798Z"
   },
   {
    "duration": 250,
    "start_time": "2023-01-22T07:57:39.993Z"
   },
   {
    "duration": 494,
    "start_time": "2023-01-22T07:57:40.245Z"
   },
   {
    "duration": 29,
    "start_time": "2023-01-22T07:57:40.741Z"
   },
   {
    "duration": 221,
    "start_time": "2023-01-22T07:57:40.772Z"
   },
   {
    "duration": 791,
    "start_time": "2023-01-22T07:57:40.994Z"
   },
   {
    "duration": 2348,
    "start_time": "2023-01-22T07:57:41.791Z"
   },
   {
    "duration": 11,
    "start_time": "2023-01-22T07:57:44.141Z"
   },
   {
    "duration": 320,
    "start_time": "2023-01-22T07:57:44.154Z"
   },
   {
    "duration": 4286,
    "start_time": "2023-01-22T07:57:44.476Z"
   },
   {
    "duration": 439,
    "start_time": "2023-01-22T07:57:48.764Z"
   },
   {
    "duration": 1129,
    "start_time": "2023-01-22T07:57:49.207Z"
   },
   {
    "duration": 1571,
    "start_time": "2023-01-22T07:57:50.338Z"
   },
   {
    "duration": 1558,
    "start_time": "2023-01-22T07:57:51.911Z"
   },
   {
    "duration": 31,
    "start_time": "2023-01-22T07:57:53.471Z"
   },
   {
    "duration": 209,
    "start_time": "2023-01-22T07:57:53.503Z"
   },
   {
    "duration": 23,
    "start_time": "2023-01-22T07:57:53.713Z"
   },
   {
    "duration": 2756,
    "start_time": "2023-01-22T07:58:36.968Z"
   },
   {
    "duration": 16,
    "start_time": "2023-01-22T07:58:47.513Z"
   },
   {
    "duration": 124,
    "start_time": "2023-01-22T07:58:48.769Z"
   },
   {
    "duration": 117,
    "start_time": "2023-01-22T07:58:52.697Z"
   },
   {
    "duration": 401,
    "start_time": "2023-01-22T07:59:00.497Z"
   },
   {
    "duration": 322,
    "start_time": "2023-01-22T07:59:08.452Z"
   },
   {
    "duration": 1602,
    "start_time": "2023-01-22T07:59:21.697Z"
   },
   {
    "duration": 1556,
    "start_time": "2023-01-22T08:00:36.046Z"
   },
   {
    "duration": 19,
    "start_time": "2023-01-22T08:00:56.521Z"
   },
   {
    "duration": 178,
    "start_time": "2023-01-22T08:01:09.755Z"
   },
   {
    "duration": 17,
    "start_time": "2023-01-22T08:01:22.170Z"
   },
   {
    "duration": 12,
    "start_time": "2023-01-22T08:11:33.778Z"
   },
   {
    "duration": 96,
    "start_time": "2023-01-22T08:11:34.898Z"
   },
   {
    "duration": 241,
    "start_time": "2023-01-22T08:11:36.842Z"
   },
   {
    "duration": 804,
    "start_time": "2023-01-22T08:11:47.042Z"
   },
   {
    "duration": 13,
    "start_time": "2023-01-22T08:18:30.599Z"
   },
   {
    "duration": 100,
    "start_time": "2023-01-22T08:18:31.694Z"
   },
   {
    "duration": 11,
    "start_time": "2023-01-22T08:18:37.335Z"
   },
   {
    "duration": 37,
    "start_time": "2023-01-22T08:18:38.377Z"
   },
   {
    "duration": 10,
    "start_time": "2023-01-22T08:18:44.583Z"
   },
   {
    "duration": 18,
    "start_time": "2023-01-22T08:18:45.680Z"
   },
   {
    "duration": 114,
    "start_time": "2023-01-22T08:18:55.249Z"
   },
   {
    "duration": 347,
    "start_time": "2023-01-22T08:22:56.360Z"
   },
   {
    "duration": 48,
    "start_time": "2023-01-22T08:24:20.205Z"
   },
   {
    "duration": 67,
    "start_time": "2023-01-22T08:24:38.988Z"
   },
   {
    "duration": 1699,
    "start_time": "2023-01-22T08:24:55.276Z"
   },
   {
    "duration": 1765,
    "start_time": "2023-01-22T08:25:31.957Z"
   },
   {
    "duration": 1838,
    "start_time": "2023-01-22T08:30:42.289Z"
   },
   {
    "duration": 78,
    "start_time": "2023-01-22T08:31:37.149Z"
   },
   {
    "duration": 1813,
    "start_time": "2023-01-22T08:31:44.761Z"
   },
   {
    "duration": 1694,
    "start_time": "2023-01-22T08:32:03.650Z"
   },
   {
    "duration": 1698,
    "start_time": "2023-01-22T08:32:43.955Z"
   },
   {
    "duration": 242,
    "start_time": "2023-01-22T08:35:16.027Z"
   },
   {
    "duration": 195,
    "start_time": "2023-01-22T08:36:54.836Z"
   },
   {
    "duration": 54,
    "start_time": "2023-01-22T08:37:09.484Z"
   },
   {
    "duration": 246,
    "start_time": "2023-01-22T08:37:25.928Z"
   },
   {
    "duration": 213,
    "start_time": "2023-01-22T08:38:16.455Z"
   },
   {
    "duration": 203,
    "start_time": "2023-01-22T08:38:31.062Z"
   },
   {
    "duration": 194,
    "start_time": "2023-01-22T08:38:53.989Z"
   },
   {
    "duration": 269,
    "start_time": "2023-01-22T08:40:35.888Z"
   },
   {
    "duration": 246,
    "start_time": "2023-01-22T08:41:23.016Z"
   },
   {
    "duration": 262,
    "start_time": "2023-01-22T08:41:49.869Z"
   },
   {
    "duration": 246,
    "start_time": "2023-01-22T08:42:33.132Z"
   },
   {
    "duration": 114,
    "start_time": "2023-01-22T08:44:34.751Z"
   },
   {
    "duration": 11,
    "start_time": "2023-01-22T08:45:56.952Z"
   },
   {
    "duration": 122,
    "start_time": "2023-01-22T08:46:09.866Z"
   },
   {
    "duration": 118,
    "start_time": "2023-01-22T08:46:23.475Z"
   },
   {
    "duration": 208,
    "start_time": "2023-01-22T08:56:04.425Z"
   },
   {
    "duration": 273,
    "start_time": "2023-01-22T08:58:13.915Z"
   },
   {
    "duration": 255,
    "start_time": "2023-01-22T08:58:25.642Z"
   },
   {
    "duration": 217,
    "start_time": "2023-01-22T08:59:31.035Z"
   },
   {
    "duration": 190,
    "start_time": "2023-01-22T08:59:53.286Z"
   },
   {
    "duration": 199,
    "start_time": "2023-01-22T09:00:33.292Z"
   },
   {
    "duration": 212,
    "start_time": "2023-01-22T09:01:07.407Z"
   },
   {
    "duration": 248,
    "start_time": "2023-01-22T09:01:36.212Z"
   },
   {
    "duration": 191,
    "start_time": "2023-01-22T09:01:42.909Z"
   },
   {
    "duration": 194,
    "start_time": "2023-01-22T09:02:18.085Z"
   },
   {
    "duration": 364,
    "start_time": "2023-01-22T09:03:13.878Z"
   },
   {
    "duration": 413,
    "start_time": "2023-01-22T09:03:25.935Z"
   },
   {
    "duration": 436,
    "start_time": "2023-01-22T09:03:36.847Z"
   },
   {
    "duration": 2003,
    "start_time": "2023-01-22T09:03:47.479Z"
   },
   {
    "duration": 1707,
    "start_time": "2023-01-22T09:04:16.805Z"
   },
   {
    "duration": 193,
    "start_time": "2023-01-22T09:04:34.670Z"
   },
   {
    "duration": 283,
    "start_time": "2023-01-22T09:04:45.124Z"
   },
   {
    "duration": 55,
    "start_time": "2023-01-22T09:09:00.408Z"
   },
   {
    "duration": 155,
    "start_time": "2023-01-22T09:28:27.309Z"
   },
   {
    "duration": 1500,
    "start_time": "2023-01-22T09:30:32.409Z"
   },
   {
    "duration": 41,
    "start_time": "2023-01-22T09:30:33.913Z"
   },
   {
    "duration": 15,
    "start_time": "2023-01-22T09:30:33.955Z"
   },
   {
    "duration": 16,
    "start_time": "2023-01-22T09:30:33.972Z"
   },
   {
    "duration": 28,
    "start_time": "2023-01-22T09:30:33.991Z"
   },
   {
    "duration": 4,
    "start_time": "2023-01-22T09:30:34.021Z"
   },
   {
    "duration": 8,
    "start_time": "2023-01-22T09:30:34.027Z"
   },
   {
    "duration": 26,
    "start_time": "2023-01-22T09:30:34.037Z"
   },
   {
    "duration": 4,
    "start_time": "2023-01-22T09:30:34.064Z"
   },
   {
    "duration": 44,
    "start_time": "2023-01-22T09:30:34.070Z"
   },
   {
    "duration": 12,
    "start_time": "2023-01-22T09:30:34.117Z"
   },
   {
    "duration": 27,
    "start_time": "2023-01-22T09:30:34.131Z"
   },
   {
    "duration": 20789,
    "start_time": "2023-01-22T09:30:34.160Z"
   },
   {
    "duration": 33,
    "start_time": "2023-01-22T09:30:54.953Z"
   },
   {
    "duration": 9,
    "start_time": "2023-01-22T09:30:54.988Z"
   },
   {
    "duration": 23,
    "start_time": "2023-01-22T09:30:54.998Z"
   },
   {
    "duration": 6,
    "start_time": "2023-01-22T09:30:55.023Z"
   },
   {
    "duration": 10,
    "start_time": "2023-01-22T09:30:55.030Z"
   },
   {
    "duration": 8,
    "start_time": "2023-01-22T09:30:55.041Z"
   },
   {
    "duration": 30,
    "start_time": "2023-01-22T09:30:55.050Z"
   },
   {
    "duration": 4,
    "start_time": "2023-01-22T09:30:55.081Z"
   },
   {
    "duration": 24,
    "start_time": "2023-01-22T09:30:55.087Z"
   },
   {
    "duration": 55,
    "start_time": "2023-01-22T09:30:55.113Z"
   },
   {
    "duration": 42,
    "start_time": "2023-01-22T09:30:55.169Z"
   },
   {
    "duration": 187,
    "start_time": "2023-01-22T09:30:55.213Z"
   },
   {
    "duration": 555,
    "start_time": "2023-01-22T09:30:55.401Z"
   },
   {
    "duration": 51,
    "start_time": "2023-01-22T09:30:55.958Z"
   },
   {
    "duration": 213,
    "start_time": "2023-01-22T09:30:56.011Z"
   },
   {
    "duration": 276,
    "start_time": "2023-01-22T09:30:56.293Z"
   },
   {
    "duration": 514,
    "start_time": "2023-01-22T09:30:56.570Z"
   },
   {
    "duration": 17,
    "start_time": "2023-01-22T09:30:57.091Z"
   },
   {
    "duration": 96,
    "start_time": "2023-01-22T09:30:57.110Z"
   },
   {
    "duration": 376,
    "start_time": "2023-01-22T09:30:57.208Z"
   },
   {
    "duration": 857,
    "start_time": "2023-01-22T09:30:57.591Z"
   },
   {
    "duration": 13,
    "start_time": "2023-01-22T09:30:58.449Z"
   },
   {
    "duration": 43,
    "start_time": "2023-01-22T09:30:58.464Z"
   },
   {
    "duration": 321,
    "start_time": "2023-01-22T09:30:58.509Z"
   },
   {
    "duration": 392,
    "start_time": "2023-01-22T09:30:58.831Z"
   },
   {
    "duration": 335,
    "start_time": "2023-01-22T09:30:59.224Z"
   },
   {
    "duration": 1817,
    "start_time": "2023-01-22T09:30:59.561Z"
   },
   {
    "duration": 1865,
    "start_time": "2023-01-22T09:31:01.399Z"
   },
   {
    "duration": 244,
    "start_time": "2023-01-22T09:31:03.266Z"
   },
   {
    "duration": 146,
    "start_time": "2023-01-22T09:31:03.511Z"
   },
   {
    "duration": 278,
    "start_time": "2023-01-22T09:31:03.659Z"
   },
   {
    "duration": 135,
    "start_time": "2023-01-22T09:31:03.939Z"
   },
   {
    "duration": 4,
    "start_time": "2023-01-22T09:31:41.223Z"
   },
   {
    "duration": 1450,
    "start_time": "2023-01-22T09:35:18.525Z"
   },
   {
    "duration": 66,
    "start_time": "2023-01-22T09:35:19.977Z"
   },
   {
    "duration": 18,
    "start_time": "2023-01-22T09:35:20.045Z"
   },
   {
    "duration": 19,
    "start_time": "2023-01-22T09:35:20.065Z"
   },
   {
    "duration": 26,
    "start_time": "2023-01-22T09:35:20.086Z"
   },
   {
    "duration": 6,
    "start_time": "2023-01-22T09:35:20.116Z"
   },
   {
    "duration": 9,
    "start_time": "2023-01-22T09:35:20.124Z"
   },
   {
    "duration": 24,
    "start_time": "2023-01-22T09:35:20.134Z"
   },
   {
    "duration": 4,
    "start_time": "2023-01-22T09:35:20.160Z"
   },
   {
    "duration": 33,
    "start_time": "2023-01-22T09:35:20.167Z"
   },
   {
    "duration": 16,
    "start_time": "2023-01-22T09:35:20.205Z"
   },
   {
    "duration": 17,
    "start_time": "2023-01-22T09:35:20.223Z"
   },
   {
    "duration": 21312,
    "start_time": "2023-01-22T09:35:20.241Z"
   },
   {
    "duration": 32,
    "start_time": "2023-01-22T09:35:41.554Z"
   },
   {
    "duration": 7,
    "start_time": "2023-01-22T09:35:41.592Z"
   },
   {
    "duration": 23,
    "start_time": "2023-01-22T09:35:41.601Z"
   },
   {
    "duration": 5,
    "start_time": "2023-01-22T09:35:41.626Z"
   },
   {
    "duration": 7,
    "start_time": "2023-01-22T09:35:41.633Z"
   },
   {
    "duration": 8,
    "start_time": "2023-01-22T09:35:41.642Z"
   },
   {
    "duration": 26,
    "start_time": "2023-01-22T09:35:41.651Z"
   },
   {
    "duration": 4,
    "start_time": "2023-01-22T09:35:41.678Z"
   },
   {
    "duration": 11,
    "start_time": "2023-01-22T09:35:41.683Z"
   },
   {
    "duration": 54,
    "start_time": "2023-01-22T09:35:41.695Z"
   },
   {
    "duration": 42,
    "start_time": "2023-01-22T09:35:41.750Z"
   },
   {
    "duration": 173,
    "start_time": "2023-01-22T09:35:41.793Z"
   },
   {
    "duration": 555,
    "start_time": "2023-01-22T09:35:41.967Z"
   },
   {
    "duration": 167,
    "start_time": "2023-01-22T09:35:42.524Z"
   },
   {
    "duration": 26,
    "start_time": "2023-01-22T09:35:42.695Z"
   },
   {
    "duration": 270,
    "start_time": "2023-01-22T09:35:42.792Z"
   },
   {
    "duration": 539,
    "start_time": "2023-01-22T09:35:43.064Z"
   },
   {
    "duration": 13,
    "start_time": "2023-01-22T09:35:43.605Z"
   },
   {
    "duration": 72,
    "start_time": "2023-01-22T09:35:43.620Z"
   },
   {
    "duration": 365,
    "start_time": "2023-01-22T09:35:43.694Z"
   },
   {
    "duration": 868,
    "start_time": "2023-01-22T09:35:44.061Z"
   },
   {
    "duration": 16,
    "start_time": "2023-01-22T09:35:44.931Z"
   },
   {
    "duration": 169,
    "start_time": "2023-01-22T09:35:44.949Z"
   },
   {
    "duration": 241,
    "start_time": "2023-01-22T09:35:45.119Z"
   },
   {
    "duration": 415,
    "start_time": "2023-01-22T09:35:45.362Z"
   },
   {
    "duration": 413,
    "start_time": "2023-01-22T09:35:45.779Z"
   },
   {
    "duration": 1876,
    "start_time": "2023-01-22T09:35:46.194Z"
   },
   {
    "duration": 1691,
    "start_time": "2023-01-22T09:35:48.072Z"
   },
   {
    "duration": 260,
    "start_time": "2023-01-22T09:35:49.765Z"
   },
   {
    "duration": 142,
    "start_time": "2023-01-22T09:35:50.027Z"
   },
   {
    "duration": 259,
    "start_time": "2023-01-22T09:35:50.171Z"
   },
   {
    "duration": 136,
    "start_time": "2023-01-22T09:35:50.432Z"
   },
   {
    "duration": 48,
    "start_time": "2023-01-22T11:37:31.806Z"
   },
   {
    "duration": 1666,
    "start_time": "2023-01-22T11:37:49.197Z"
   },
   {
    "duration": 174,
    "start_time": "2023-01-22T11:37:50.865Z"
   },
   {
    "duration": 16,
    "start_time": "2023-01-22T11:37:51.041Z"
   },
   {
    "duration": 48,
    "start_time": "2023-01-22T11:37:51.060Z"
   },
   {
    "duration": 61,
    "start_time": "2023-01-22T11:37:51.109Z"
   },
   {
    "duration": 4,
    "start_time": "2023-01-22T11:37:51.172Z"
   },
   {
    "duration": 29,
    "start_time": "2023-01-22T11:37:51.178Z"
   },
   {
    "duration": 59,
    "start_time": "2023-01-22T11:37:51.208Z"
   },
   {
    "duration": 16,
    "start_time": "2023-01-22T11:37:51.270Z"
   },
   {
    "duration": 34,
    "start_time": "2023-01-22T11:37:51.290Z"
   },
   {
    "duration": 34,
    "start_time": "2023-01-22T11:37:51.326Z"
   },
   {
    "duration": 52,
    "start_time": "2023-01-22T11:37:51.362Z"
   },
   {
    "duration": 20271,
    "start_time": "2023-01-22T11:37:51.416Z"
   },
   {
    "duration": 3,
    "start_time": "2023-01-22T11:38:11.689Z"
   },
   {
    "duration": 116,
    "start_time": "2023-01-22T11:38:11.693Z"
   },
   {
    "duration": 0,
    "start_time": "2023-01-22T11:38:11.812Z"
   },
   {
    "duration": 0,
    "start_time": "2023-01-22T11:38:11.813Z"
   },
   {
    "duration": 0,
    "start_time": "2023-01-22T11:38:11.815Z"
   },
   {
    "duration": 0,
    "start_time": "2023-01-22T11:38:11.816Z"
   },
   {
    "duration": 0,
    "start_time": "2023-01-22T11:38:11.817Z"
   },
   {
    "duration": 0,
    "start_time": "2023-01-22T11:38:11.819Z"
   },
   {
    "duration": 0,
    "start_time": "2023-01-22T11:38:11.820Z"
   },
   {
    "duration": 0,
    "start_time": "2023-01-22T11:38:11.821Z"
   },
   {
    "duration": 0,
    "start_time": "2023-01-22T11:38:11.822Z"
   },
   {
    "duration": 0,
    "start_time": "2023-01-22T11:38:11.823Z"
   },
   {
    "duration": 0,
    "start_time": "2023-01-22T11:38:11.837Z"
   },
   {
    "duration": 0,
    "start_time": "2023-01-22T11:38:11.838Z"
   },
   {
    "duration": 0,
    "start_time": "2023-01-22T11:38:11.839Z"
   },
   {
    "duration": 0,
    "start_time": "2023-01-22T11:38:11.840Z"
   },
   {
    "duration": 0,
    "start_time": "2023-01-22T11:38:11.841Z"
   },
   {
    "duration": 0,
    "start_time": "2023-01-22T11:38:11.842Z"
   },
   {
    "duration": 0,
    "start_time": "2023-01-22T11:38:11.844Z"
   },
   {
    "duration": 0,
    "start_time": "2023-01-22T11:38:11.845Z"
   },
   {
    "duration": 0,
    "start_time": "2023-01-22T11:38:11.846Z"
   },
   {
    "duration": 0,
    "start_time": "2023-01-22T11:38:11.847Z"
   },
   {
    "duration": 0,
    "start_time": "2023-01-22T11:38:11.848Z"
   },
   {
    "duration": 0,
    "start_time": "2023-01-22T11:38:11.849Z"
   },
   {
    "duration": 0,
    "start_time": "2023-01-22T11:38:11.850Z"
   },
   {
    "duration": 0,
    "start_time": "2023-01-22T11:38:11.851Z"
   },
   {
    "duration": 0,
    "start_time": "2023-01-22T11:38:11.852Z"
   },
   {
    "duration": 0,
    "start_time": "2023-01-22T11:38:11.853Z"
   },
   {
    "duration": 0,
    "start_time": "2023-01-22T11:38:11.854Z"
   },
   {
    "duration": 0,
    "start_time": "2023-01-22T11:38:11.855Z"
   },
   {
    "duration": 0,
    "start_time": "2023-01-22T11:38:11.857Z"
   },
   {
    "duration": 0,
    "start_time": "2023-01-22T11:38:11.858Z"
   },
   {
    "duration": 0,
    "start_time": "2023-01-22T11:38:11.859Z"
   },
   {
    "duration": 12,
    "start_time": "2023-01-22T11:39:01.590Z"
   },
   {
    "duration": 7,
    "start_time": "2023-01-22T11:39:23.806Z"
   },
   {
    "duration": 1431,
    "start_time": "2023-01-22T11:39:30.421Z"
   },
   {
    "duration": 44,
    "start_time": "2023-01-22T11:39:31.854Z"
   },
   {
    "duration": 15,
    "start_time": "2023-01-22T11:39:31.899Z"
   },
   {
    "duration": 20,
    "start_time": "2023-01-22T11:39:31.916Z"
   },
   {
    "duration": 29,
    "start_time": "2023-01-22T11:39:31.937Z"
   },
   {
    "duration": 11,
    "start_time": "2023-01-22T11:39:31.968Z"
   },
   {
    "duration": 20,
    "start_time": "2023-01-22T11:39:31.980Z"
   },
   {
    "duration": 38,
    "start_time": "2023-01-22T11:39:32.002Z"
   },
   {
    "duration": 23,
    "start_time": "2023-01-22T11:39:32.042Z"
   },
   {
    "duration": 26,
    "start_time": "2023-01-22T11:39:32.067Z"
   },
   {
    "duration": 25,
    "start_time": "2023-01-22T11:39:32.095Z"
   },
   {
    "duration": 22,
    "start_time": "2023-01-22T11:39:32.122Z"
   },
   {
    "duration": 19625,
    "start_time": "2023-01-22T11:39:32.146Z"
   },
   {
    "duration": 3,
    "start_time": "2023-01-22T11:39:51.773Z"
   },
   {
    "duration": 12,
    "start_time": "2023-01-22T11:39:51.777Z"
   },
   {
    "duration": 18,
    "start_time": "2023-01-22T11:39:51.791Z"
   },
   {
    "duration": 14,
    "start_time": "2023-01-22T11:39:51.811Z"
   },
   {
    "duration": 10,
    "start_time": "2023-01-22T11:39:51.826Z"
   },
   {
    "duration": 21,
    "start_time": "2023-01-22T11:39:51.838Z"
   },
   {
    "duration": 3,
    "start_time": "2023-01-22T11:39:51.861Z"
   },
   {
    "duration": 40,
    "start_time": "2023-01-22T11:39:51.865Z"
   },
   {
    "duration": 3,
    "start_time": "2023-01-22T11:39:51.907Z"
   },
   {
    "duration": 7,
    "start_time": "2023-01-22T11:39:51.911Z"
   },
   {
    "duration": 51,
    "start_time": "2023-01-22T11:39:51.919Z"
   },
   {
    "duration": 37,
    "start_time": "2023-01-22T11:39:51.972Z"
   },
   {
    "duration": 180,
    "start_time": "2023-01-22T11:39:52.011Z"
   },
   {
    "duration": 552,
    "start_time": "2023-01-22T11:39:52.193Z"
   },
   {
    "duration": 89,
    "start_time": "2023-01-22T11:39:52.748Z"
   },
   {
    "duration": 110,
    "start_time": "2023-01-22T11:39:52.839Z"
   },
   {
    "duration": 265,
    "start_time": "2023-01-22T11:39:53.038Z"
   },
   {
    "duration": 559,
    "start_time": "2023-01-22T11:39:53.305Z"
   },
   {
    "duration": 14,
    "start_time": "2023-01-22T11:39:53.866Z"
   },
   {
    "duration": 60,
    "start_time": "2023-01-22T11:39:53.882Z"
   },
   {
    "duration": 431,
    "start_time": "2023-01-22T11:39:53.944Z"
   },
   {
    "duration": 868,
    "start_time": "2023-01-22T11:39:54.377Z"
   },
   {
    "duration": 11,
    "start_time": "2023-01-22T11:39:55.247Z"
   },
   {
    "duration": 77,
    "start_time": "2023-01-22T11:39:55.260Z"
   },
   {
    "duration": 219,
    "start_time": "2023-01-22T11:39:55.339Z"
   },
   {
    "duration": 391,
    "start_time": "2023-01-22T11:39:55.560Z"
   },
   {
    "duration": 347,
    "start_time": "2023-01-22T11:39:55.953Z"
   },
   {
    "duration": 1757,
    "start_time": "2023-01-22T11:39:56.302Z"
   },
   {
    "duration": 1758,
    "start_time": "2023-01-22T11:39:58.061Z"
   },
   {
    "duration": 200,
    "start_time": "2023-01-22T11:39:59.821Z"
   },
   {
    "duration": 137,
    "start_time": "2023-01-22T11:40:00.022Z"
   },
   {
    "duration": 250,
    "start_time": "2023-01-22T11:40:00.160Z"
   },
   {
    "duration": 130,
    "start_time": "2023-01-22T11:40:00.412Z"
   },
   {
    "duration": 83,
    "start_time": "2023-01-22T11:41:10.104Z"
   },
   {
    "duration": 40,
    "start_time": "2023-01-22T11:41:18.407Z"
   },
   {
    "duration": 39,
    "start_time": "2023-01-22T11:41:21.791Z"
   },
   {
    "duration": 4,
    "start_time": "2023-01-22T11:41:29.570Z"
   },
   {
    "duration": 49,
    "start_time": "2023-01-22T11:41:29.575Z"
   },
   {
    "duration": 13,
    "start_time": "2023-01-22T11:41:29.626Z"
   },
   {
    "duration": 14,
    "start_time": "2023-01-22T11:41:29.641Z"
   },
   {
    "duration": 25,
    "start_time": "2023-01-22T11:41:29.657Z"
   },
   {
    "duration": 4,
    "start_time": "2023-01-22T11:41:29.684Z"
   },
   {
    "duration": 9,
    "start_time": "2023-01-22T11:41:29.690Z"
   },
   {
    "duration": 54,
    "start_time": "2023-01-22T11:41:29.700Z"
   },
   {
    "duration": 3,
    "start_time": "2023-01-22T11:41:29.756Z"
   },
   {
    "duration": 21,
    "start_time": "2023-01-22T11:41:29.762Z"
   },
   {
    "duration": 14,
    "start_time": "2023-01-22T11:41:29.785Z"
   },
   {
    "duration": 19,
    "start_time": "2023-01-22T11:41:29.800Z"
   },
   {
    "duration": 20060,
    "start_time": "2023-01-22T11:41:29.821Z"
   },
   {
    "duration": 3,
    "start_time": "2023-01-22T11:41:49.883Z"
   },
   {
    "duration": 23,
    "start_time": "2023-01-22T11:41:49.887Z"
   },
   {
    "duration": 19,
    "start_time": "2023-01-22T11:41:49.912Z"
   },
   {
    "duration": 26,
    "start_time": "2023-01-22T11:41:49.932Z"
   },
   {
    "duration": 29,
    "start_time": "2023-01-22T11:41:49.960Z"
   },
   {
    "duration": 36,
    "start_time": "2023-01-22T11:41:49.991Z"
   },
   {
    "duration": 13,
    "start_time": "2023-01-22T11:41:50.029Z"
   },
   {
    "duration": 43,
    "start_time": "2023-01-22T11:41:50.043Z"
   },
   {
    "duration": 5,
    "start_time": "2023-01-22T11:41:50.088Z"
   },
   {
    "duration": 23,
    "start_time": "2023-01-22T11:41:50.094Z"
   },
   {
    "duration": 74,
    "start_time": "2023-01-22T11:41:50.119Z"
   },
   {
    "duration": 273,
    "start_time": "2023-01-22T11:41:50.195Z"
   },
   {
    "duration": 188,
    "start_time": "2023-01-22T11:41:50.471Z"
   },
   {
    "duration": 527,
    "start_time": "2023-01-22T11:41:50.661Z"
   },
   {
    "duration": 52,
    "start_time": "2023-01-22T11:41:51.191Z"
   },
   {
    "duration": 201,
    "start_time": "2023-01-22T11:41:51.245Z"
   },
   {
    "duration": 299,
    "start_time": "2023-01-22T11:41:51.537Z"
   },
   {
    "duration": 544,
    "start_time": "2023-01-22T11:41:51.839Z"
   },
   {
    "duration": 13,
    "start_time": "2023-01-22T11:41:52.384Z"
   },
   {
    "duration": 62,
    "start_time": "2023-01-22T11:41:52.399Z"
   },
   {
    "duration": 423,
    "start_time": "2023-01-22T11:41:52.463Z"
   },
   {
    "duration": 897,
    "start_time": "2023-01-22T11:41:52.888Z"
   },
   {
    "duration": 11,
    "start_time": "2023-01-22T11:41:53.787Z"
   },
   {
    "duration": 49,
    "start_time": "2023-01-22T11:41:53.799Z"
   },
   {
    "duration": 303,
    "start_time": "2023-01-22T11:41:53.849Z"
   },
   {
    "duration": 391,
    "start_time": "2023-01-22T11:41:54.154Z"
   },
   {
    "duration": 358,
    "start_time": "2023-01-22T11:41:54.547Z"
   },
   {
    "duration": 1757,
    "start_time": "2023-01-22T11:41:54.907Z"
   },
   {
    "duration": 1760,
    "start_time": "2023-01-22T11:41:56.666Z"
   },
   {
    "duration": 255,
    "start_time": "2023-01-22T11:41:58.438Z"
   },
   {
    "duration": 138,
    "start_time": "2023-01-22T11:41:58.695Z"
   },
   {
    "duration": 269,
    "start_time": "2023-01-22T11:41:58.836Z"
   },
   {
    "duration": 136,
    "start_time": "2023-01-22T11:41:59.107Z"
   },
   {
    "duration": 156,
    "start_time": "2023-01-22T11:42:25.919Z"
   },
   {
    "duration": 29,
    "start_time": "2023-01-22T11:42:35.623Z"
   },
   {
    "duration": 182,
    "start_time": "2023-01-22T11:42:41.303Z"
   },
   {
    "duration": 527,
    "start_time": "2023-01-22T11:42:49.092Z"
   },
   {
    "duration": 18,
    "start_time": "2023-01-22T11:45:57.442Z"
   },
   {
    "duration": 118,
    "start_time": "2023-01-22T11:46:16.732Z"
   },
   {
    "duration": 11,
    "start_time": "2023-01-22T11:46:32.034Z"
   },
   {
    "duration": 18,
    "start_time": "2023-01-22T11:46:54.995Z"
   },
   {
    "duration": 20,
    "start_time": "2023-01-22T11:48:33.655Z"
   },
   {
    "duration": 15,
    "start_time": "2023-01-22T11:51:25.821Z"
   },
   {
    "duration": 14,
    "start_time": "2023-01-22T11:51:44.501Z"
   },
   {
    "duration": 18,
    "start_time": "2023-01-22T11:51:49.093Z"
   },
   {
    "duration": 18,
    "start_time": "2023-01-22T11:52:03.341Z"
   },
   {
    "duration": 37,
    "start_time": "2023-01-22T11:52:07.829Z"
   },
   {
    "duration": 199,
    "start_time": "2023-01-22T11:52:12.247Z"
   },
   {
    "duration": 656,
    "start_time": "2023-01-22T11:52:24.717Z"
   },
   {
    "duration": 44,
    "start_time": "2023-01-22T11:53:45.512Z"
   },
   {
    "duration": 100,
    "start_time": "2023-01-22T11:55:01.984Z"
   },
   {
    "duration": 714,
    "start_time": "2023-01-22T11:57:27.985Z"
   },
   {
    "duration": 21,
    "start_time": "2023-01-22T11:59:30.035Z"
   },
   {
    "duration": 127,
    "start_time": "2023-01-22T11:59:34.376Z"
   },
   {
    "duration": 373,
    "start_time": "2023-01-22T11:59:42.431Z"
   },
   {
    "duration": 1645,
    "start_time": "2023-01-22T12:01:06.516Z"
   },
   {
    "duration": 80,
    "start_time": "2023-01-22T12:02:15.885Z"
   },
   {
    "duration": 191,
    "start_time": "2023-01-22T12:02:51.725Z"
   },
   {
    "duration": 76,
    "start_time": "2023-01-22T12:03:29.780Z"
   },
   {
    "duration": 83,
    "start_time": "2023-01-22T12:04:07.518Z"
   },
   {
    "duration": 28,
    "start_time": "2023-01-22T12:04:23.213Z"
   },
   {
    "duration": 30,
    "start_time": "2023-01-22T12:04:37.526Z"
   },
   {
    "duration": 29,
    "start_time": "2023-01-22T12:04:43.126Z"
   },
   {
    "duration": 102,
    "start_time": "2023-01-22T12:06:18.407Z"
   },
   {
    "duration": 138,
    "start_time": "2023-01-22T12:06:24.400Z"
   },
   {
    "duration": 117,
    "start_time": "2023-01-22T12:06:28.078Z"
   },
   {
    "duration": 75,
    "start_time": "2023-01-22T12:08:15.380Z"
   },
   {
    "duration": 3,
    "start_time": "2023-01-22T12:10:11.041Z"
   },
   {
    "duration": 1413,
    "start_time": "2023-01-22T12:12:28.563Z"
   },
   {
    "duration": 43,
    "start_time": "2023-01-22T12:12:29.978Z"
   },
   {
    "duration": 14,
    "start_time": "2023-01-22T12:12:30.023Z"
   },
   {
    "duration": 23,
    "start_time": "2023-01-22T12:12:30.039Z"
   },
   {
    "duration": 24,
    "start_time": "2023-01-22T12:12:30.064Z"
   },
   {
    "duration": 4,
    "start_time": "2023-01-22T12:12:30.089Z"
   },
   {
    "duration": 7,
    "start_time": "2023-01-22T12:12:30.094Z"
   },
   {
    "duration": 53,
    "start_time": "2023-01-22T12:12:30.102Z"
   },
   {
    "duration": 8,
    "start_time": "2023-01-22T12:12:30.157Z"
   },
   {
    "duration": 26,
    "start_time": "2023-01-22T12:12:30.168Z"
   },
   {
    "duration": 13,
    "start_time": "2023-01-22T12:12:30.196Z"
   },
   {
    "duration": 32,
    "start_time": "2023-01-22T12:12:30.211Z"
   },
   {
    "duration": 19590,
    "start_time": "2023-01-22T12:12:30.245Z"
   },
   {
    "duration": 2,
    "start_time": "2023-01-22T12:12:49.838Z"
   },
   {
    "duration": 23,
    "start_time": "2023-01-22T12:12:49.842Z"
   },
   {
    "duration": 11,
    "start_time": "2023-01-22T12:12:49.867Z"
   },
   {
    "duration": 9,
    "start_time": "2023-01-22T12:12:49.880Z"
   },
   {
    "duration": 7,
    "start_time": "2023-01-22T12:12:49.891Z"
   },
   {
    "duration": 22,
    "start_time": "2023-01-22T12:12:49.899Z"
   },
   {
    "duration": 3,
    "start_time": "2023-01-22T12:12:49.923Z"
   },
   {
    "duration": 27,
    "start_time": "2023-01-22T12:12:49.936Z"
   },
   {
    "duration": 4,
    "start_time": "2023-01-22T12:12:49.965Z"
   },
   {
    "duration": 7,
    "start_time": "2023-01-22T12:12:49.971Z"
   },
   {
    "duration": 60,
    "start_time": "2023-01-22T12:12:49.979Z"
   },
   {
    "duration": 38,
    "start_time": "2023-01-22T12:12:50.041Z"
   },
   {
    "duration": 174,
    "start_time": "2023-01-22T12:12:50.081Z"
   },
   {
    "duration": 555,
    "start_time": "2023-01-22T12:12:50.256Z"
   },
   {
    "duration": 29,
    "start_time": "2023-01-22T12:12:50.814Z"
   },
   {
    "duration": 201,
    "start_time": "2023-01-22T12:12:50.846Z"
   },
   {
    "duration": 367,
    "start_time": "2023-01-22T12:12:51.049Z"
   },
   {
    "duration": 542,
    "start_time": "2023-01-22T12:12:51.417Z"
   },
   {
    "duration": 14,
    "start_time": "2023-01-22T12:12:51.961Z"
   },
   {
    "duration": 65,
    "start_time": "2023-01-22T12:12:51.976Z"
   },
   {
    "duration": 364,
    "start_time": "2023-01-22T12:12:52.043Z"
   },
   {
    "duration": 658,
    "start_time": "2023-01-22T12:12:52.408Z"
   },
   {
    "duration": 11,
    "start_time": "2023-01-22T12:12:53.068Z"
   },
   {
    "duration": 60,
    "start_time": "2023-01-22T12:12:53.081Z"
   },
   {
    "duration": 254,
    "start_time": "2023-01-22T12:12:53.143Z"
   },
   {
    "duration": 375,
    "start_time": "2023-01-22T12:12:53.399Z"
   },
   {
    "duration": 321,
    "start_time": "2023-01-22T12:12:53.775Z"
   },
   {
    "duration": 1678,
    "start_time": "2023-01-22T12:12:54.097Z"
   },
   {
    "duration": 1667,
    "start_time": "2023-01-22T12:12:55.777Z"
   },
   {
    "duration": 30,
    "start_time": "2023-01-22T12:12:57.446Z"
   },
   {
    "duration": 138,
    "start_time": "2023-01-22T12:12:57.478Z"
   },
   {
    "duration": 99,
    "start_time": "2023-01-22T12:12:57.618Z"
   },
   {
    "duration": 127,
    "start_time": "2023-01-22T12:12:57.719Z"
   },
   {
    "duration": 3,
    "start_time": "2023-01-22T12:14:05.159Z"
   },
   {
    "duration": 38,
    "start_time": "2023-01-22T12:14:07.500Z"
   },
   {
    "duration": 9,
    "start_time": "2023-01-22T12:15:01.656Z"
   },
   {
    "duration": 1468,
    "start_time": "2023-01-22T12:15:43.524Z"
   },
   {
    "duration": 43,
    "start_time": "2023-01-22T12:15:44.993Z"
   },
   {
    "duration": 15,
    "start_time": "2023-01-22T12:15:45.038Z"
   },
   {
    "duration": 16,
    "start_time": "2023-01-22T12:15:45.055Z"
   },
   {
    "duration": 24,
    "start_time": "2023-01-22T12:15:45.073Z"
   },
   {
    "duration": 3,
    "start_time": "2023-01-22T12:15:45.099Z"
   },
   {
    "duration": 34,
    "start_time": "2023-01-22T12:15:45.104Z"
   },
   {
    "duration": 52,
    "start_time": "2023-01-22T12:15:45.140Z"
   },
   {
    "duration": 12,
    "start_time": "2023-01-22T12:15:45.194Z"
   },
   {
    "duration": 18,
    "start_time": "2023-01-22T12:15:45.211Z"
   },
   {
    "duration": 18,
    "start_time": "2023-01-22T12:15:45.230Z"
   },
   {
    "duration": 22,
    "start_time": "2023-01-22T12:15:45.250Z"
   },
   {
    "duration": 19420,
    "start_time": "2023-01-22T12:15:45.275Z"
   },
   {
    "duration": 4,
    "start_time": "2023-01-22T12:16:04.698Z"
   },
   {
    "duration": 25,
    "start_time": "2023-01-22T12:16:04.704Z"
   },
   {
    "duration": 23,
    "start_time": "2023-01-22T12:16:04.731Z"
   },
   {
    "duration": 16,
    "start_time": "2023-01-22T12:16:04.756Z"
   },
   {
    "duration": 24,
    "start_time": "2023-01-22T12:16:04.774Z"
   },
   {
    "duration": 33,
    "start_time": "2023-01-22T12:16:04.800Z"
   },
   {
    "duration": 18,
    "start_time": "2023-01-22T12:16:04.835Z"
   },
   {
    "duration": 35,
    "start_time": "2023-01-22T12:16:04.854Z"
   },
   {
    "duration": 8,
    "start_time": "2023-01-22T12:16:04.891Z"
   },
   {
    "duration": 22,
    "start_time": "2023-01-22T12:16:04.901Z"
   },
   {
    "duration": 62,
    "start_time": "2023-01-22T12:16:04.925Z"
   },
   {
    "duration": 37,
    "start_time": "2023-01-22T12:16:04.989Z"
   },
   {
    "duration": 161,
    "start_time": "2023-01-22T12:16:05.028Z"
   },
   {
    "duration": 535,
    "start_time": "2023-01-22T12:16:05.191Z"
   },
   {
    "duration": 99,
    "start_time": "2023-01-22T12:16:05.737Z"
   },
   {
    "duration": 199,
    "start_time": "2023-01-22T12:16:05.839Z"
   },
   {
    "duration": 267,
    "start_time": "2023-01-22T12:16:06.039Z"
   },
   {
    "duration": 506,
    "start_time": "2023-01-22T12:16:06.308Z"
   },
   {
    "duration": 24,
    "start_time": "2023-01-22T12:16:06.815Z"
   },
   {
    "duration": 98,
    "start_time": "2023-01-22T12:16:06.840Z"
   },
   {
    "duration": 280,
    "start_time": "2023-01-22T12:16:06.940Z"
   },
   {
    "duration": 643,
    "start_time": "2023-01-22T12:16:07.222Z"
   },
   {
    "duration": 11,
    "start_time": "2023-01-22T12:16:07.867Z"
   },
   {
    "duration": 62,
    "start_time": "2023-01-22T12:16:07.880Z"
   },
   {
    "duration": 279,
    "start_time": "2023-01-22T12:16:07.944Z"
   },
   {
    "duration": 445,
    "start_time": "2023-01-22T12:16:08.225Z"
   },
   {
    "duration": 324,
    "start_time": "2023-01-22T12:16:08.671Z"
   },
   {
    "duration": 1761,
    "start_time": "2023-01-22T12:16:08.997Z"
   },
   {
    "duration": 1637,
    "start_time": "2023-01-22T12:16:10.759Z"
   },
   {
    "duration": 41,
    "start_time": "2023-01-22T12:16:12.398Z"
   },
   {
    "duration": 125,
    "start_time": "2023-01-22T12:16:12.441Z"
   },
   {
    "duration": 86,
    "start_time": "2023-01-22T12:16:12.567Z"
   },
   {
    "duration": 127,
    "start_time": "2023-01-22T12:16:12.655Z"
   },
   {
    "duration": 44,
    "start_time": "2023-01-22T12:21:35.800Z"
   },
   {
    "duration": 3,
    "start_time": "2023-01-22T12:25:52.597Z"
   },
   {
    "duration": 1376,
    "start_time": "2023-01-22T12:26:41.569Z"
   },
   {
    "duration": 42,
    "start_time": "2023-01-22T12:26:42.947Z"
   },
   {
    "duration": 14,
    "start_time": "2023-01-22T12:26:42.991Z"
   },
   {
    "duration": 19,
    "start_time": "2023-01-22T12:26:43.007Z"
   },
   {
    "duration": 23,
    "start_time": "2023-01-22T12:26:43.028Z"
   },
   {
    "duration": 3,
    "start_time": "2023-01-22T12:26:43.053Z"
   },
   {
    "duration": 50,
    "start_time": "2023-01-22T12:26:43.058Z"
   },
   {
    "duration": 0,
    "start_time": "2023-01-22T12:26:43.111Z"
   },
   {
    "duration": 0,
    "start_time": "2023-01-22T12:26:43.112Z"
   },
   {
    "duration": 0,
    "start_time": "2023-01-22T12:26:43.113Z"
   },
   {
    "duration": 0,
    "start_time": "2023-01-22T12:26:43.114Z"
   },
   {
    "duration": 0,
    "start_time": "2023-01-22T12:26:43.115Z"
   },
   {
    "duration": 0,
    "start_time": "2023-01-22T12:26:43.117Z"
   },
   {
    "duration": 0,
    "start_time": "2023-01-22T12:26:43.118Z"
   },
   {
    "duration": 0,
    "start_time": "2023-01-22T12:26:43.120Z"
   },
   {
    "duration": 0,
    "start_time": "2023-01-22T12:26:43.122Z"
   },
   {
    "duration": 0,
    "start_time": "2023-01-22T12:26:43.123Z"
   },
   {
    "duration": 0,
    "start_time": "2023-01-22T12:26:43.124Z"
   },
   {
    "duration": 0,
    "start_time": "2023-01-22T12:26:43.125Z"
   },
   {
    "duration": 0,
    "start_time": "2023-01-22T12:26:43.126Z"
   },
   {
    "duration": 0,
    "start_time": "2023-01-22T12:26:43.127Z"
   },
   {
    "duration": 0,
    "start_time": "2023-01-22T12:26:43.128Z"
   },
   {
    "duration": 0,
    "start_time": "2023-01-22T12:26:43.129Z"
   },
   {
    "duration": 0,
    "start_time": "2023-01-22T12:26:43.130Z"
   },
   {
    "duration": 0,
    "start_time": "2023-01-22T12:26:43.131Z"
   },
   {
    "duration": 0,
    "start_time": "2023-01-22T12:26:43.132Z"
   },
   {
    "duration": 0,
    "start_time": "2023-01-22T12:26:43.136Z"
   },
   {
    "duration": 0,
    "start_time": "2023-01-22T12:26:43.137Z"
   },
   {
    "duration": 0,
    "start_time": "2023-01-22T12:26:43.137Z"
   },
   {
    "duration": 0,
    "start_time": "2023-01-22T12:26:43.138Z"
   },
   {
    "duration": 0,
    "start_time": "2023-01-22T12:26:43.139Z"
   },
   {
    "duration": 0,
    "start_time": "2023-01-22T12:26:43.140Z"
   },
   {
    "duration": 0,
    "start_time": "2023-01-22T12:26:43.141Z"
   },
   {
    "duration": 0,
    "start_time": "2023-01-22T12:26:43.142Z"
   },
   {
    "duration": 0,
    "start_time": "2023-01-22T12:26:43.143Z"
   },
   {
    "duration": 0,
    "start_time": "2023-01-22T12:26:43.144Z"
   },
   {
    "duration": 0,
    "start_time": "2023-01-22T12:26:43.145Z"
   },
   {
    "duration": 0,
    "start_time": "2023-01-22T12:26:43.146Z"
   },
   {
    "duration": 0,
    "start_time": "2023-01-22T12:26:43.147Z"
   },
   {
    "duration": 0,
    "start_time": "2023-01-22T12:26:43.147Z"
   },
   {
    "duration": 0,
    "start_time": "2023-01-22T12:26:43.148Z"
   },
   {
    "duration": 0,
    "start_time": "2023-01-22T12:26:43.149Z"
   },
   {
    "duration": 0,
    "start_time": "2023-01-22T12:26:43.150Z"
   },
   {
    "duration": 0,
    "start_time": "2023-01-22T12:26:43.151Z"
   },
   {
    "duration": 0,
    "start_time": "2023-01-22T12:26:43.152Z"
   },
   {
    "duration": 0,
    "start_time": "2023-01-22T12:26:43.153Z"
   },
   {
    "duration": 0,
    "start_time": "2023-01-22T12:26:43.155Z"
   },
   {
    "duration": 173,
    "start_time": "2023-01-22T12:27:08.228Z"
   },
   {
    "duration": 4,
    "start_time": "2023-01-22T12:27:19.060Z"
   },
   {
    "duration": 48,
    "start_time": "2023-01-22T12:27:19.066Z"
   },
   {
    "duration": 16,
    "start_time": "2023-01-22T12:27:19.116Z"
   },
   {
    "duration": 13,
    "start_time": "2023-01-22T12:27:19.134Z"
   },
   {
    "duration": 23,
    "start_time": "2023-01-22T12:27:19.149Z"
   },
   {
    "duration": 4,
    "start_time": "2023-01-22T12:27:19.174Z"
   },
   {
    "duration": 41,
    "start_time": "2023-01-22T12:27:19.180Z"
   },
   {
    "duration": 0,
    "start_time": "2023-01-22T12:27:19.224Z"
   },
   {
    "duration": 0,
    "start_time": "2023-01-22T12:27:19.226Z"
   },
   {
    "duration": 0,
    "start_time": "2023-01-22T12:27:19.227Z"
   },
   {
    "duration": 0,
    "start_time": "2023-01-22T12:27:19.229Z"
   },
   {
    "duration": 0,
    "start_time": "2023-01-22T12:27:19.236Z"
   },
   {
    "duration": 0,
    "start_time": "2023-01-22T12:27:19.237Z"
   },
   {
    "duration": 0,
    "start_time": "2023-01-22T12:27:19.238Z"
   },
   {
    "duration": 0,
    "start_time": "2023-01-22T12:27:19.239Z"
   },
   {
    "duration": 0,
    "start_time": "2023-01-22T12:27:19.240Z"
   },
   {
    "duration": 0,
    "start_time": "2023-01-22T12:27:19.241Z"
   },
   {
    "duration": 0,
    "start_time": "2023-01-22T12:27:19.242Z"
   },
   {
    "duration": 0,
    "start_time": "2023-01-22T12:27:19.245Z"
   },
   {
    "duration": 0,
    "start_time": "2023-01-22T12:27:19.246Z"
   },
   {
    "duration": 0,
    "start_time": "2023-01-22T12:27:19.247Z"
   },
   {
    "duration": 0,
    "start_time": "2023-01-22T12:27:19.249Z"
   },
   {
    "duration": 0,
    "start_time": "2023-01-22T12:27:19.250Z"
   },
   {
    "duration": 0,
    "start_time": "2023-01-22T12:27:19.251Z"
   },
   {
    "duration": 0,
    "start_time": "2023-01-22T12:27:19.252Z"
   },
   {
    "duration": 0,
    "start_time": "2023-01-22T12:27:19.253Z"
   },
   {
    "duration": 0,
    "start_time": "2023-01-22T12:27:19.255Z"
   },
   {
    "duration": 0,
    "start_time": "2023-01-22T12:27:19.256Z"
   },
   {
    "duration": 0,
    "start_time": "2023-01-22T12:27:19.259Z"
   },
   {
    "duration": 0,
    "start_time": "2023-01-22T12:27:19.262Z"
   },
   {
    "duration": 0,
    "start_time": "2023-01-22T12:27:19.263Z"
   },
   {
    "duration": 0,
    "start_time": "2023-01-22T12:27:19.265Z"
   },
   {
    "duration": 0,
    "start_time": "2023-01-22T12:27:19.266Z"
   },
   {
    "duration": 0,
    "start_time": "2023-01-22T12:27:19.267Z"
   },
   {
    "duration": 0,
    "start_time": "2023-01-22T12:27:19.269Z"
   },
   {
    "duration": 0,
    "start_time": "2023-01-22T12:27:19.270Z"
   },
   {
    "duration": 0,
    "start_time": "2023-01-22T12:27:19.272Z"
   },
   {
    "duration": 0,
    "start_time": "2023-01-22T12:27:19.273Z"
   },
   {
    "duration": 0,
    "start_time": "2023-01-22T12:27:19.274Z"
   },
   {
    "duration": 0,
    "start_time": "2023-01-22T12:27:19.276Z"
   },
   {
    "duration": 0,
    "start_time": "2023-01-22T12:27:19.277Z"
   },
   {
    "duration": 0,
    "start_time": "2023-01-22T12:27:19.338Z"
   },
   {
    "duration": 17,
    "start_time": "2023-01-22T12:27:19.344Z"
   },
   {
    "duration": 0,
    "start_time": "2023-01-22T12:27:19.363Z"
   },
   {
    "duration": 0,
    "start_time": "2023-01-22T12:27:19.364Z"
   },
   {
    "duration": 0,
    "start_time": "2023-01-22T12:27:19.366Z"
   },
   {
    "duration": 0,
    "start_time": "2023-01-22T12:27:19.366Z"
   },
   {
    "duration": 1457,
    "start_time": "2023-01-22T12:27:37.056Z"
   },
   {
    "duration": 44,
    "start_time": "2023-01-22T12:27:38.515Z"
   },
   {
    "duration": 16,
    "start_time": "2023-01-22T12:27:38.561Z"
   },
   {
    "duration": 22,
    "start_time": "2023-01-22T12:27:38.579Z"
   },
   {
    "duration": 34,
    "start_time": "2023-01-22T12:27:38.604Z"
   },
   {
    "duration": 3,
    "start_time": "2023-01-22T12:27:38.640Z"
   },
   {
    "duration": 7,
    "start_time": "2023-01-22T12:27:38.644Z"
   },
   {
    "duration": 4,
    "start_time": "2023-01-22T12:27:38.653Z"
   },
   {
    "duration": 5,
    "start_time": "2023-01-22T12:27:38.659Z"
   },
   {
    "duration": 18,
    "start_time": "2023-01-22T12:27:38.666Z"
   },
   {
    "duration": 16,
    "start_time": "2023-01-22T12:27:38.685Z"
   },
   {
    "duration": 43,
    "start_time": "2023-01-22T12:27:38.702Z"
   },
   {
    "duration": 19932,
    "start_time": "2023-01-22T12:27:38.747Z"
   },
   {
    "duration": 2,
    "start_time": "2023-01-22T12:27:58.683Z"
   },
   {
    "duration": 15,
    "start_time": "2023-01-22T12:27:58.687Z"
   },
   {
    "duration": 7,
    "start_time": "2023-01-22T12:27:58.704Z"
   },
   {
    "duration": 4,
    "start_time": "2023-01-22T12:27:58.713Z"
   },
   {
    "duration": 22,
    "start_time": "2023-01-22T12:27:58.718Z"
   },
   {
    "duration": 21,
    "start_time": "2023-01-22T12:27:58.742Z"
   },
   {
    "duration": 3,
    "start_time": "2023-01-22T12:27:58.764Z"
   },
   {
    "duration": 30,
    "start_time": "2023-01-22T12:27:58.769Z"
   },
   {
    "duration": 4,
    "start_time": "2023-01-22T12:27:58.801Z"
   },
   {
    "duration": 29,
    "start_time": "2023-01-22T12:27:58.806Z"
   },
   {
    "duration": 38,
    "start_time": "2023-01-22T12:27:58.838Z"
   },
   {
    "duration": 38,
    "start_time": "2023-01-22T12:27:58.878Z"
   },
   {
    "duration": 170,
    "start_time": "2023-01-22T12:27:58.937Z"
   },
   {
    "duration": 597,
    "start_time": "2023-01-22T12:27:59.108Z"
   },
   {
    "duration": 36,
    "start_time": "2023-01-22T12:27:59.707Z"
   },
   {
    "duration": 205,
    "start_time": "2023-01-22T12:27:59.745Z"
   },
   {
    "duration": 272,
    "start_time": "2023-01-22T12:28:00.036Z"
   },
   {
    "duration": 582,
    "start_time": "2023-01-22T12:28:00.310Z"
   },
   {
    "duration": 17,
    "start_time": "2023-01-22T12:28:00.894Z"
   },
   {
    "duration": 57,
    "start_time": "2023-01-22T12:28:00.913Z"
   },
   {
    "duration": 392,
    "start_time": "2023-01-22T12:28:00.971Z"
   },
   {
    "duration": 751,
    "start_time": "2023-01-22T12:28:01.366Z"
   },
   {
    "duration": 23,
    "start_time": "2023-01-22T12:28:02.118Z"
   },
   {
    "duration": 20,
    "start_time": "2023-01-22T12:28:02.143Z"
   },
   {
    "duration": 295,
    "start_time": "2023-01-22T12:28:02.165Z"
   },
   {
    "duration": 385,
    "start_time": "2023-01-22T12:28:02.464Z"
   },
   {
    "duration": 352,
    "start_time": "2023-01-22T12:28:02.851Z"
   },
   {
    "duration": 1772,
    "start_time": "2023-01-22T12:28:03.206Z"
   },
   {
    "duration": 1665,
    "start_time": "2023-01-22T12:28:04.979Z"
   },
   {
    "duration": 29,
    "start_time": "2023-01-22T12:28:06.646Z"
   },
   {
    "duration": 144,
    "start_time": "2023-01-22T12:28:06.676Z"
   },
   {
    "duration": 94,
    "start_time": "2023-01-22T12:28:06.822Z"
   },
   {
    "duration": 128,
    "start_time": "2023-01-22T12:28:06.918Z"
   },
   {
    "duration": 29,
    "start_time": "2023-01-22T12:29:10.437Z"
   },
   {
    "duration": 251,
    "start_time": "2023-01-22T12:33:57.023Z"
   },
   {
    "duration": 91,
    "start_time": "2023-01-22T12:34:11.246Z"
   },
   {
    "duration": 89,
    "start_time": "2023-01-22T12:34:50.716Z"
   },
   {
    "duration": 31,
    "start_time": "2023-01-22T12:34:57.692Z"
   },
   {
    "duration": 28,
    "start_time": "2023-01-22T12:35:35.259Z"
   },
   {
    "duration": 30,
    "start_time": "2023-01-22T12:36:09.764Z"
   },
   {
    "duration": 1422,
    "start_time": "2023-01-22T12:43:49.668Z"
   },
   {
    "duration": 42,
    "start_time": "2023-01-22T12:43:51.092Z"
   },
   {
    "duration": 13,
    "start_time": "2023-01-22T12:43:51.136Z"
   },
   {
    "duration": 34,
    "start_time": "2023-01-22T12:43:51.150Z"
   },
   {
    "duration": 36,
    "start_time": "2023-01-22T12:43:51.187Z"
   },
   {
    "duration": 9,
    "start_time": "2023-01-22T12:43:51.224Z"
   },
   {
    "duration": 19,
    "start_time": "2023-01-22T12:43:51.234Z"
   },
   {
    "duration": 23,
    "start_time": "2023-01-22T12:43:51.254Z"
   },
   {
    "duration": 14,
    "start_time": "2023-01-22T12:43:51.279Z"
   },
   {
    "duration": 40,
    "start_time": "2023-01-22T12:43:51.294Z"
   },
   {
    "duration": 27,
    "start_time": "2023-01-22T12:43:51.335Z"
   },
   {
    "duration": 36,
    "start_time": "2023-01-22T12:43:51.364Z"
   },
   {
    "duration": 19952,
    "start_time": "2023-01-22T12:43:51.402Z"
   },
   {
    "duration": 3,
    "start_time": "2023-01-22T12:44:11.359Z"
   },
   {
    "duration": 21,
    "start_time": "2023-01-22T12:44:11.364Z"
   },
   {
    "duration": 41,
    "start_time": "2023-01-22T12:44:11.387Z"
   },
   {
    "duration": 23,
    "start_time": "2023-01-22T12:44:11.430Z"
   },
   {
    "duration": 20,
    "start_time": "2023-01-22T12:44:11.455Z"
   },
   {
    "duration": 44,
    "start_time": "2023-01-22T12:44:11.477Z"
   },
   {
    "duration": 4,
    "start_time": "2023-01-22T12:44:11.523Z"
   },
   {
    "duration": 47,
    "start_time": "2023-01-22T12:44:11.528Z"
   },
   {
    "duration": 5,
    "start_time": "2023-01-22T12:44:11.577Z"
   },
   {
    "duration": 19,
    "start_time": "2023-01-22T12:44:11.584Z"
   },
   {
    "duration": 57,
    "start_time": "2023-01-22T12:44:11.605Z"
   },
   {
    "duration": 38,
    "start_time": "2023-01-22T12:44:11.664Z"
   },
   {
    "duration": 177,
    "start_time": "2023-01-22T12:44:11.704Z"
   },
   {
    "duration": 539,
    "start_time": "2023-01-22T12:44:11.883Z"
   },
   {
    "duration": 115,
    "start_time": "2023-01-22T12:44:12.424Z"
   },
   {
    "duration": 136,
    "start_time": "2023-01-22T12:44:12.542Z"
   },
   {
    "duration": 325,
    "start_time": "2023-01-22T12:44:12.680Z"
   },
   {
    "duration": 558,
    "start_time": "2023-01-22T12:44:13.006Z"
   },
   {
    "duration": 15,
    "start_time": "2023-01-22T12:44:13.566Z"
   },
   {
    "duration": 156,
    "start_time": "2023-01-22T12:44:13.583Z"
   },
   {
    "duration": 293,
    "start_time": "2023-01-22T12:44:13.743Z"
   },
   {
    "duration": 673,
    "start_time": "2023-01-22T12:44:14.038Z"
   },
   {
    "duration": 11,
    "start_time": "2023-01-22T12:44:14.713Z"
   },
   {
    "duration": 22,
    "start_time": "2023-01-22T12:44:14.736Z"
   },
   {
    "duration": 312,
    "start_time": "2023-01-22T12:44:14.760Z"
   },
   {
    "duration": 397,
    "start_time": "2023-01-22T12:44:15.074Z"
   },
   {
    "duration": 326,
    "start_time": "2023-01-22T12:44:15.473Z"
   },
   {
    "duration": 1802,
    "start_time": "2023-01-22T12:44:15.803Z"
   },
   {
    "duration": 1720,
    "start_time": "2023-01-22T12:44:17.607Z"
   },
   {
    "duration": 34,
    "start_time": "2023-01-22T12:44:19.336Z"
   },
   {
    "duration": 145,
    "start_time": "2023-01-22T12:44:19.372Z"
   },
   {
    "duration": 43,
    "start_time": "2023-03-03T14:09:02.397Z"
   },
   {
    "duration": 54,
    "start_time": "2023-04-08T06:42:47.133Z"
   },
   {
    "duration": 7,
    "start_time": "2023-04-08T06:43:08.360Z"
   },
   {
    "duration": 1583,
    "start_time": "2023-04-08T06:43:15.113Z"
   },
   {
    "duration": 160,
    "start_time": "2023-04-08T06:43:18.441Z"
   },
   {
    "duration": 37,
    "start_time": "2023-04-08T06:43:55.194Z"
   },
   {
    "duration": 197,
    "start_time": "2023-04-08T06:44:27.585Z"
   }
  ],
  "kernelspec": {
   "display_name": "Python 3 (ipykernel)",
   "language": "python",
   "name": "python3"
  },
  "language_info": {
   "codemirror_mode": {
    "name": "ipython",
    "version": 3
   },
   "file_extension": ".py",
   "mimetype": "text/x-python",
   "name": "python",
   "nbconvert_exporter": "python",
   "pygments_lexer": "ipython3",
   "version": "3.9.13"
  },
  "toc": {
   "base_numbering": 1,
   "nav_menu": {},
   "number_sections": true,
   "sideBar": false,
   "skip_h1_title": true,
   "title_cell": "Содержание",
   "title_sidebar": "Contents",
   "toc_cell": true,
   "toc_position": {
    "height": "1074px",
    "left": "0px",
    "top": "111.133px",
    "width": "516px"
   },
   "toc_section_display": true,
   "toc_window_display": false
  }
 },
 "nbformat": 4,
 "nbformat_minor": 2
}
